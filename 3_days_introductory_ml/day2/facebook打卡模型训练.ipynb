{
 "cells": [
  {
   "cell_type": "markdown",
   "metadata": {},
   "source": [
    "## 需求\n",
    "facebook创建了一个人造的世界，包括位于10平方公里(`x:0~10`, `y:0~10`)的地方。预测一个人想签入那个地方。train.csv源数据有2900w+，数据量较大，所有只抽取(`x:2~2.5`, `y:2~2.5`)的数据(7w+) train_simple.csv\n",
    "\n",
    "### 字段\n",
    "\n",
    "- row_id: 行数，主键；\n",
    "- x: 经度\n",
    "- y: 纬度\n",
    "- accuracy: 准确和精度\n",
    "- time: 时间\n",
    "- place_id: 地址 \n",
    "\n",
    "### 特征值\n",
    "目标值：place_id\n",
    "\n",
    "- x, y(x,y的值都为0~10)\n",
    "- accuracy：数据的准确度\n",
    "- year\n",
    "- month\n",
    "- day\n",
    "- hour\n"
   ]
  },
  {
   "cell_type": "code",
   "execution_count": 1,
   "metadata": {},
   "outputs": [
    {
     "name": "stdout",
     "output_type": "stream",
     "text": [
      "Using matplotlib backend: MacOSX\n"
     ]
    }
   ],
   "source": [
    "import os\n",
    "import pandas as pd\n",
    "%matplotlib\n",
    "%matplotlib inline\n",
    "\n",
    "STATIC_PATH = '../statics'"
   ]
  },
  {
   "cell_type": "markdown",
   "metadata": {},
   "source": [
    "##  获取数据"
   ]
  },
  {
   "cell_type": "code",
   "execution_count": 2,
   "metadata": {},
   "outputs": [],
   "source": [
    "df = pd.read_csv(os.path.join(STATIC_PATH, 'train_simple.csv'))"
   ]
  },
  {
   "cell_type": "markdown",
   "metadata": {},
   "source": [
    "## 数据处理和数据集划分\n",
    "### 数据处理\n",
    "时间戳才分为：年、月、周、日、小时\n",
    "\n",
    "### 数据集划分\n",
    "训练集: 测试机  8: 2\n"
   ]
  },
  {
   "cell_type": "code",
   "execution_count": 3,
   "metadata": {},
   "outputs": [],
   "source": [
    "# 数据处理\n",
    "df['year']=pd.DatetimeIndex(df['time']).year\n",
    "df['month']=pd.DatetimeIndex(df['time']).month\n",
    "df['week']=pd.DatetimeIndex(df['time']).week\n",
    "df['day']=pd.DatetimeIndex(df['time']).day\n",
    "df['hour']=pd.DatetimeIndex(df['time']).hour"
   ]
  },
  {
   "cell_type": "code",
   "execution_count": 4,
   "metadata": {},
   "outputs": [
    {
     "data": {
      "text/plain": [
       "place_id\n",
       "1006234733      1\n",
       "1008823061      4\n",
       "1012580558      3\n",
       "1025585791     21\n",
       "1026507711    220\n",
       "             ... \n",
       "9986101718      1\n",
       "9993141712      1\n",
       "9995108787     23\n",
       "9998968845     99\n",
       "9999851158      3\n",
       "Name: row_id, Length: 2524, dtype: int64"
      ]
     },
     "execution_count": 4,
     "metadata": {},
     "output_type": "execute_result"
    }
   ],
   "source": [
    "# 查看地址的热度，方便过滤低热度数据\n",
    "place_count = df.groupby('place_id').count()['row_id']\n",
    "place_count"
   ]
  },
  {
   "cell_type": "code",
   "execution_count": 5,
   "metadata": {},
   "outputs": [
    {
     "data": {
      "text/html": [
       "<div>\n",
       "<style scoped>\n",
       "    .dataframe tbody tr th:only-of-type {\n",
       "        vertical-align: middle;\n",
       "    }\n",
       "\n",
       "    .dataframe tbody tr th {\n",
       "        vertical-align: top;\n",
       "    }\n",
       "\n",
       "    .dataframe thead th {\n",
       "        text-align: right;\n",
       "    }\n",
       "</style>\n",
       "<table border=\"1\" class=\"dataframe\">\n",
       "  <thead>\n",
       "    <tr style=\"text-align: right;\">\n",
       "      <th></th>\n",
       "      <th>x</th>\n",
       "      <th>y</th>\n",
       "      <th>accuracy</th>\n",
       "      <th>time</th>\n",
       "      <th>place_id</th>\n",
       "      <th>year</th>\n",
       "      <th>week</th>\n",
       "      <th>day</th>\n",
       "      <th>hour</th>\n",
       "    </tr>\n",
       "  </thead>\n",
       "  <tbody>\n",
       "    <tr>\n",
       "      <th>0</th>\n",
       "      <td>2.1663</td>\n",
       "      <td>2.3755</td>\n",
       "      <td>84</td>\n",
       "      <td>669737</td>\n",
       "      <td>3869813743</td>\n",
       "      <td>1970</td>\n",
       "      <td>1</td>\n",
       "      <td>1</td>\n",
       "      <td>0</td>\n",
       "    </tr>\n",
       "    <tr>\n",
       "      <th>1</th>\n",
       "      <td>2.3695</td>\n",
       "      <td>2.2034</td>\n",
       "      <td>3</td>\n",
       "      <td>234719</td>\n",
       "      <td>2636621520</td>\n",
       "      <td>1970</td>\n",
       "      <td>1</td>\n",
       "      <td>1</td>\n",
       "      <td>0</td>\n",
       "    </tr>\n",
       "    <tr>\n",
       "      <th>2</th>\n",
       "      <td>2.3236</td>\n",
       "      <td>2.1768</td>\n",
       "      <td>66</td>\n",
       "      <td>502343</td>\n",
       "      <td>7877745055</td>\n",
       "      <td>1970</td>\n",
       "      <td>1</td>\n",
       "      <td>1</td>\n",
       "      <td>0</td>\n",
       "    </tr>\n",
       "    <tr>\n",
       "      <th>3</th>\n",
       "      <td>2.2613</td>\n",
       "      <td>2.3392</td>\n",
       "      <td>73</td>\n",
       "      <td>319822</td>\n",
       "      <td>9775192577</td>\n",
       "      <td>1970</td>\n",
       "      <td>1</td>\n",
       "      <td>1</td>\n",
       "      <td>0</td>\n",
       "    </tr>\n",
       "    <tr>\n",
       "      <th>4</th>\n",
       "      <td>2.3331</td>\n",
       "      <td>2.0011</td>\n",
       "      <td>66</td>\n",
       "      <td>595084</td>\n",
       "      <td>6731326909</td>\n",
       "      <td>1970</td>\n",
       "      <td>1</td>\n",
       "      <td>1</td>\n",
       "      <td>0</td>\n",
       "    </tr>\n",
       "    <tr>\n",
       "      <th>...</th>\n",
       "      <td>...</td>\n",
       "      <td>...</td>\n",
       "      <td>...</td>\n",
       "      <td>...</td>\n",
       "      <td>...</td>\n",
       "      <td>...</td>\n",
       "      <td>...</td>\n",
       "      <td>...</td>\n",
       "      <td>...</td>\n",
       "    </tr>\n",
       "    <tr>\n",
       "      <th>71659</th>\n",
       "      <td>2.0804</td>\n",
       "      <td>2.0657</td>\n",
       "      <td>168</td>\n",
       "      <td>217886</td>\n",
       "      <td>1247398579</td>\n",
       "      <td>1970</td>\n",
       "      <td>1</td>\n",
       "      <td>1</td>\n",
       "      <td>0</td>\n",
       "    </tr>\n",
       "    <tr>\n",
       "      <th>71660</th>\n",
       "      <td>2.4309</td>\n",
       "      <td>2.4646</td>\n",
       "      <td>33</td>\n",
       "      <td>314360</td>\n",
       "      <td>1951613663</td>\n",
       "      <td>1970</td>\n",
       "      <td>1</td>\n",
       "      <td>1</td>\n",
       "      <td>0</td>\n",
       "    </tr>\n",
       "    <tr>\n",
       "      <th>71661</th>\n",
       "      <td>2.1797</td>\n",
       "      <td>2.1707</td>\n",
       "      <td>89</td>\n",
       "      <td>74954</td>\n",
       "      <td>4724115005</td>\n",
       "      <td>1970</td>\n",
       "      <td>1</td>\n",
       "      <td>1</td>\n",
       "      <td>0</td>\n",
       "    </tr>\n",
       "    <tr>\n",
       "      <th>71662</th>\n",
       "      <td>2.3924</td>\n",
       "      <td>2.2704</td>\n",
       "      <td>62</td>\n",
       "      <td>206257</td>\n",
       "      <td>2819110495</td>\n",
       "      <td>1970</td>\n",
       "      <td>1</td>\n",
       "      <td>1</td>\n",
       "      <td>0</td>\n",
       "    </tr>\n",
       "    <tr>\n",
       "      <th>71663</th>\n",
       "      <td>2.4942</td>\n",
       "      <td>2.2430</td>\n",
       "      <td>11</td>\n",
       "      <td>160483</td>\n",
       "      <td>2634419689</td>\n",
       "      <td>1970</td>\n",
       "      <td>1</td>\n",
       "      <td>1</td>\n",
       "      <td>0</td>\n",
       "    </tr>\n",
       "  </tbody>\n",
       "</table>\n",
       "<p>68536 rows × 9 columns</p>\n",
       "</div>"
      ],
      "text/plain": [
       "            x       y  accuracy    time    place_id  year  week  day  hour\n",
       "0      2.1663  2.3755        84  669737  3869813743  1970     1    1     0\n",
       "1      2.3695  2.2034         3  234719  2636621520  1970     1    1     0\n",
       "2      2.3236  2.1768        66  502343  7877745055  1970     1    1     0\n",
       "3      2.2613  2.3392        73  319822  9775192577  1970     1    1     0\n",
       "4      2.3331  2.0011        66  595084  6731326909  1970     1    1     0\n",
       "...       ...     ...       ...     ...         ...   ...   ...  ...   ...\n",
       "71659  2.0804  2.0657       168  217886  1247398579  1970     1    1     0\n",
       "71660  2.4309  2.4646        33  314360  1951613663  1970     1    1     0\n",
       "71661  2.1797  2.1707        89   74954  4724115005  1970     1    1     0\n",
       "71662  2.3924  2.2704        62  206257  2819110495  1970     1    1     0\n",
       "71663  2.4942  2.2430        11  160483  2634419689  1970     1    1     0\n",
       "\n",
       "[68536 rows x 9 columns]"
      ]
     },
     "execution_count": 5,
     "metadata": {},
     "output_type": "execute_result"
    }
   ],
   "source": [
    "# 布尔过滤\n",
    "place_bool = df['place_id'].isin(place_count[place_count>5].index.values)\n",
    "df = df[place_bool]\n",
    "df = df[['x', 'y', 'accuracy', 'time', 'place_id', 'year', 'week', 'day', 'hour']]\n",
    "df"
   ]
  },
  {
   "cell_type": "code",
   "execution_count": 6,
   "metadata": {},
   "outputs": [],
   "source": [
    "# 数据集划分\n",
    "from sklearn.model_selection import train_test_split\n",
    "\n",
    "\n",
    "x = df[['x', 'y', 'accuracy', 'time', 'year', 'week', 'day', 'hour']]\n",
    "y = df['place_id']\n",
    "'place_id'\n",
    "x_train, x_test, y_train, y_test = train_test_split(x, y)"
   ]
  },
  {
   "cell_type": "markdown",
   "metadata": {},
   "source": [
    "## 特征工程"
   ]
  },
  {
   "cell_type": "code",
   "execution_count": 7,
   "metadata": {},
   "outputs": [
    {
     "data": {
      "text/plain": [
       "array([[ 1.40483666,  1.06974136,  0.55710852, ...,  0.        ,\n",
       "         0.        ,  0.        ],\n",
       "       [ 1.06953376, -1.82071584, -0.54367495, ...,  0.        ,\n",
       "         0.        ,  0.        ],\n",
       "       [ 1.36957663, -0.80613617, -0.56101013, ...,  0.        ,\n",
       "         0.        ,  0.        ],\n",
       "       ...,\n",
       "       [ 0.98969974, -1.23824492, -0.46566668, ...,  0.        ,\n",
       "         0.        ,  0.        ],\n",
       "       [ 0.46013406,  0.41354918, -0.43966392, ...,  0.        ,\n",
       "         0.        ,  0.        ],\n",
       "       [-0.27034724, -0.22074559, -0.18830391, ...,  0.        ,\n",
       "         0.        ,  0.        ]])"
      ]
     },
     "execution_count": 7,
     "metadata": {},
     "output_type": "execute_result"
    }
   ],
   "source": [
    "from sklearn.preprocessing import StandardScaler\n",
    "from sklearn.neighbors import KNeighborsClassifier\n",
    "from sklearn.model_selection import GridSearchCV\n",
    "\n",
    "\n",
    "transform = StandardScaler()\n",
    "x_train = transform.fit_transform(x_train)\n",
    "x_test = transform.transform(x_test)\n",
    "\n",
    "x_train"
   ]
  },
  {
   "cell_type": "markdown",
   "metadata": {},
   "source": [
    "## KNN算法预估流程"
   ]
  },
  {
   "cell_type": "code",
   "execution_count": 8,
   "metadata": {},
   "outputs": [
    {
     "name": "stderr",
     "output_type": "stream",
     "text": [
      "/Users/cleland/.pyenv/versions/3.7.1/envs/base/lib/python3.7/site-packages/sklearn/model_selection/_split.py:657: Warning: The least populated class in y has only 1 members, which is too few. The minimum number of members in any class cannot be less than n_splits=3.\n",
      "  % (min_groups, self.n_splits)), Warning)\n"
     ]
    },
    {
     "data": {
      "text/plain": [
       "GridSearchCV(cv=3, error_score='raise-deprecating',\n",
       "             estimator=KNeighborsClassifier(algorithm='auto', leaf_size=30,\n",
       "                                            metric='minkowski',\n",
       "                                            metric_params=None, n_jobs=None,\n",
       "                                            n_neighbors=5, p=2,\n",
       "                                            weights='uniform'),\n",
       "             iid='warn', n_jobs=None, param_grid={'n_neighbors': [1, 3, 5, 7]},\n",
       "             pre_dispatch='2*n_jobs', refit=True, return_train_score=False,\n",
       "             scoring=None, verbose=0)"
      ]
     },
     "execution_count": 8,
     "metadata": {},
     "output_type": "execute_result"
    }
   ],
   "source": [
    "estimator = KNeighborsClassifier()\n",
    "param_dict = {'n_neighbors': [1, 3, 5, 7]}\n",
    "estimator = GridSearchCV(estimator, param_grid=param_dict, cv=3)\n",
    "estimator.fit(x_train, y_train)"
   ]
  },
  {
   "cell_type": "markdown",
   "metadata": {},
   "source": [
    "## 模型选择与调优\n",
    "\n",
    "待补充"
   ]
  },
  {
   "cell_type": "markdown",
   "metadata": {},
   "source": [
    "## 模型评估"
   ]
  },
  {
   "cell_type": "code",
   "execution_count": 9,
   "metadata": {},
   "outputs": [
    {
     "name": "stdout",
     "output_type": "stream",
     "text": [
      "Train score: \n",
      " 0.5704447297770515\n",
      "Test score: \n",
      " 0.4590288315629742\n",
      "最佳参数: \n",
      " {'n_neighbors': 7}\n",
      "结果: \n",
      " 0.44315396288082176\n",
      "估计器: \n",
      " KNeighborsClassifier(algorithm='auto', leaf_size=30, metric='minkowski',\n",
      "                     metric_params=None, n_jobs=None, n_neighbors=7, p=2,\n",
      "                     weights='uniform')\n",
      "估计器: \n",
      " {'mean_fit_time': array([0.12838642, 0.16337442, 0.31869467, 0.17586374]), 'std_fit_time': array([0.07997169, 0.11918781, 0.09625784, 0.08802441]), 'mean_score_time': array([ 3.27969201, 10.83174483, 12.32311583,  6.78521125]), 'std_score_time': array([0.69300366, 4.666079  , 3.65715265, 2.29339767]), 'param_n_neighbors': masked_array(data=[1, 3, 5, 7],\n",
      "             mask=[False, False, False, False],\n",
      "       fill_value='?',\n",
      "            dtype=object), 'params': [{'n_neighbors': 1}, {'n_neighbors': 3}, {'n_neighbors': 5}, {'n_neighbors': 7}], 'split0_test_score': array([0.37836439, 0.4021164 , 0.42995169, 0.44174143]), 'split1_test_score': array([0.37292092, 0.397082  , 0.4274876 , 0.43939306]), 'split2_test_score': array([0.37531844, 0.40174181, 0.4346229 , 0.44842704]), 'mean_test_score': array([0.37554959, 0.40031516, 0.43066418, 0.44315396]), 'std_test_score': array([0.00223633, 0.0022914 , 0.00294645, 0.00381058]), 'rank_test_score': array([4, 3, 2, 1], dtype=int32)}\n"
     ]
    }
   ],
   "source": [
    "print('Train score: \\n', estimator.score(x_train, y_train))\n",
    "print('Test score: \\n', estimator.score(x_test, y_test))\n",
    "\n",
    "# 最佳参数\n",
    "print(u'最佳参数: \\n', estimator.best_params_)\n",
    "# 最佳结果\n",
    "print(u'结果: \\n', estimator.best_score_)\n",
    "# 最佳估计器\n",
    "print(u'估计器: \\n', estimator.best_estimator_)\n",
    "# 交叉验证结果\n",
    "print(u'估计器: \\n', estimator.cv_results_)"
   ]
  },
  {
   "cell_type": "code",
   "execution_count": null,
   "metadata": {},
   "outputs": [],
   "source": []
  }
 ],
 "metadata": {
  "kernelspec": {
   "display_name": "Python 3",
   "language": "python",
   "name": "python3"
  },
  "language_info": {
   "codemirror_mode": {
    "name": "ipython",
    "version": 3
   },
   "file_extension": ".py",
   "mimetype": "text/x-python",
   "name": "python",
   "nbconvert_exporter": "python",
   "pygments_lexer": "ipython3",
   "version": "3.7.1"
  }
 },
 "nbformat": 4,
 "nbformat_minor": 2
}
