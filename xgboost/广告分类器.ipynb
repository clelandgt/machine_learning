{
 "cells": [
  {
   "cell_type": "markdown",
   "metadata": {},
   "source": [
    "数据链接: https://archive.ics.uci.edu/ml/datasets/internet+advertisements"
   ]
  },
  {
   "cell_type": "code",
   "execution_count": 1,
   "metadata": {
    "ExecuteTime": {
     "end_time": "2020-05-05T13:04:25.954407Z",
     "start_time": "2020-05-05T13:04:24.072502Z"
    }
   },
   "outputs": [],
   "source": [
    "import numpy as np\n",
    "import pandas as pd\n",
    "import xgboost as xgb\n",
    "from xgboost.sklearn import XGBClassifier\n",
    "from sklearn.model_selection import GridSearchCV, train_test_split\n",
    "from sklearn import metrics\n",
    "\n",
    "# 可视化设置\n",
    "import matplotlib.pylab as plt\n",
    "import seaborn as sns\n",
    "%matplotlib inline\n",
    "%config InlineBackend.figure_format = 'retina'\n",
    "\n",
    "# 打印设置\n",
    "%config Application.log_level='ERROR'"
   ]
  },
  {
   "cell_type": "markdown",
   "metadata": {},
   "source": [
    "## 数据处理"
   ]
  },
  {
   "cell_type": "code",
   "execution_count": 2,
   "metadata": {
    "ExecuteTime": {
     "end_time": "2020-05-05T13:04:26.626424Z",
     "start_time": "2020-05-05T13:04:25.957409Z"
    }
   },
   "outputs": [
    {
     "name": "stderr",
     "output_type": "stream",
     "text": [
      "/Users/cleland/.pyenv/versions/3.7.1/envs/base/lib/python3.7/site-packages/IPython/core/interactiveshell.py:3058: DtypeWarning: Columns (3) have mixed types. Specify dtype option on import or set low_memory=False.\n",
      "  interactivity=interactivity, compiler=compiler, result=result)\n"
     ]
    },
    {
     "data": {
      "text/html": [
       "<div>\n",
       "<style scoped>\n",
       "    .dataframe tbody tr th:only-of-type {\n",
       "        vertical-align: middle;\n",
       "    }\n",
       "\n",
       "    .dataframe tbody tr th {\n",
       "        vertical-align: top;\n",
       "    }\n",
       "\n",
       "    .dataframe thead th {\n",
       "        text-align: right;\n",
       "    }\n",
       "</style>\n",
       "<table border=\"1\" class=\"dataframe\">\n",
       "  <thead>\n",
       "    <tr style=\"text-align: right;\">\n",
       "      <th></th>\n",
       "      <th>0</th>\n",
       "      <th>1</th>\n",
       "      <th>2</th>\n",
       "      <th>3</th>\n",
       "      <th>4</th>\n",
       "      <th>5</th>\n",
       "      <th>6</th>\n",
       "      <th>7</th>\n",
       "      <th>8</th>\n",
       "      <th>9</th>\n",
       "      <th>...</th>\n",
       "      <th>1549</th>\n",
       "      <th>1550</th>\n",
       "      <th>1551</th>\n",
       "      <th>1552</th>\n",
       "      <th>1553</th>\n",
       "      <th>1554</th>\n",
       "      <th>1555</th>\n",
       "      <th>1556</th>\n",
       "      <th>1557</th>\n",
       "      <th>1558</th>\n",
       "    </tr>\n",
       "  </thead>\n",
       "  <tbody>\n",
       "    <tr>\n",
       "      <th>0</th>\n",
       "      <td>125</td>\n",
       "      <td>125</td>\n",
       "      <td>1.0</td>\n",
       "      <td>1</td>\n",
       "      <td>0</td>\n",
       "      <td>0</td>\n",
       "      <td>0</td>\n",
       "      <td>0</td>\n",
       "      <td>0</td>\n",
       "      <td>0</td>\n",
       "      <td>...</td>\n",
       "      <td>0</td>\n",
       "      <td>0</td>\n",
       "      <td>0</td>\n",
       "      <td>0</td>\n",
       "      <td>0</td>\n",
       "      <td>0</td>\n",
       "      <td>0</td>\n",
       "      <td>0</td>\n",
       "      <td>0</td>\n",
       "      <td>ad.</td>\n",
       "    </tr>\n",
       "    <tr>\n",
       "      <th>1</th>\n",
       "      <td>57</td>\n",
       "      <td>468</td>\n",
       "      <td>8.2105</td>\n",
       "      <td>1</td>\n",
       "      <td>0</td>\n",
       "      <td>0</td>\n",
       "      <td>0</td>\n",
       "      <td>0</td>\n",
       "      <td>0</td>\n",
       "      <td>0</td>\n",
       "      <td>...</td>\n",
       "      <td>0</td>\n",
       "      <td>0</td>\n",
       "      <td>0</td>\n",
       "      <td>0</td>\n",
       "      <td>0</td>\n",
       "      <td>0</td>\n",
       "      <td>0</td>\n",
       "      <td>0</td>\n",
       "      <td>0</td>\n",
       "      <td>ad.</td>\n",
       "    </tr>\n",
       "    <tr>\n",
       "      <th>2</th>\n",
       "      <td>33</td>\n",
       "      <td>230</td>\n",
       "      <td>6.9696</td>\n",
       "      <td>1</td>\n",
       "      <td>0</td>\n",
       "      <td>0</td>\n",
       "      <td>0</td>\n",
       "      <td>0</td>\n",
       "      <td>0</td>\n",
       "      <td>0</td>\n",
       "      <td>...</td>\n",
       "      <td>0</td>\n",
       "      <td>0</td>\n",
       "      <td>0</td>\n",
       "      <td>0</td>\n",
       "      <td>0</td>\n",
       "      <td>0</td>\n",
       "      <td>0</td>\n",
       "      <td>0</td>\n",
       "      <td>0</td>\n",
       "      <td>ad.</td>\n",
       "    </tr>\n",
       "    <tr>\n",
       "      <th>3</th>\n",
       "      <td>60</td>\n",
       "      <td>468</td>\n",
       "      <td>7.8</td>\n",
       "      <td>1</td>\n",
       "      <td>0</td>\n",
       "      <td>0</td>\n",
       "      <td>0</td>\n",
       "      <td>0</td>\n",
       "      <td>0</td>\n",
       "      <td>0</td>\n",
       "      <td>...</td>\n",
       "      <td>0</td>\n",
       "      <td>0</td>\n",
       "      <td>0</td>\n",
       "      <td>0</td>\n",
       "      <td>0</td>\n",
       "      <td>0</td>\n",
       "      <td>0</td>\n",
       "      <td>0</td>\n",
       "      <td>0</td>\n",
       "      <td>ad.</td>\n",
       "    </tr>\n",
       "    <tr>\n",
       "      <th>4</th>\n",
       "      <td>60</td>\n",
       "      <td>468</td>\n",
       "      <td>7.8</td>\n",
       "      <td>1</td>\n",
       "      <td>0</td>\n",
       "      <td>0</td>\n",
       "      <td>0</td>\n",
       "      <td>0</td>\n",
       "      <td>0</td>\n",
       "      <td>0</td>\n",
       "      <td>...</td>\n",
       "      <td>0</td>\n",
       "      <td>0</td>\n",
       "      <td>0</td>\n",
       "      <td>0</td>\n",
       "      <td>0</td>\n",
       "      <td>0</td>\n",
       "      <td>0</td>\n",
       "      <td>0</td>\n",
       "      <td>0</td>\n",
       "      <td>ad.</td>\n",
       "    </tr>\n",
       "  </tbody>\n",
       "</table>\n",
       "<p>5 rows × 1559 columns</p>\n",
       "</div>"
      ],
      "text/plain": [
       "   0     1       2    3     4     5     6     7     8     9     ...  1549  \\\n",
       "0   125   125     1.0    1     0     0     0     0     0     0  ...     0   \n",
       "1    57   468  8.2105    1     0     0     0     0     0     0  ...     0   \n",
       "2    33   230  6.9696    1     0     0     0     0     0     0  ...     0   \n",
       "3    60   468     7.8    1     0     0     0     0     0     0  ...     0   \n",
       "4    60   468     7.8    1     0     0     0     0     0     0  ...     0   \n",
       "\n",
       "   1550  1551  1552  1553  1554  1555  1556  1557  1558  \n",
       "0     0     0     0     0     0     0     0     0   ad.  \n",
       "1     0     0     0     0     0     0     0     0   ad.  \n",
       "2     0     0     0     0     0     0     0     0   ad.  \n",
       "3     0     0     0     0     0     0     0     0   ad.  \n",
       "4     0     0     0     0     0     0     0     0   ad.  \n",
       "\n",
       "[5 rows x 1559 columns]"
      ]
     },
     "execution_count": 2,
     "metadata": {},
     "output_type": "execute_result"
    }
   ],
   "source": [
    "# 数据读取\n",
    "# 1. 设置error_bad_lines=True，忽略无效数据\n",
    "# 2. 如果没有只是简单的类型转换，不涉及到数据清洗，可直接用以下的converters. 但这里有？等特殊字符需要处理，所以数据读取时暂不做处理。\n",
    "# df = pd.read_csv('ad.data', sep=',', header=None, error_bad_lines=True, converters={0: pd.to_numeric, 1: pd.to_numeric, 2:pd.to_numeric})\n",
    "data = pd.read_csv('ad.data', sep=',', header=None, error_bad_lines=True)\n",
    "data.head(5)\n"
   ]
  },
  {
   "cell_type": "code",
   "execution_count": 3,
   "metadata": {
    "ExecuteTime": {
     "end_time": "2020-05-05T13:04:34.070707Z",
     "start_time": "2020-05-05T13:04:26.632473Z"
    }
   },
   "outputs": [
    {
     "data": {
      "text/html": [
       "<div>\n",
       "<style scoped>\n",
       "    .dataframe tbody tr th:only-of-type {\n",
       "        vertical-align: middle;\n",
       "    }\n",
       "\n",
       "    .dataframe tbody tr th {\n",
       "        vertical-align: top;\n",
       "    }\n",
       "\n",
       "    .dataframe thead th {\n",
       "        text-align: right;\n",
       "    }\n",
       "</style>\n",
       "<table border=\"1\" class=\"dataframe\">\n",
       "  <thead>\n",
       "    <tr style=\"text-align: right;\">\n",
       "      <th></th>\n",
       "      <th>0</th>\n",
       "      <th>1</th>\n",
       "      <th>2</th>\n",
       "      <th>3</th>\n",
       "      <th>4</th>\n",
       "      <th>5</th>\n",
       "      <th>6</th>\n",
       "      <th>7</th>\n",
       "      <th>8</th>\n",
       "      <th>9</th>\n",
       "      <th>...</th>\n",
       "      <th>1549</th>\n",
       "      <th>1550</th>\n",
       "      <th>1551</th>\n",
       "      <th>1552</th>\n",
       "      <th>1553</th>\n",
       "      <th>1554</th>\n",
       "      <th>1555</th>\n",
       "      <th>1556</th>\n",
       "      <th>1557</th>\n",
       "      <th>1558</th>\n",
       "    </tr>\n",
       "  </thead>\n",
       "  <tbody>\n",
       "    <tr>\n",
       "      <th>0</th>\n",
       "      <td>125</td>\n",
       "      <td>125</td>\n",
       "      <td>1.0</td>\n",
       "      <td>1</td>\n",
       "      <td>0</td>\n",
       "      <td>0</td>\n",
       "      <td>0</td>\n",
       "      <td>0</td>\n",
       "      <td>0</td>\n",
       "      <td>0</td>\n",
       "      <td>...</td>\n",
       "      <td>0</td>\n",
       "      <td>0</td>\n",
       "      <td>0</td>\n",
       "      <td>0</td>\n",
       "      <td>0</td>\n",
       "      <td>0</td>\n",
       "      <td>0</td>\n",
       "      <td>0</td>\n",
       "      <td>0</td>\n",
       "      <td>0</td>\n",
       "    </tr>\n",
       "    <tr>\n",
       "      <th>1</th>\n",
       "      <td>57</td>\n",
       "      <td>468</td>\n",
       "      <td>8.2105</td>\n",
       "      <td>1</td>\n",
       "      <td>0</td>\n",
       "      <td>0</td>\n",
       "      <td>0</td>\n",
       "      <td>0</td>\n",
       "      <td>0</td>\n",
       "      <td>0</td>\n",
       "      <td>...</td>\n",
       "      <td>0</td>\n",
       "      <td>0</td>\n",
       "      <td>0</td>\n",
       "      <td>0</td>\n",
       "      <td>0</td>\n",
       "      <td>0</td>\n",
       "      <td>0</td>\n",
       "      <td>0</td>\n",
       "      <td>0</td>\n",
       "      <td>0</td>\n",
       "    </tr>\n",
       "    <tr>\n",
       "      <th>2</th>\n",
       "      <td>33</td>\n",
       "      <td>230</td>\n",
       "      <td>6.9696</td>\n",
       "      <td>1</td>\n",
       "      <td>0</td>\n",
       "      <td>0</td>\n",
       "      <td>0</td>\n",
       "      <td>0</td>\n",
       "      <td>0</td>\n",
       "      <td>0</td>\n",
       "      <td>...</td>\n",
       "      <td>0</td>\n",
       "      <td>0</td>\n",
       "      <td>0</td>\n",
       "      <td>0</td>\n",
       "      <td>0</td>\n",
       "      <td>0</td>\n",
       "      <td>0</td>\n",
       "      <td>0</td>\n",
       "      <td>0</td>\n",
       "      <td>0</td>\n",
       "    </tr>\n",
       "    <tr>\n",
       "      <th>3</th>\n",
       "      <td>60</td>\n",
       "      <td>468</td>\n",
       "      <td>7.8</td>\n",
       "      <td>1</td>\n",
       "      <td>0</td>\n",
       "      <td>0</td>\n",
       "      <td>0</td>\n",
       "      <td>0</td>\n",
       "      <td>0</td>\n",
       "      <td>0</td>\n",
       "      <td>...</td>\n",
       "      <td>0</td>\n",
       "      <td>0</td>\n",
       "      <td>0</td>\n",
       "      <td>0</td>\n",
       "      <td>0</td>\n",
       "      <td>0</td>\n",
       "      <td>0</td>\n",
       "      <td>0</td>\n",
       "      <td>0</td>\n",
       "      <td>0</td>\n",
       "    </tr>\n",
       "    <tr>\n",
       "      <th>4</th>\n",
       "      <td>60</td>\n",
       "      <td>468</td>\n",
       "      <td>7.8</td>\n",
       "      <td>1</td>\n",
       "      <td>0</td>\n",
       "      <td>0</td>\n",
       "      <td>0</td>\n",
       "      <td>0</td>\n",
       "      <td>0</td>\n",
       "      <td>0</td>\n",
       "      <td>...</td>\n",
       "      <td>0</td>\n",
       "      <td>0</td>\n",
       "      <td>0</td>\n",
       "      <td>0</td>\n",
       "      <td>0</td>\n",
       "      <td>0</td>\n",
       "      <td>0</td>\n",
       "      <td>0</td>\n",
       "      <td>0</td>\n",
       "      <td>0</td>\n",
       "    </tr>\n",
       "  </tbody>\n",
       "</table>\n",
       "<p>5 rows × 1559 columns</p>\n",
       "</div>"
      ],
      "text/plain": [
       "   0     1       2    3     4     5     6     7     8     9     ...  1549  \\\n",
       "0   125   125     1.0    1     0     0     0     0     0     0  ...     0   \n",
       "1    57   468  8.2105    1     0     0     0     0     0     0  ...     0   \n",
       "2    33   230  6.9696    1     0     0     0     0     0     0  ...     0   \n",
       "3    60   468     7.8    1     0     0     0     0     0     0  ...     0   \n",
       "4    60   468     7.8    1     0     0     0     0     0     0  ...     0   \n",
       "\n",
       "   1550  1551  1552  1553  1554  1555  1556  1557  1558  \n",
       "0     0     0     0     0     0     0     0     0     0  \n",
       "1     0     0     0     0     0     0     0     0     0  \n",
       "2     0     0     0     0     0     0     0     0     0  \n",
       "3     0     0     0     0     0     0     0     0     0  \n",
       "4     0     0     0     0     0     0     0     0     0  \n",
       "\n",
       "[5 rows x 1559 columns]"
      ]
     },
     "execution_count": 3,
     "metadata": {},
     "output_type": "execute_result"
    }
   ],
   "source": [
    "# 将空格替换为空\n",
    "data = data.replace('[?]', np.nan, regex=True)\n",
    "# 将目标值label ad.， nonad.分别替换为0，1\n",
    "data[1558] = data[1558].apply(lambda item: 0 if item=='ad.' else 1)\n",
    "data.head(5)"
   ]
  },
  {
   "cell_type": "markdown",
   "metadata": {},
   "source": [
    "### 重命名列明"
   ]
  },
  {
   "cell_type": "code",
   "execution_count": 4,
   "metadata": {
    "ExecuteTime": {
     "end_time": "2020-05-05T13:04:34.184053Z",
     "start_time": "2020-05-05T13:04:34.076711Z"
    }
   },
   "outputs": [],
   "source": [
    "data.rename(columns={0: 'height', 1: 'width', 2: 'aratio', 1558: 'label'}, inplace=True)"
   ]
  },
  {
   "cell_type": "markdown",
   "metadata": {},
   "source": [
    "### 数据类型转换"
   ]
  },
  {
   "cell_type": "code",
   "execution_count": 5,
   "metadata": {
    "ExecuteTime": {
     "end_time": "2020-05-05T13:04:34.198913Z",
     "start_time": "2020-05-05T13:04:34.188271Z"
    }
   },
   "outputs": [
    {
     "data": {
      "text/plain": [
       "height    object\n",
       "width     object\n",
       "aratio    object\n",
       "3         object\n",
       "4          int64\n",
       "           ...  \n",
       "1554       int64\n",
       "1555       int64\n",
       "1556       int64\n",
       "1557       int64\n",
       "label      int64\n",
       "Length: 1559, dtype: object"
      ]
     },
     "execution_count": 5,
     "metadata": {},
     "output_type": "execute_result"
    }
   ],
   "source": [
    "data.dtypes"
   ]
  },
  {
   "cell_type": "code",
   "execution_count": 6,
   "metadata": {
    "ExecuteTime": {
     "end_time": "2020-05-05T13:04:34.258249Z",
     "start_time": "2020-05-05T13:04:34.216192Z"
    }
   },
   "outputs": [],
   "source": [
    "# 特征值0,1,2列式连续值，将其转化为float类型；其他特征值为离散值(0,1)将其转化为int类型, 需将3转化为int类型。\n",
    "data['height'] = pd.to_numeric(data['height'], downcast='float' ,errors='coerce')\n",
    "data['width'] = pd.to_numeric(data['width'], downcast='float' ,errors='coerce')\n",
    "data['aratio'] = pd.to_numeric(data['aratio'], downcast='float' ,errors='coerce')\n",
    "# 但这里data[3]转化为interger后为float32, 不知道原因。所以之后填充空值为0，再使用astype(int)的方式转化为int。astype转化时，其中的数据不为空。\n",
    "data[3] = pd.to_numeric(data[3], downcast='integer', errors='coerce').fillna(0).astype(int)\n",
    "# 如有没有类型转化比较简单可以用以下astype的方式\n",
    "# data['height'].astype(float)\n",
    "# data['width'].astype(float)\n",
    "# data['aratio'].astype(float)\n",
    "# data[3].astype(int)"
   ]
  },
  {
   "cell_type": "code",
   "execution_count": 7,
   "metadata": {
    "ExecuteTime": {
     "end_time": "2020-05-05T13:04:34.283604Z",
     "start_time": "2020-05-05T13:04:34.265386Z"
    }
   },
   "outputs": [
    {
     "data": {
      "text/plain": [
       "height    float32\n",
       "width     float32\n",
       "aratio    float32\n",
       "3           int64\n",
       "4           int64\n",
       "           ...   \n",
       "1554        int64\n",
       "1555        int64\n",
       "1556        int64\n",
       "1557        int64\n",
       "label       int64\n",
       "Length: 1559, dtype: object"
      ]
     },
     "execution_count": 7,
     "metadata": {},
     "output_type": "execute_result"
    }
   ],
   "source": [
    "data.dtypes"
   ]
  },
  {
   "cell_type": "markdown",
   "metadata": {},
   "source": [
    "## EDA\n",
    "\n",
    "ad.name文件上描述前3列是连续的(aratio=width/height)，后面的一些特征都是离散的0,1。lable目标值为ad.，nonad.，这里替换为0, 1"
   ]
  },
  {
   "cell_type": "code",
   "execution_count": 8,
   "metadata": {
    "ExecuteTime": {
     "end_time": "2020-05-05T13:04:34.309910Z",
     "start_time": "2020-05-05T13:04:34.300985Z"
    }
   },
   "outputs": [],
   "source": [
    "continuous_features = ['height','width','aratio']"
   ]
  },
  {
   "cell_type": "markdown",
   "metadata": {},
   "source": [
    "### 连续性特征分布"
   ]
  },
  {
   "cell_type": "code",
   "execution_count": 9,
   "metadata": {
    "ExecuteTime": {
     "end_time": "2020-05-05T13:04:36.277821Z",
     "start_time": "2020-05-05T13:04:34.319330Z"
    }
   },
   "outputs": [
    {
     "data": {
      "image/png": "[encoded data removed]",
      "text/plain": [
       "<Figure size 1080x576 with 4 Axes>"
      ]
     },
     "metadata": {
      "image/png": {
       "height": 481,
       "width": 877
      },
      "needs_background": "light"
     },
     "output_type": "display_data"
    }
   ],
   "source": [
    "data[continuous_features].hist(bins=100, figsize=(15,8))\n",
    "\n",
    "# 分开实现\n",
    "# n_bins = 10\n",
    "# fig, axes = plt.subplots(nrows=2, ncols=2)\n",
    "# ax0, ax1, ax2, ax3 = axes.flatten()\n",
    "\n",
    "# colors = ['red', 'tan', 'lime']\n",
    "\n",
    "# ax0.hist(data['height'], n_bins, density=True, histtype='bar')\n",
    "# ax0.legend(prop={'size': 10})\n",
    "# ax0.set_title('1')\n",
    "\n",
    "\n",
    "# ax1.hist(data['width'], n_bins, density=True, histtype='bar')\n",
    "# ax1.legend(prop={'size': 10})\n",
    "# ax1.set_title('2')\n",
    "\n",
    "\n",
    "# ax2.hist(data['aratio'], n_bins, density=True, histtype='bar')\n",
    "# ax2.legend(prop={'size': 10})\n",
    "# ax2.set_title('3')\n",
    "\n",
    "plt.show()"
   ]
  },
  {
   "cell_type": "markdown",
   "metadata": {},
   "source": [
    "### 目标值分布"
   ]
  },
  {
   "cell_type": "code",
   "execution_count": 10,
   "metadata": {
    "ExecuteTime": {
     "end_time": "2020-05-05T13:04:36.292617Z",
     "start_time": "2020-05-05T13:04:36.282920Z"
    }
   },
   "outputs": [
    {
     "data": {
      "text/plain": [
       "1    2820\n",
       "0     459\n",
       "Name: label, dtype: int64"
      ]
     },
     "execution_count": 10,
     "metadata": {},
     "output_type": "execute_result"
    }
   ],
   "source": [
    "# 目标值正负样本分布不是很均匀，训练模型时可设置超参数scale_pos_weight\n",
    "data['label'].value_counts()"
   ]
  },
  {
   "cell_type": "code",
   "execution_count": 11,
   "metadata": {
    "ExecuteTime": {
     "end_time": "2020-05-05T13:04:37.087525Z",
     "start_time": "2020-05-05T13:04:36.296430Z"
    }
   },
   "outputs": [
    {
     "data": {
      "text/plain": [
       "<seaborn.axisgrid.FacetGrid at 0x120a49cc0>"
      ]
     },
     "execution_count": 11,
     "metadata": {},
     "output_type": "execute_result"
    },
    {
     "data": {
      "image/png": "[encoded data removed]",
      "text/plain": [
       "<Figure size 360x360 with 1 Axes>"
      ]
     },
     "metadata": {
      "image/png": {
       "height": 351,
       "width": 352
      },
      "needs_background": "light"
     },
     "output_type": "display_data"
    }
   ],
   "source": [
    "# 这几个连续值与目标值的分布\n",
    "sns.catplot(x='label', y='width', kind=\"violin\", data=data)"
   ]
  },
  {
   "cell_type": "code",
   "execution_count": 12,
   "metadata": {
    "ExecuteTime": {
     "end_time": "2020-05-05T13:04:37.651263Z",
     "start_time": "2020-05-05T13:04:37.092491Z"
    }
   },
   "outputs": [
    {
     "data": {
      "text/plain": [
       "<seaborn.axisgrid.FacetGrid at 0x120a3be48>"
      ]
     },
     "execution_count": 12,
     "metadata": {},
     "output_type": "execute_result"
    },
    {
     "data": {
      "image/png": "[encoded data removed]",
      "text/plain": [
       "<Figure size 360x360 with 1 Axes>"
      ]
     },
     "metadata": {
      "image/png": {
       "height": 351,
       "width": 352
      },
      "needs_background": "light"
     },
     "output_type": "display_data"
    }
   ],
   "source": [
    "sns.catplot(x='label', y='height', kind=\"violin\", data=data)"
   ]
  },
  {
   "cell_type": "code",
   "execution_count": 13,
   "metadata": {
    "ExecuteTime": {
     "end_time": "2020-05-05T13:04:38.204322Z",
     "start_time": "2020-05-05T13:04:37.656168Z"
    }
   },
   "outputs": [
    {
     "data": {
      "text/plain": [
       "<seaborn.axisgrid.FacetGrid at 0x1209d0588>"
      ]
     },
     "execution_count": 13,
     "metadata": {},
     "output_type": "execute_result"
    },
    {
     "data": {
      "image/png": "[encoded data removed]",
      "text/plain": [
       "<Figure size 360x360 with 1 Axes>"
      ]
     },
     "metadata": {
      "image/png": {
       "height": 351,
       "width": 352
      },
      "needs_background": "light"
     },
     "output_type": "display_data"
    }
   ],
   "source": [
    "sns.catplot(x='label', y='aratio', kind=\"violin\", data=data)"
   ]
  },
  {
   "cell_type": "markdown",
   "metadata": {},
   "source": [
    "### 训练集与测试集分布比较"
   ]
  },
  {
   "cell_type": "code",
   "execution_count": 14,
   "metadata": {
    "ExecuteTime": {
     "end_time": "2020-05-05T13:04:38.310122Z",
     "start_time": "2020-05-05T13:04:38.211736Z"
    }
   },
   "outputs": [
    {
     "name": "stderr",
     "output_type": "stream",
     "text": [
      "/Users/cleland/.pyenv/versions/3.7.1/envs/base/lib/python3.7/site-packages/ipykernel_launcher.py:3: SettingWithCopyWarning: \n",
      "A value is trying to be set on a copy of a slice from a DataFrame.\n",
      "Try using .loc[row_indexer,col_indexer] = value instead\n",
      "\n",
      "See the caveats in the documentation: http://pandas.pydata.org/pandas-docs/stable/user_guide/indexing.html#returning-a-view-versus-a-copy\n",
      "  This is separate from the ipykernel package so we can avoid doing imports until\n",
      "/Users/cleland/.pyenv/versions/3.7.1/envs/base/lib/python3.7/site-packages/ipykernel_launcher.py:4: SettingWithCopyWarning: \n",
      "A value is trying to be set on a copy of a slice from a DataFrame.\n",
      "Try using .loc[row_indexer,col_indexer] = value instead\n",
      "\n",
      "See the caveats in the documentation: http://pandas.pydata.org/pandas-docs/stable/user_guide/indexing.html#returning-a-view-versus-a-copy\n",
      "  after removing the cwd from sys.path.\n"
     ]
    }
   ],
   "source": [
    "train_df, test_df = train_test_split(data, test_size=0.2, random_state=666)\n",
    "\n",
    "train_df['label'] = 0\n",
    "test_df['label'] = 1\n",
    "all_df = pd.concat([train_df, test_df], ignore_index=True)\n",
    "# sklearn里作为模型输入数据不能为空\n",
    "all_df = all_df.fillna(0)"
   ]
  },
  {
   "cell_type": "code",
   "execution_count": 15,
   "metadata": {
    "ExecuteTime": {
     "end_time": "2020-05-05T13:04:38.419973Z",
     "start_time": "2020-05-05T13:04:38.318954Z"
    }
   },
   "outputs": [],
   "source": [
    "from sklearn.metrics import roc_auc_score\n",
    "\n",
    "y_tmp = all_df['label']\n",
    "X_tmp = all_df.drop(['label'], 1)\n",
    "# 划分训练与测试数据集\n",
    "X_tmp_train, X_tmp_test, y_tmp_train, y_tmp_test = train_test_split(X_tmp, y_tmp, test_size=0.8, random_state=666)"
   ]
  },
  {
   "cell_type": "code",
   "execution_count": 16,
   "metadata": {
    "ExecuteTime": {
     "end_time": "2020-05-05T13:04:38.537937Z",
     "start_time": "2020-05-05T13:04:38.432980Z"
    }
   },
   "outputs": [
    {
     "name": "stderr",
     "output_type": "stream",
     "text": [
      "/Users/cleland/.pyenv/versions/3.7.1/envs/base/lib/python3.7/site-packages/sklearn/linear_model/logistic.py:432: FutureWarning: Default solver will be changed to 'lbfgs' in 0.22. Specify a solver to silence this warning.\n",
      "  FutureWarning)\n"
     ]
    },
    {
     "data": {
      "text/plain": [
       "0.510313914549499"
      ]
     },
     "execution_count": 16,
     "metadata": {},
     "output_type": "execute_result"
    }
   ],
   "source": [
    "from sklearn.linear_model import LogisticRegression\n",
    "\n",
    "# 使用逻辑回归\n",
    "clf = LogisticRegression()\n",
    "clf.fit(X_tmp_train, y_tmp_train)\n",
    "pre_df = clf.predict_proba(X_tmp_test)[:,1]\n",
    "roc_auc_score(y_tmp_test, pre_df)"
   ]
  },
  {
   "cell_type": "code",
   "execution_count": 17,
   "metadata": {
    "ExecuteTime": {
     "end_time": "2020-05-05T13:04:38.877176Z",
     "start_time": "2020-05-05T13:04:38.541684Z"
    }
   },
   "outputs": [
    {
     "data": {
      "text/plain": [
       "0.48936664766101046"
      ]
     },
     "execution_count": 17,
     "metadata": {},
     "output_type": "execute_result"
    }
   ],
   "source": [
    "from sklearn.tree import DecisionTreeClassifier\n",
    "\n",
    "# 使用决策树\n",
    "clf = DecisionTreeClassifier()\n",
    "clf.fit(X_tmp_train, y_tmp_train)\n",
    "pre_df = clf.predict_proba(X_tmp_test)[:,1]\n",
    "roc_auc_score(y_tmp_test, pre_df)"
   ]
  },
  {
   "cell_type": "markdown",
   "metadata": {
    "ExecuteTime": {
     "end_time": "2020-05-05T12:13:22.753205Z",
     "start_time": "2020-05-05T12:13:22.742466Z"
    }
   },
   "source": [
    "**结论:** 使用逻辑回归和绝对树，计算出的auc均接近与0.5. 说明训练和测试集特征分布比较一致。"
   ]
  },
  {
   "cell_type": "markdown",
   "metadata": {},
   "source": [
    "## 基准模型"
   ]
  },
  {
   "cell_type": "code",
   "execution_count": 18,
   "metadata": {
    "ExecuteTime": {
     "end_time": "2020-05-05T13:04:38.969029Z",
     "start_time": "2020-05-05T13:04:38.880314Z"
    }
   },
   "outputs": [],
   "source": [
    "y = data['label']\n",
    "X = data.drop('label', axis=1)\n",
    "\n",
    "X_train, X_test, y_train, y_test = train_test_split(X, y, test_size=0.8, random_state=666)\n"
   ]
  },
  {
   "cell_type": "markdown",
   "metadata": {},
   "source": [
    "### 基准模型训练"
   ]
  },
  {
   "cell_type": "code",
   "execution_count": 19,
   "metadata": {
    "ExecuteTime": {
     "end_time": "2020-05-05T13:04:39.599176Z",
     "start_time": "2020-05-05T13:04:38.973530Z"
    }
   },
   "outputs": [
    {
     "name": "stdout",
     "output_type": "stream",
     "text": [
      "[21:04:39] WARNING: /private/var/folders/r3/1hhvx75j0bd4qcy9ng4_d1540000gn/T/pip-install-edftga4q/xgboost/xgboost/src/learner.cc:328: \n",
      "Parameters: { evel_metric, n_estimators } might not be used.\n",
      "\n",
      "  This may not be accurate due to some parameters are only used in language bindings but\n",
      "  passed down to XGBoost core.  Or some parameters are not used but slip through this\n",
      "  verification. Please open an issue if you find above cases.\n",
      "\n",
      "\n",
      "[0]\ttrain-error:0.06412\ttest-error:0.09223\n",
      "[1]\ttrain-error:0.05344\ttest-error:0.07012\n",
      "[2]\ttrain-error:0.04886\ttest-error:0.06707\n",
      "[3]\ttrain-error:0.04886\ttest-error:0.06822\n",
      "[4]\ttrain-error:0.03206\ttest-error:0.06212\n",
      "Test auc:  0.9233783402135574\n"
     ]
    }
   ],
   "source": [
    "dtrain = xgb.DMatrix(X_train, y_train)\n",
    "dtest = xgb.DMatrix(X_test, y_test)\n",
    "\n",
    "params = {\n",
    "    'objective': 'binary:logistic', \n",
    "    'booster': 'gbtree',\n",
    "    'n_estimators': 100,\n",
    "    'learning_rate': 0.3,\n",
    "    'max_depth': 6,\n",
    "    'min_child_weight': 1,\n",
    "    'gamma': 0,\n",
    "    'subsample': 1,\n",
    "    'scale_pos_weight': len(data[data['label']==0])/len(data[data['label']==1]),\n",
    "    'evel_metric': 'auc',\n",
    "    'nthread': 8,\n",
    "    'seed': 666    \n",
    "}\n",
    "\n",
    "num_round = 5\n",
    "watch_list = [(dtrain, 'train'), (dtest, 'test')]\n",
    "\n",
    "model = xgb.train(params, dtrain, num_round, watch_list)\n",
    "test_predict = model.predict(dtest)\n",
    "\n",
    "print('Test auc: ', roc_auc_score(y_test, test_predict))"
   ]
  },
  {
   "cell_type": "markdown",
   "metadata": {},
   "source": [
    "### 特征重要性排名"
   ]
  },
  {
   "cell_type": "code",
   "execution_count": 20,
   "metadata": {
    "ExecuteTime": {
     "end_time": "2020-05-05T13:04:40.299897Z",
     "start_time": "2020-05-05T13:04:39.602415Z"
    }
   },
   "outputs": [
    {
     "data": {
      "text/plain": [
       "<matplotlib.axes._subplots.AxesSubplot at 0x1208248d0>"
      ]
     },
     "execution_count": 20,
     "metadata": {},
     "output_type": "execute_result"
    },
    {
     "data": {
      "image/png": "[encoded data removed]",
      "text/plain": [
       "<Figure size 432x288 with 1 Axes>"
      ]
     },
     "metadata": {
      "image/png": {
       "height": 277,
       "width": 405
      },
      "needs_background": "light"
     },
     "output_type": "display_data"
    }
   ],
   "source": [
    "# 特征重要性排名\n",
    "xgb.plot_importance(model, height=0.5)"
   ]
  },
  {
   "cell_type": "code",
   "execution_count": 21,
   "metadata": {
    "ExecuteTime": {
     "end_time": "2020-05-05T13:04:40.420897Z",
     "start_time": "2020-05-05T13:04:40.304226Z"
    }
   },
   "outputs": [
    {
     "data": {
      "image/svg+xml": [
       "<?xml version=\"1.0\" encoding=\"UTF-8\" standalone=\"no\"?>\n",
       "<!DOCTYPE svg PUBLIC \"-//W3C//DTD SVG 1.1//EN\"\n",
       " \"http://www.w3.org/Graphics/SVG/1.1/DTD/svg11.dtd\">\n",
       "<!-- Generated by graphviz version 2.42.3 (20191010.1750)\n",
       " -->\n",
       "<!-- Title: %3 Pages: 1 -->\n",
       "<svg width=\"884pt\" height=\"474pt\"\n",
       " viewBox=\"0.00 0.00 884.49 474.00\" xmlns=\"http://www.w3.org/2000/svg\" xmlns:xlink=\"http://www.w3.org/1999/xlink\">\n",
       "<g id=\"graph0\" class=\"graph\" transform=\"scale(1 1) rotate(0) translate(4 470)\">\n",
       "<title>%3</title>\n",
       "<polygon fill=\"white\" stroke=\"transparent\" points=\"-4,4 -4,-470 880.49,-470 880.49,4 -4,4\"/>\n",
       "<!-- 0 -->\n",
       "<g id=\"node1\" class=\"node\">\n",
       "<title>0</title>\n",
       "<ellipse fill=\"none\" stroke=\"black\" cx=\"517.2\" cy=\"-448\" rx=\"55.27\" ry=\"18\"/>\n",
       "<text text-anchor=\"middle\" x=\"517.2\" y=\"-443.8\" font-family=\"Times,serif\" font-size=\"14.00\">width&lt;256.5</text>\n",
       "</g>\n",
       "<!-- 1 -->\n",
       "<g id=\"node2\" class=\"node\">\n",
       "<title>1</title>\n",
       "<ellipse fill=\"none\" stroke=\"black\" cx=\"431.2\" cy=\"-362\" rx=\"43.67\" ry=\"18\"/>\n",
       "<text text-anchor=\"middle\" x=\"431.2\" y=\"-357.8\" font-family=\"Times,serif\" font-size=\"14.00\">1243&lt;0.5</text>\n",
       "</g>\n",
       "<!-- 0&#45;&gt;1 -->\n",
       "<g id=\"edge1\" class=\"edge\">\n",
       "<title>0&#45;&gt;1</title>\n",
       "<path fill=\"none\" stroke=\"#0000ff\" d=\"M500.61,-430.8C487.56,-418.06 469.21,-400.13 454.65,-385.91\"/>\n",
       "<polygon fill=\"#0000ff\" stroke=\"#0000ff\" points=\"457.03,-383.35 447.44,-378.86 452.14,-388.35 457.03,-383.35\"/>\n",
       "<text text-anchor=\"middle\" x=\"514.81\" y=\"-400.8\" font-family=\"Times,serif\" font-size=\"14.00\">yes, missing</text>\n",
       "</g>\n",
       "<!-- 2 -->\n",
       "<g id=\"node3\" class=\"node\">\n",
       "<title>2</title>\n",
       "<ellipse fill=\"none\" stroke=\"black\" cx=\"604.2\" cy=\"-362\" rx=\"52.85\" ry=\"18\"/>\n",
       "<text text-anchor=\"middle\" x=\"604.2\" y=\"-357.8\" font-family=\"Times,serif\" font-size=\"14.00\">height&lt;43.5</text>\n",
       "</g>\n",
       "<!-- 0&#45;&gt;2 -->\n",
       "<g id=\"edge2\" class=\"edge\">\n",
       "<title>0&#45;&gt;2</title>\n",
       "<path fill=\"none\" stroke=\"#ff0000\" d=\"M533.97,-430.8C547.09,-418.14 565.5,-400.36 580.18,-386.18\"/>\n",
       "<polygon fill=\"#ff0000\" stroke=\"#ff0000\" points=\"582.71,-388.61 587.47,-379.15 577.85,-383.57 582.71,-388.61\"/>\n",
       "<text text-anchor=\"middle\" x=\"573.2\" y=\"-400.8\" font-family=\"Times,serif\" font-size=\"14.00\">no</text>\n",
       "</g>\n",
       "<!-- 3 -->\n",
       "<g id=\"node4\" class=\"node\">\n",
       "<title>3</title>\n",
       "<ellipse fill=\"none\" stroke=\"black\" cx=\"296.2\" cy=\"-276\" rx=\"39.33\" ry=\"18\"/>\n",
       "<text text-anchor=\"middle\" x=\"296.2\" y=\"-271.8\" font-family=\"Times,serif\" font-size=\"14.00\">351&lt;0.5</text>\n",
       "</g>\n",
       "<!-- 1&#45;&gt;3 -->\n",
       "<g id=\"edge3\" class=\"edge\">\n",
       "<title>1&#45;&gt;3</title>\n",
       "<path fill=\"none\" stroke=\"#0000ff\" d=\"M401.53,-348.65C387.89,-342.52 371.71,-334.58 357.97,-326 345.2,-318.03 332,-307.86 321.1,-298.86\"/>\n",
       "<polygon fill=\"#0000ff\" stroke=\"#0000ff\" points=\"323.16,-296.02 313.26,-292.26 318.65,-301.37 323.16,-296.02\"/>\n",
       "<text text-anchor=\"middle\" x=\"392.81\" y=\"-314.8\" font-family=\"Times,serif\" font-size=\"14.00\">yes, missing</text>\n",
       "</g>\n",
       "<!-- 4 -->\n",
       "<g id=\"node5\" class=\"node\">\n",
       "<title>4</title>\n",
       "<ellipse fill=\"none\" stroke=\"black\" cx=\"431.2\" cy=\"-276\" rx=\"77.29\" ry=\"18\"/>\n",
       "<text text-anchor=\"middle\" x=\"431.2\" y=\"-271.8\" font-family=\"Times,serif\" font-size=\"14.00\">leaf=&#45;0.462702811</text>\n",
       "</g>\n",
       "<!-- 1&#45;&gt;4 -->\n",
       "<g id=\"edge4\" class=\"edge\">\n",
       "<title>1&#45;&gt;4</title>\n",
       "<path fill=\"none\" stroke=\"#ff0000\" d=\"M431.2,-343.6C431.2,-332.26 431.2,-317.23 431.2,-304.32\"/>\n",
       "<polygon fill=\"#ff0000\" stroke=\"#ff0000\" points=\"434.7,-304.1 431.2,-294.1 427.7,-304.1 434.7,-304.1\"/>\n",
       "<text text-anchor=\"middle\" x=\"438.2\" y=\"-314.8\" font-family=\"Times,serif\" font-size=\"14.00\">no</text>\n",
       "</g>\n",
       "<!-- 5 -->\n",
       "<g id=\"node12\" class=\"node\">\n",
       "<title>5</title>\n",
       "<ellipse fill=\"none\" stroke=\"black\" cx=\"604.2\" cy=\"-276\" rx=\"77.94\" ry=\"18\"/>\n",
       "<text text-anchor=\"middle\" x=\"604.2\" y=\"-271.8\" font-family=\"Times,serif\" font-size=\"14.00\">leaf=&#45;0.070152089</text>\n",
       "</g>\n",
       "<!-- 2&#45;&gt;5 -->\n",
       "<g id=\"edge11\" class=\"edge\">\n",
       "<title>2&#45;&gt;5</title>\n",
       "<path fill=\"none\" stroke=\"#ff0000\" d=\"M604.2,-343.6C604.2,-332.26 604.2,-317.23 604.2,-304.32\"/>\n",
       "<polygon fill=\"#ff0000\" stroke=\"#ff0000\" points=\"607.7,-304.1 604.2,-294.1 600.7,-304.1 607.7,-304.1\"/>\n",
       "<text text-anchor=\"middle\" x=\"611.2\" y=\"-314.8\" font-family=\"Times,serif\" font-size=\"14.00\">no</text>\n",
       "</g>\n",
       "<!-- 6 -->\n",
       "<g id=\"node13\" class=\"node\">\n",
       "<title>6</title>\n",
       "<ellipse fill=\"none\" stroke=\"black\" cx=\"777.2\" cy=\"-276\" rx=\"77.46\" ry=\"18\"/>\n",
       "<text text-anchor=\"middle\" x=\"777.2\" y=\"-271.8\" font-family=\"Times,serif\" font-size=\"14.00\">aratio&lt;7.73330021</text>\n",
       "</g>\n",
       "<!-- 2&#45;&gt;6 -->\n",
       "<g id=\"edge12\" class=\"edge\">\n",
       "<title>2&#45;&gt;6</title>\n",
       "<path fill=\"none\" stroke=\"#0000ff\" d=\"M633.15,-346.94C661.34,-333.25 704.46,-312.32 736.17,-296.92\"/>\n",
       "<polygon fill=\"#0000ff\" stroke=\"#0000ff\" points=\"737.74,-300.05 745.21,-292.53 734.68,-293.75 737.74,-300.05\"/>\n",
       "<text text-anchor=\"middle\" x=\"735.81\" y=\"-314.8\" font-family=\"Times,serif\" font-size=\"14.00\">yes, missing</text>\n",
       "</g>\n",
       "<!-- 7 -->\n",
       "<g id=\"node6\" class=\"node\">\n",
       "<title>7</title>\n",
       "<ellipse fill=\"none\" stroke=\"black\" cx=\"251.2\" cy=\"-190\" rx=\"81.81\" ry=\"18\"/>\n",
       "<text text-anchor=\"middle\" x=\"251.2\" y=\"-185.8\" font-family=\"Times,serif\" font-size=\"14.00\">aratio&lt;0.945900023</text>\n",
       "</g>\n",
       "<!-- 3&#45;&gt;7 -->\n",
       "<g id=\"edge5\" class=\"edge\">\n",
       "<title>3&#45;&gt;7</title>\n",
       "<path fill=\"none\" stroke=\"#0000ff\" d=\"M287.31,-258.4C280.98,-246.59 272.35,-230.49 265.12,-216.99\"/>\n",
       "<polygon fill=\"#0000ff\" stroke=\"#0000ff\" points=\"268.18,-215.3 260.38,-208.14 262.01,-218.61 268.18,-215.3\"/>\n",
       "<text text-anchor=\"middle\" x=\"311.81\" y=\"-228.8\" font-family=\"Times,serif\" font-size=\"14.00\">yes, missing</text>\n",
       "</g>\n",
       "<!-- 8 -->\n",
       "<g id=\"node7\" class=\"node\">\n",
       "<title>8</title>\n",
       "<ellipse fill=\"none\" stroke=\"black\" cx=\"428.2\" cy=\"-190\" rx=\"77.94\" ry=\"18\"/>\n",
       "<text text-anchor=\"middle\" x=\"428.2\" y=\"-185.8\" font-family=\"Times,serif\" font-size=\"14.00\">leaf=&#45;0.400000036</text>\n",
       "</g>\n",
       "<!-- 3&#45;&gt;8 -->\n",
       "<g id=\"edge6\" class=\"edge\">\n",
       "<title>3&#45;&gt;8</title>\n",
       "<path fill=\"none\" stroke=\"#ff0000\" d=\"M318.29,-260.94C339.08,-247.71 370.5,-227.72 394.43,-212.49\"/>\n",
       "<polygon fill=\"#ff0000\" stroke=\"#ff0000\" points=\"396.31,-215.44 402.87,-207.12 392.55,-209.53 396.31,-215.44\"/>\n",
       "<text text-anchor=\"middle\" x=\"377.2\" y=\"-228.8\" font-family=\"Times,serif\" font-size=\"14.00\">no</text>\n",
       "</g>\n",
       "<!-- 11 -->\n",
       "<g id=\"node8\" class=\"node\">\n",
       "<title>11</title>\n",
       "<ellipse fill=\"none\" stroke=\"black\" cx=\"166.2\" cy=\"-104\" rx=\"81.81\" ry=\"18\"/>\n",
       "<text text-anchor=\"middle\" x=\"166.2\" y=\"-99.8\" font-family=\"Times,serif\" font-size=\"14.00\">aratio&lt;0.828299999</text>\n",
       "</g>\n",
       "<!-- 7&#45;&gt;11 -->\n",
       "<g id=\"edge7\" class=\"edge\">\n",
       "<title>7&#45;&gt;11</title>\n",
       "<path fill=\"none\" stroke=\"#ff0000\" d=\"M234,-172C221.47,-159.62 204.34,-142.69 190.43,-128.95\"/>\n",
       "<polygon fill=\"#ff0000\" stroke=\"#ff0000\" points=\"192.65,-126.23 183.08,-121.69 187.73,-131.21 192.65,-126.23\"/>\n",
       "<text text-anchor=\"middle\" x=\"221.2\" y=\"-142.8\" font-family=\"Times,serif\" font-size=\"14.00\">no</text>\n",
       "</g>\n",
       "<!-- 12 -->\n",
       "<g id=\"node9\" class=\"node\">\n",
       "<title>12</title>\n",
       "<ellipse fill=\"none\" stroke=\"black\" cx=\"336.2\" cy=\"-104\" rx=\"70.21\" ry=\"18\"/>\n",
       "<text text-anchor=\"middle\" x=\"336.2\" y=\"-99.8\" font-family=\"Times,serif\" font-size=\"14.00\">leaf=0.46367085</text>\n",
       "</g>\n",
       "<!-- 7&#45;&gt;12 -->\n",
       "<g id=\"edge8\" class=\"edge\">\n",
       "<title>7&#45;&gt;12</title>\n",
       "<path fill=\"none\" stroke=\"#0000ff\" d=\"M268.4,-172C280.92,-159.62 298.06,-142.69 311.97,-128.95\"/>\n",
       "<polygon fill=\"#0000ff\" stroke=\"#0000ff\" points=\"314.66,-131.21 319.31,-121.69 309.74,-126.23 314.66,-131.21\"/>\n",
       "<text text-anchor=\"middle\" x=\"333.81\" y=\"-142.8\" font-family=\"Times,serif\" font-size=\"14.00\">yes, missing</text>\n",
       "</g>\n",
       "<!-- 13 -->\n",
       "<g id=\"node10\" class=\"node\">\n",
       "<title>13</title>\n",
       "<ellipse fill=\"none\" stroke=\"black\" cx=\"79.2\" cy=\"-18\" rx=\"79.39\" ry=\"18\"/>\n",
       "<text text-anchor=\"middle\" x=\"79.2\" y=\"-13.8\" font-family=\"Times,serif\" font-size=\"14.00\">leaf=0.0720954835</text>\n",
       "</g>\n",
       "<!-- 11&#45;&gt;13 -->\n",
       "<g id=\"edge9\" class=\"edge\">\n",
       "<title>11&#45;&gt;13</title>\n",
       "<path fill=\"none\" stroke=\"#ff0000\" d=\"M148.59,-86C135.77,-73.62 118.23,-56.69 104,-42.95\"/>\n",
       "<polygon fill=\"#ff0000\" stroke=\"#ff0000\" points=\"106.1,-40.11 96.48,-35.69 101.24,-45.15 106.1,-40.11\"/>\n",
       "<text text-anchor=\"middle\" x=\"135.2\" y=\"-56.8\" font-family=\"Times,serif\" font-size=\"14.00\">no</text>\n",
       "</g>\n",
       "<!-- 14 -->\n",
       "<g id=\"node11\" class=\"node\">\n",
       "<title>14</title>\n",
       "<ellipse fill=\"none\" stroke=\"black\" cx=\"254.2\" cy=\"-18\" rx=\"77.94\" ry=\"18\"/>\n",
       "<text text-anchor=\"middle\" x=\"254.2\" y=\"-13.8\" font-family=\"Times,serif\" font-size=\"14.00\">leaf=&#45;0.137158543</text>\n",
       "</g>\n",
       "<!-- 11&#45;&gt;14 -->\n",
       "<g id=\"edge10\" class=\"edge\">\n",
       "<title>11&#45;&gt;14</title>\n",
       "<path fill=\"none\" stroke=\"#0000ff\" d=\"M183.58,-86.4C196.72,-73.86 214.93,-56.48 229.56,-42.51\"/>\n",
       "<polygon fill=\"#0000ff\" stroke=\"#0000ff\" points=\"232.03,-45 236.85,-35.56 227.2,-39.93 232.03,-45\"/>\n",
       "<text text-anchor=\"middle\" x=\"250.81\" y=\"-56.8\" font-family=\"Times,serif\" font-size=\"14.00\">yes, missing</text>\n",
       "</g>\n",
       "<!-- 9 -->\n",
       "<g id=\"node14\" class=\"node\">\n",
       "<title>9</title>\n",
       "<ellipse fill=\"none\" stroke=\"black\" cx=\"634.2\" cy=\"-190\" rx=\"77.94\" ry=\"18\"/>\n",
       "<text text-anchor=\"middle\" x=\"634.2\" y=\"-185.8\" font-family=\"Times,serif\" font-size=\"14.00\">leaf=&#45;0.108809851</text>\n",
       "</g>\n",
       "<!-- 6&#45;&gt;9 -->\n",
       "<g id=\"edge13\" class=\"edge\">\n",
       "<title>6&#45;&gt;9</title>\n",
       "<path fill=\"none\" stroke=\"#ff0000\" d=\"M749.96,-259C727.3,-245.69 694.86,-226.63 670.08,-212.08\"/>\n",
       "<polygon fill=\"#ff0000\" stroke=\"#ff0000\" points=\"671.72,-208.99 661.33,-206.94 668.18,-215.02 671.72,-208.99\"/>\n",
       "<text text-anchor=\"middle\" x=\"722.2\" y=\"-228.8\" font-family=\"Times,serif\" font-size=\"14.00\">no</text>\n",
       "</g>\n",
       "<!-- 10 -->\n",
       "<g id=\"node15\" class=\"node\">\n",
       "<title>10</title>\n",
       "<ellipse fill=\"none\" stroke=\"black\" cx=\"803.2\" cy=\"-190\" rx=\"73.1\" ry=\"18\"/>\n",
       "<text text-anchor=\"middle\" x=\"803.2\" y=\"-185.8\" font-family=\"Times,serif\" font-size=\"14.00\">leaf=&#45;0.54826206</text>\n",
       "</g>\n",
       "<!-- 6&#45;&gt;10 -->\n",
       "<g id=\"edge14\" class=\"edge\">\n",
       "<title>6&#45;&gt;10</title>\n",
       "<path fill=\"none\" stroke=\"#0000ff\" d=\"M782.46,-258C786.05,-246.39 790.89,-230.76 794.99,-217.53\"/>\n",
       "<polygon fill=\"#0000ff\" stroke=\"#0000ff\" points=\"798.33,-218.56 797.94,-207.97 791.64,-216.49 798.33,-218.56\"/>\n",
       "<text text-anchor=\"middle\" x=\"825.81\" y=\"-228.8\" font-family=\"Times,serif\" font-size=\"14.00\">yes, missing</text>\n",
       "</g>\n",
       "</g>\n",
       "</svg>\n"
      ],
      "text/plain": [
       "<graphviz.files.Source at 0x12157efd0>"
      ]
     },
     "execution_count": 21,
     "metadata": {},
     "output_type": "execute_result"
    }
   ],
   "source": [
    "# 绘制决策过程\n",
    "xgb.to_graphviz(model)\n"
   ]
  },
  {
   "cell_type": "markdown",
   "metadata": {},
   "source": [
    "## 模型调优"
   ]
  },
  {
   "cell_type": "markdown",
   "metadata": {},
   "source": [
    "### 超参数调优"
   ]
  },
  {
   "cell_type": "markdown",
   "metadata": {},
   "source": [
    "### 模型融合"
   ]
  }
 ],
 "metadata": {
  "kernelspec": {
   "display_name": "Python 3",
   "language": "python",
   "name": "python3"
  },
  "language_info": {
   "codemirror_mode": {
    "name": "ipython",
    "version": 3
   },
   "file_extension": ".py",
   "mimetype": "text/x-python",
   "name": "python",
   "nbconvert_exporter": "python",
   "pygments_lexer": "ipython3",
   "version": "3.7.1"
  },
  "toc": {
   "base_numbering": 1,
   "nav_menu": {},
   "number_sections": true,
   "sideBar": true,
   "skip_h1_title": false,
   "title_cell": "Table of Contents",
   "title_sidebar": "Contents",
   "toc_cell": false,
   "toc_position": {},
   "toc_section_display": true,
   "toc_window_display": true
  }
 },
 "nbformat": 4,
 "nbformat_minor": 2
}
