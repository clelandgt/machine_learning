{
 "cells": [
  {
   "cell_type": "markdown",
   "metadata": {},
   "source": [
    "定义quality<6为低品质葡萄酒标识为0，quality>=6为高品质葡萄酒标识为1"
   ]
  },
  {
   "cell_type": "code",
   "execution_count": 1,
   "metadata": {},
   "outputs": [],
   "source": [
    "import numpy as np\n",
    "import pandas as pd\n",
    "import xgboost as xgb\n",
    "import matplotlib.pylab as plt\n",
    "from xgboost.sklearn import XGBClassifier\n",
    "from sklearn.model_selection import GridSearchCV, train_test_split\n",
    "from sklearn import metrics\n",
    "\n",
    "%matplotlib inline"
   ]
  },
  {
   "cell_type": "markdown",
   "metadata": {},
   "source": [
    "## 特征工程"
   ]
  },
  {
   "cell_type": "code",
   "execution_count": 2,
   "metadata": {},
   "outputs": [
    {
     "data": {
      "text/plain": [
       "5    681\n",
       "6    638\n",
       "7    199\n",
       "4     53\n",
       "8     18\n",
       "3     10\n",
       "Name: quality, dtype: int64"
      ]
     },
     "execution_count": 2,
     "metadata": {},
     "output_type": "execute_result"
    }
   ],
   "source": [
    "df = pd.read_csv('https://query.data.world/s/4ee2mcqmzj55nta6nhj7nu7mmyifob', sep=';')\n",
    "df['quality'].value_counts()"
   ]
  },
  {
   "cell_type": "code",
   "execution_count": 3,
   "metadata": {},
   "outputs": [],
   "source": [
    "# 类似数据处理，可参考https://stackoverflow.com/questions/49228596/pandas-case-when-default-in-pandas\n",
    "# 方法1\n",
    "df['quality'] = df['quality'].apply(lambda item: 0 if item<6 else 1)\n",
    "\n",
    "# # 方法2\n",
    "# df['quality'] = np.where(\n",
    "#     df['quality'].between(0, 6, inclusive=False), 0,\n",
    "#     np.where(df['quality'].between(6, 8, inclusive=True), 1, -1)\n",
    "# )\n",
    "\n",
    "# 切分训练与测试数据集\n",
    "X_train, X_test, y_train, y_test = train_test_split(df.iloc[:,0:11], df['quality'], test_size=0.2, random_state=666)\n"
   ]
  },
  {
   "cell_type": "markdown",
   "metadata": {},
   "source": [
    "## 基本模型"
   ]
  },
  {
   "cell_type": "code",
   "execution_count": 4,
   "metadata": {},
   "outputs": [],
   "source": [
    "def model_cv(model, X_train, y_train, nfold=5, early_stopping_rounds=30):\n",
    "    params = model.get_xgb_params()\n",
    "    dtrain = xgb.DMatrix(X_train.values, y_train.values)\n",
    "    # 交叉验证\n",
    "    result = xgb.cv(\n",
    "        params,\n",
    "        dtrain,\n",
    "        nfold=nfold,\n",
    "        metrics=['auc'],\n",
    "        early_stopping_rounds=early_stopping_rounds\n",
    "    )\n",
    "    \n",
    "    print(u'最优轮数: ', result.shape[0])\n",
    "    print(u'最优论详情')\n",
    "    print(result[result.shape[0]-1:])\n",
    "    \n",
    "    return result\n",
    "    "
   ]
  },
  {
   "cell_type": "code",
   "execution_count": 5,
   "metadata": {},
   "outputs": [],
   "source": [
    "def model_fit(model, X_train, y_train, X_test, y_test, cv_result):\n",
    "    model.set_params(n_estimators=cv_result.shape[0])\n",
    "    \n",
    "    # 训练集拟合模型\n",
    "    model.fit(X_train, y_train, eval_metric=['auc'])\n",
    "    \n",
    "    # 预测训练集 并评估模型\n",
    "    train_predict_proba = model.predict_proba(X_train)[:,1]\n",
    "    train_auc = metrics.roc_auc_score(y_train, train_predict_proba)\n",
    "    print(\"训练集AUC得分: \", train_auc)\n",
    "    \n",
    "    # 测试数据集\n",
    "    test_predict_proba = model.predict_proba(X_test)[:,1]\n",
    "    test_auc = metrics.roc_auc_score(y_test, test_predict_proba)\n",
    "    print(\"测试集AUC得分: \", test_auc)\n",
    "    "
   ]
  },
  {
   "cell_type": "code",
   "execution_count": 7,
   "metadata": {},
   "outputs": [],
   "source": [
    "model = XGBClassifier(\n",
    "    objective='binary:logistic',    \n",
    "    n_estimators=100,\n",
    "    max_depth=5,\n",
    "    min_child_weight=1,\n",
    "    nthread=8,\n",
    "    scale_pos_weight=1,\n",
    "    subsample=0.8,\n",
    "    colsample_bytree=0.8,\n",
    "    seed=666\n",
    ")"
   ]
  },
  {
   "cell_type": "code",
   "execution_count": 8,
   "metadata": {},
   "outputs": [
    {
     "name": "stdout",
     "output_type": "stream",
     "text": [
      "最优轮数:  10\n",
      "最优论详情\n",
      "   train-auc-mean  train-auc-std  test-auc-mean  test-auc-std\n",
      "9        0.952595       0.001735       0.845133      0.021583\n"
     ]
    }
   ],
   "source": [
    "cv_result = model_cv(model, X_train, y_train)"
   ]
  },
  {
   "cell_type": "code",
   "execution_count": 9,
   "metadata": {},
   "outputs": [
    {
     "name": "stdout",
     "output_type": "stream",
     "text": [
      "训练集AUC得分:  0.945128892029007\n",
      "测试集AUC得分:  0.8059946907563692\n"
     ]
    }
   ],
   "source": [
    "model_fit(model, X_train, y_train, X_test, y_test, cv_result)"
   ]
  },
  {
   "cell_type": "markdown",
   "metadata": {},
   "source": [
    "## max_depth、min_child_weight参数调优"
   ]
  },
  {
   "cell_type": "markdown",
   "metadata": {},
   "source": [
    "### 初步设置参数范围\n",
    "尽量范围跨度大写，对应的步长也大些"
   ]
  },
  {
   "cell_type": "code",
   "execution_count": 19,
   "metadata": {},
   "outputs": [
    {
     "name": "stdout",
     "output_type": "stream",
     "text": [
      "Fitting 5 folds for each of 18 candidates, totalling 90 fits\n"
     ]
    },
    {
     "name": "stderr",
     "output_type": "stream",
     "text": [
      "[Parallel(n_jobs=4)]: Using backend LokyBackend with 4 concurrent workers.\n",
      "[Parallel(n_jobs=4)]: Done   5 tasks      | elapsed:    3.9s\n",
      "[Parallel(n_jobs=4)]: Done  10 tasks      | elapsed:    4.2s\n",
      "[Parallel(n_jobs=4)]: Done  17 tasks      | elapsed:    4.6s\n",
      "[Parallel(n_jobs=4)]: Done  24 tasks      | elapsed:    5.1s\n",
      "[Parallel(n_jobs=4)]: Done  33 tasks      | elapsed:    6.1s\n",
      "[Parallel(n_jobs=4)]: Done  42 tasks      | elapsed:    6.9s\n",
      "[Parallel(n_jobs=4)]: Done  53 tasks      | elapsed:    8.4s\n",
      "[Parallel(n_jobs=4)]: Done  64 tasks      | elapsed:   11.9s\n",
      "[Parallel(n_jobs=4)]: Done  77 tasks      | elapsed:   14.6s\n",
      "[Parallel(n_jobs=4)]: Done  90 out of  90 | elapsed:   16.1s finished\n"
     ]
    },
    {
     "data": {
      "text/plain": [
       "GridSearchCV(cv=5, error_score='raise-deprecating',\n",
       "             estimator=XGBClassifier(base_score=None, booster=None,\n",
       "                                     colsample_bylevel=None,\n",
       "                                     colsample_bynode=None,\n",
       "                                     colsample_bytree=None, gamma=None,\n",
       "                                     gpu_id=None, importance_type='gain',\n",
       "                                     interaction_constraints=None,\n",
       "                                     learning_rate=None, max_delta_step=None,\n",
       "                                     max_depth=4, min_child_weight=1,\n",
       "                                     missing=nan, monotone_constraints=No...\n",
       "                                     objective='binary:logistic',\n",
       "                                     random_state=None, reg_alpha=None,\n",
       "                                     reg_lambda=None, scale_pos_weight=None,\n",
       "                                     seed=666, subsample=None, tree_method=None,\n",
       "                                     validate_parameters=False,\n",
       "                                     verbosity=None),\n",
       "             iid='warn', n_jobs=4,\n",
       "             param_grid={'max_depth': range(3, 15, 2),\n",
       "                         'min_child_weight': range(1, 6, 2)},\n",
       "             pre_dispatch='2*n_jobs', refit=True, return_train_score=False,\n",
       "             scoring='roc_auc', verbose=10)"
      ]
     },
     "execution_count": 19,
     "metadata": {},
     "output_type": "execute_result"
    }
   ],
   "source": [
    "bst1 = XGBClassifier(\n",
    "    objective='binary:logistic',    \n",
    "    n_estimators=100,\n",
    "    max_depth=5,\n",
    "    min_child_weight=1,\n",
    "    nthread=8,\n",
    "    scale_pos_weight=1,\n",
    "    subsample=0.8,\n",
    "    colsample_bytree=0.8,\n",
    "    seed=666\n",
    ")\n",
    "\n",
    "param1 = {\n",
    "    'max_depth': range(3,15,2),\n",
    "    'min_child_weight': range(1,6,2)\n",
    "}\n",
    "# jupyter后台可看打印的日志\n",
    "grid_search1 = GridSearchCV(\n",
    "    estimator=bst1,\n",
    "    param_grid=param1,\n",
    "    scoring='roc_auc',\n",
    "    n_jobs=4,\n",
    "    cv=5,\n",
    "    verbose=10\n",
    ")\n",
    "\n",
    "grid_search1.fit(X_train, y_train)"
   ]
  },
  {
   "cell_type": "code",
   "execution_count": 20,
   "metadata": {},
   "outputs": [
    {
     "name": "stdout",
     "output_type": "stream",
     "text": [
      "best_params:  {'max_depth': 13, 'min_child_weight': 1}\n",
      "best_score:  0.8683381597285968\n"
     ]
    }
   ],
   "source": [
    "print(\"best_params: \", grid_search1.best_params_)\n",
    "print(\"best_score: \", grid_search1.best_score_)"
   ]
  },
  {
   "cell_type": "markdown",
   "metadata": {},
   "source": [
    "### 微调\n",
    "微调这两个参数 max_depth=[7,8,9], min_child_weight=[1,2]后，发现分数没有差异。说明这两个max_depth=9, min_child_weight为最好参数。"
   ]
  },
  {
   "cell_type": "code",
   "execution_count": 11,
   "metadata": {},
   "outputs": [
    {
     "name": "stdout",
     "output_type": "stream",
     "text": [
      "Fitting 5 folds for each of 6 candidates, totalling 30 fits\n"
     ]
    },
    {
     "name": "stderr",
     "output_type": "stream",
     "text": [
      "[Parallel(n_jobs=4)]: Using backend LokyBackend with 4 concurrent workers.\n",
      "[Parallel(n_jobs=4)]: Done   5 tasks      | elapsed:    3.3s\n",
      "[Parallel(n_jobs=4)]: Done  10 tasks      | elapsed:    3.9s\n",
      "[Parallel(n_jobs=4)]: Done  17 tasks      | elapsed:    5.3s\n",
      "[Parallel(n_jobs=4)]: Done  27 out of  30 | elapsed:    6.8s remaining:    0.8s\n",
      "[Parallel(n_jobs=4)]: Done  30 out of  30 | elapsed:    7.2s finished\n"
     ]
    },
    {
     "data": {
      "text/plain": [
       "GridSearchCV(cv=5, error_score='raise-deprecating',\n",
       "             estimator=XGBClassifier(base_score=None, booster=None,\n",
       "                                     colsample_bylevel=None,\n",
       "                                     colsample_bynode=None,\n",
       "                                     colsample_bytree=0.8, gamma=None,\n",
       "                                     gpu_id=None, importance_type='gain',\n",
       "                                     interaction_constraints=None,\n",
       "                                     learning_rate=None, max_delta_step=None,\n",
       "                                     max_depth=4, min_child_weight=1,\n",
       "                                     missing=nan, monotone_constraints=Non...\n",
       "                                     num_parallel_tree=None,\n",
       "                                     objective='binary:logistic',\n",
       "                                     random_state=None, reg_alpha=None,\n",
       "                                     reg_lambda=None, scale_pos_weight=1,\n",
       "                                     seed=10, subsample=0.8, tree_method=None,\n",
       "                                     validate_parameters=False,\n",
       "                                     verbosity=None),\n",
       "             iid='warn', n_jobs=4,\n",
       "             param_grid={'max_depth': [7, 8, 9], 'min_child_weight': [1, 2]},\n",
       "             pre_dispatch='2*n_jobs', refit=True, return_train_score=False,\n",
       "             scoring='roc_auc', verbose=10)"
      ]
     },
     "execution_count": 11,
     "metadata": {},
     "output_type": "execute_result"
    }
   ],
   "source": [
    "param2 = {\n",
    "    'max_depth': [7,8,9],\n",
    "    'min_child_weight': [1,2]\n",
    "}\n",
    "# jupyter后台可看打印的日志\n",
    "grid_search2 = GridSearchCV(\n",
    "    estimator=bst1,\n",
    "    param_grid=param2,\n",
    "    scoring='roc_auc',\n",
    "    n_jobs=4,\n",
    "    cv=5,\n",
    "    verbose=10\n",
    ")\n",
    "\n",
    "grid_search2.fit(X_train, y_train)"
   ]
  },
  {
   "cell_type": "code",
   "execution_count": 12,
   "metadata": {},
   "outputs": [
    {
     "name": "stdout",
     "output_type": "stream",
     "text": [
      "best_params:  {'max_depth': 9, 'min_child_weight': 1}\n",
      "best_score:  0.8706992836328089\n"
     ]
    }
   ],
   "source": [
    "print(\"best_params: \", grid_search1.best_params_)\n",
    "print(\"best_score: \", grid_search1.best_score_)"
   ]
  },
  {
   "cell_type": "markdown",
   "metadata": {},
   "source": [
    "## Gamma参数调优"
   ]
  },
  {
   "cell_type": "markdown",
   "metadata": {},
   "source": [
    "### 初步设置参数范围\n",
    "\n",
    "范围：0~1，步长度0.1"
   ]
  },
  {
   "cell_type": "code",
   "execution_count": 23,
   "metadata": {},
   "outputs": [
    {
     "name": "stdout",
     "output_type": "stream",
     "text": [
      "Fitting 5 folds for each of 10 candidates, totalling 50 fits\n"
     ]
    },
    {
     "name": "stderr",
     "output_type": "stream",
     "text": [
      "[Parallel(n_jobs=4)]: Using backend LokyBackend with 4 concurrent workers.\n",
      "[Parallel(n_jobs=4)]: Done   5 tasks      | elapsed:    5.7s\n",
      "[Parallel(n_jobs=4)]: Done  10 tasks      | elapsed:    6.7s\n",
      "[Parallel(n_jobs=4)]: Done  17 tasks      | elapsed:    8.3s\n",
      "[Parallel(n_jobs=4)]: Done  24 tasks      | elapsed:    9.2s\n",
      "[Parallel(n_jobs=4)]: Done  33 tasks      | elapsed:   13.3s\n",
      "[Parallel(n_jobs=4)]: Done  42 tasks      | elapsed:   15.8s\n",
      "[Parallel(n_jobs=4)]: Done  50 out of  50 | elapsed:   17.8s finished\n"
     ]
    },
    {
     "data": {
      "text/plain": [
       "GridSearchCV(cv=5, error_score='raise-deprecating',\n",
       "             estimator=XGBClassifier(base_score=None, booster=None,\n",
       "                                     colsample_bylevel=None,\n",
       "                                     colsample_bynode=None,\n",
       "                                     colsample_bytree=0.8, gamma=None,\n",
       "                                     gpu_id=None, importance_type='gain',\n",
       "                                     interaction_constraints=None,\n",
       "                                     learning_rate=None, max_delta_step=None,\n",
       "                                     max_depth=9, min_child_weight=1,\n",
       "                                     missing=nan, monotone_constraints=Non...\n",
       "                                     objective='binary:logistic',\n",
       "                                     random_state=None, reg_alpha=None,\n",
       "                                     reg_lambda=None, scale_pos_weight=1,\n",
       "                                     seed=666, subsample=0.8, tree_method=None,\n",
       "                                     validate_parameters=False,\n",
       "                                     verbosity=None),\n",
       "             iid='warn', n_jobs=4,\n",
       "             param_grid={'gamma': [0.0, 0.1, 0.2, 0.3, 0.4, 0.5, 0.6, 0.7, 0.8,\n",
       "                                   0.9]},\n",
       "             pre_dispatch='2*n_jobs', refit=True, return_train_score=False,\n",
       "             scoring='roc_auc', verbose=10)"
      ]
     },
     "execution_count": 23,
     "metadata": {},
     "output_type": "execute_result"
    }
   ],
   "source": [
    "gamma_bst = XGBClassifier(\n",
    "    objective='binary:logistic',    \n",
    "    n_estimators=100,\n",
    "    max_depth=9,\n",
    "    min_child_weight=1,\n",
    "    nthread=8,\n",
    "    scale_pos_weight=1,\n",
    "    subsample=0.8,\n",
    "    colsample_bytree=0.8,\n",
    "    seed=666\n",
    ")\n",
    "\n",
    "gamma_param_01 = {\n",
    "    'gamma': [item/10.0 for item in range(0,10)]\n",
    "}\n",
    "# jupyter后台可看打印的日志\n",
    "gamma_grid_search_01 = GridSearchCV(\n",
    "    estimator=gamma_bst,\n",
    "    param_grid=gamma_param_01,\n",
    "    scoring='roc_auc',\n",
    "    n_jobs=4,\n",
    "    cv=5,\n",
    "    verbose=10\n",
    ")\n",
    "\n",
    "gamma_grid_search_01.fit(X_train, y_train)"
   ]
  },
  {
   "cell_type": "code",
   "execution_count": 14,
   "metadata": {},
   "outputs": [
    {
     "name": "stdout",
     "output_type": "stream",
     "text": [
      "best_params:  {'gamma': 0.0}\n",
      "best_score:  0.8706992836328089\n"
     ]
    }
   ],
   "source": [
    "print(\"best_params: \", gamma_grid_search_01.best_params_)\n",
    "print(\"best_score: \", gamma_grid_search_01.best_score_)"
   ]
  },
  {
   "cell_type": "markdown",
   "metadata": {},
   "source": [
    "### 微调\n",
    "\n",
    "范围:0~0.1 步长：0.01"
   ]
  },
  {
   "cell_type": "code",
   "execution_count": 15,
   "metadata": {},
   "outputs": [
    {
     "name": "stdout",
     "output_type": "stream",
     "text": [
      "Fitting 5 folds for each of 10 candidates, totalling 50 fits\n"
     ]
    },
    {
     "name": "stderr",
     "output_type": "stream",
     "text": [
      "[Parallel(n_jobs=4)]: Using backend LokyBackend with 4 concurrent workers.\n",
      "[Parallel(n_jobs=4)]: Done   5 tasks      | elapsed:    8.0s\n",
      "[Parallel(n_jobs=4)]: Done  10 tasks      | elapsed:   10.7s\n",
      "[Parallel(n_jobs=4)]: Done  17 tasks      | elapsed:   13.4s\n",
      "[Parallel(n_jobs=4)]: Done  24 tasks      | elapsed:   15.1s\n",
      "[Parallel(n_jobs=4)]: Done  33 tasks      | elapsed:   18.8s\n",
      "[Parallel(n_jobs=4)]: Done  42 tasks      | elapsed:   23.8s\n",
      "[Parallel(n_jobs=4)]: Done  50 out of  50 | elapsed:   26.1s finished\n"
     ]
    },
    {
     "data": {
      "text/plain": [
       "GridSearchCV(cv=5, error_score='raise-deprecating',\n",
       "             estimator=XGBClassifier(base_score=None, booster=None,\n",
       "                                     colsample_bylevel=None,\n",
       "                                     colsample_bynode=None,\n",
       "                                     colsample_bytree=0.8, gamma=None,\n",
       "                                     gpu_id=None, importance_type='gain',\n",
       "                                     interaction_constraints=None,\n",
       "                                     learning_rate=None, max_delta_step=None,\n",
       "                                     max_depth=9, min_child_weight=1,\n",
       "                                     missing=nan, monotone_constraints=Non...\n",
       "                                     num_parallel_tree=None,\n",
       "                                     objective='binary:logistic',\n",
       "                                     random_state=None, reg_alpha=None,\n",
       "                                     reg_lambda=None, scale_pos_weight=1,\n",
       "                                     seed=10, subsample=0.8, tree_method=None,\n",
       "                                     validate_parameters=False,\n",
       "                                     verbosity=None),\n",
       "             iid='warn', n_jobs=4,\n",
       "             param_grid={'gamma': [0.0, 0.1, 0.2, 0.3, 0.4, 0.5, 0.6, 0.7, 0.8,\n",
       "                                   0.9]},\n",
       "             pre_dispatch='2*n_jobs', refit=True, return_train_score=False,\n",
       "             scoring='roc_auc', verbose=10)"
      ]
     },
     "execution_count": 15,
     "metadata": {},
     "output_type": "execute_result"
    }
   ],
   "source": [
    "gamma_param_02 = {\n",
    "    'gamma': [item/10.0 for item in range(0,10)]\n",
    "}\n",
    "# jupyter后台可看打印的日志\n",
    "gamma_grid_search_02 = GridSearchCV(\n",
    "    estimator=gamma_bst,\n",
    "    param_grid=gamma_param_02,\n",
    "    scoring='roc_auc',\n",
    "    n_jobs=4,\n",
    "    cv=5,\n",
    "    verbose=10\n",
    ")\n",
    "\n",
    "gamma_grid_search_02.fit(X_train, y_train)"
   ]
  },
  {
   "cell_type": "code",
   "execution_count": 16,
   "metadata": {},
   "outputs": [
    {
     "name": "stdout",
     "output_type": "stream",
     "text": [
      "best_params:  {'gamma': 0.0}\n",
      "best_score:  0.8706992836328089\n"
     ]
    }
   ],
   "source": [
    "print(\"best_params: \", gamma_grid_search_02.best_params_)\n",
    "print(\"best_score: \", gamma_grid_search_02.best_score_)"
   ]
  },
  {
   "cell_type": "markdown",
   "metadata": {},
   "source": [
    "结论：score一样，说明gamma=0是最优参数"
   ]
  },
  {
   "cell_type": "markdown",
   "metadata": {},
   "source": [
    "### 将当前已调优的参数放入训练模型"
   ]
  },
  {
   "cell_type": "code",
   "execution_count": 24,
   "metadata": {},
   "outputs": [
    {
     "name": "stdout",
     "output_type": "stream",
     "text": [
      "最优轮数:  10\n",
      "最优论详情\n",
      "   train-auc-mean  train-auc-std  test-auc-mean  test-auc-std\n",
      "9        0.994709       0.001281       0.866575      0.021553\n"
     ]
    }
   ],
   "source": [
    "gamma_bst = XGBClassifier(\n",
    "    objective='binary:logistic',    \n",
    "    n_estimators=100,\n",
    "    max_depth=9,\n",
    "    min_child_weight=1,\n",
    "    nthread=8,\n",
    "    scale_pos_weight=1,\n",
    "    subsample=0.8,\n",
    "    colsample_bytree=0.8,\n",
    "    seed=666\n",
    ")\n",
    "\n",
    "gamma_cv_result = model_cv(gamma_bst, X_train, y_train)"
   ]
  },
  {
   "cell_type": "code",
   "execution_count": 25,
   "metadata": {},
   "outputs": [
    {
     "name": "stdout",
     "output_type": "stream",
     "text": [
      "训练集AUC得分:  0.9916762342135476\n",
      "测试集AUC得分:  0.8132255636118705\n"
     ]
    }
   ],
   "source": [
    "model_fit(gamma_bst, X_train, y_train, X_test, y_test, gamma_cv_result)"
   ]
  },
  {
   "cell_type": "markdown",
   "metadata": {},
   "source": [
    "结论：比最开始的分数好。基础(训练集AUC: 0.9778, 测试集AUC:0.8276); 调优后(训练集AUC: 0.9980, 测试集AUC:0.8355)"
   ]
  },
  {
   "cell_type": "markdown",
   "metadata": {},
   "source": [
    "## subsample和closample_bytree\n",
    "\n",
    "先粗后细, 首先取 0.6、0.7、0.8、0.9、1.0"
   ]
  },
  {
   "cell_type": "code",
   "execution_count": 30,
   "metadata": {},
   "outputs": [
    {
     "name": "stdout",
     "output_type": "stream",
     "text": [
      "Fitting 5 folds for each of 25 candidates, totalling 125 fits\n"
     ]
    },
    {
     "name": "stderr",
     "output_type": "stream",
     "text": [
      "[Parallel(n_jobs=4)]: Using backend LokyBackend with 4 concurrent workers.\n",
      "[Parallel(n_jobs=4)]: Done   5 tasks      | elapsed:    5.0s\n",
      "[Parallel(n_jobs=4)]: Done  10 tasks      | elapsed:    5.7s\n",
      "[Parallel(n_jobs=4)]: Done  17 tasks      | elapsed:    7.1s\n",
      "[Parallel(n_jobs=4)]: Done  24 tasks      | elapsed:    7.9s\n",
      "[Parallel(n_jobs=4)]: Done  33 tasks      | elapsed:    9.9s\n",
      "[Parallel(n_jobs=4)]: Done  42 tasks      | elapsed:   11.4s\n",
      "[Parallel(n_jobs=4)]: Done  53 tasks      | elapsed:   13.5s\n",
      "[Parallel(n_jobs=4)]: Done  64 tasks      | elapsed:   15.1s\n",
      "[Parallel(n_jobs=4)]: Done  77 tasks      | elapsed:   17.9s\n",
      "[Parallel(n_jobs=4)]: Done  90 tasks      | elapsed:   20.2s\n",
      "[Parallel(n_jobs=4)]: Done 105 tasks      | elapsed:   23.3s\n",
      "[Parallel(n_jobs=4)]: Done 125 out of 125 | elapsed:   27.5s finished\n"
     ]
    },
    {
     "data": {
      "text/plain": [
       "GridSearchCV(cv=5, error_score='raise-deprecating',\n",
       "             estimator=XGBClassifier(base_score=None, booster=None,\n",
       "                                     colsample_bylevel=None,\n",
       "                                     colsample_bynode=None,\n",
       "                                     colsample_bytree=0.8, gamma=0, gpu_id=None,\n",
       "                                     importance_type='gain',\n",
       "                                     interaction_constraints=None,\n",
       "                                     learning_rate=None, max_delta_step=None,\n",
       "                                     max_depth=9, min_child_weight=1,\n",
       "                                     missing=nan, monotone_constraints=None,\n",
       "                                     n...\n",
       "                                     objective='binary:logistic',\n",
       "                                     random_state=None, reg_alpha=None,\n",
       "                                     reg_lambda=None, scale_pos_weight=1,\n",
       "                                     seed=10, subsample=0.8, tree_method=None,\n",
       "                                     validate_parameters=False,\n",
       "                                     verbosity=None),\n",
       "             iid='warn', n_jobs=4,\n",
       "             param_grid={'colsample_bytree': [0.5, 0.6, 0.7, 0.8, 0.9],\n",
       "                         'subsample': [0.5, 0.6, 0.7, 0.8, 0.9]},\n",
       "             pre_dispatch='2*n_jobs', refit=True, return_train_score=False,\n",
       "             scoring='roc_auc', verbose=10)"
      ]
     },
     "execution_count": 30,
     "metadata": {},
     "output_type": "execute_result"
    }
   ],
   "source": [
    "sample_bst = XGBClassifier(\n",
    "    objective='binary:logistic', \n",
    "    n_estimators=100,\n",
    "    max_depth=9,\n",
    "    min_child_weight=1,\n",
    "    gamma=0,\n",
    "    nthread=8,\n",
    "    scale_pos_weight=1,\n",
    "    subsample=0.8,\n",
    "    colsample_bytree=0.8,\n",
    "    seed=10 \n",
    ")\n",
    "\n",
    "sample_param_01 = {\n",
    "    'subsample': [item/10.0 for item in range(5,10)],\n",
    "    'colsample_bytree': [item/10.0 for item in range(5,10)],\n",
    "}\n",
    "# jupyter后台可看打印的日志\n",
    "sample_grid_search_01 = GridSearchCV(\n",
    "    estimator=sample_bst,\n",
    "    param_grid=sample_param_01,\n",
    "    scoring='roc_auc',\n",
    "    n_jobs=4,\n",
    "    cv=5,\n",
    "    verbose=10\n",
    ")\n",
    "\n",
    "sample_grid_search_01.fit(X_train, y_train)"
   ]
  },
  {
   "cell_type": "code",
   "execution_count": 31,
   "metadata": {},
   "outputs": [
    {
     "name": "stdout",
     "output_type": "stream",
     "text": [
      "best_params:  {'colsample_bytree': 0.8, 'subsample': 0.7}\n",
      "best_score:  0.8720401329322487\n"
     ]
    }
   ],
   "source": [
    "print(\"best_params: \", sample_grid_search_01.best_params_)\n",
    "print(\"best_score: \", sample_grid_search_01.best_score_)"
   ]
  },
  {
   "cell_type": "markdown",
   "metadata": {},
   "source": [
    "### 微调\n",
    "\n",
    "- colsample_bytree 0.7~0.9 步长：0.05\n",
    "- subsample： 0.6~0.8 步长0.05\n"
   ]
  },
  {
   "cell_type": "code",
   "execution_count": 32,
   "metadata": {},
   "outputs": [
    {
     "name": "stdout",
     "output_type": "stream",
     "text": [
      "Fitting 5 folds for each of 16 candidates, totalling 80 fits\n"
     ]
    },
    {
     "name": "stderr",
     "output_type": "stream",
     "text": [
      "[Parallel(n_jobs=4)]: Using backend LokyBackend with 4 concurrent workers.\n",
      "[Parallel(n_jobs=4)]: Done   5 tasks      | elapsed:    7.5s\n",
      "[Parallel(n_jobs=4)]: Done  10 tasks      | elapsed:    8.6s\n",
      "[Parallel(n_jobs=4)]: Done  17 tasks      | elapsed:   11.4s\n",
      "[Parallel(n_jobs=4)]: Done  24 tasks      | elapsed:   12.8s\n",
      "[Parallel(n_jobs=4)]: Done  33 tasks      | elapsed:   17.2s\n",
      "[Parallel(n_jobs=4)]: Done  42 tasks      | elapsed:   19.7s\n",
      "[Parallel(n_jobs=4)]: Done  53 tasks      | elapsed:   22.5s\n",
      "[Parallel(n_jobs=4)]: Done  64 tasks      | elapsed:   24.3s\n",
      "[Parallel(n_jobs=4)]: Done  80 out of  80 | elapsed:   27.4s finished\n"
     ]
    },
    {
     "data": {
      "text/plain": [
       "GridSearchCV(cv=5, error_score='raise-deprecating',\n",
       "             estimator=XGBClassifier(base_score=None, booster=None,\n",
       "                                     colsample_bylevel=None,\n",
       "                                     colsample_bynode=None,\n",
       "                                     colsample_bytree=0.8, gamma=0, gpu_id=None,\n",
       "                                     importance_type='gain',\n",
       "                                     interaction_constraints=None,\n",
       "                                     learning_rate=None, max_delta_step=None,\n",
       "                                     max_depth=9, min_child_weight=1,\n",
       "                                     missing=nan, monotone_constraints=None,\n",
       "                                     n...\n",
       "                                     objective='binary:logistic',\n",
       "                                     random_state=None, reg_alpha=None,\n",
       "                                     reg_lambda=None, scale_pos_weight=1,\n",
       "                                     seed=10, subsample=0.8, tree_method=None,\n",
       "                                     validate_parameters=False,\n",
       "                                     verbosity=None),\n",
       "             iid='warn', n_jobs=4,\n",
       "             param_grid={'colsample_bytree': [0.7, 0.75, 0.8, 0.85],\n",
       "                         'subsample': [0.6, 0.65, 0.7, 0.75]},\n",
       "             pre_dispatch='2*n_jobs', refit=True, return_train_score=False,\n",
       "             scoring='roc_auc', verbose=10)"
      ]
     },
     "execution_count": 32,
     "metadata": {},
     "output_type": "execute_result"
    }
   ],
   "source": [
    "sample_param_02 = {\n",
    "    'subsample': [item/100.0 for item in range(60,80,5)],\n",
    "    'colsample_bytree': [item/100.0 for item in range(70,90,5)],\n",
    "}\n",
    "# jupyter后台可看打印的日志\n",
    "sample_grid_search_02 = GridSearchCV(\n",
    "    estimator=sample_bst,\n",
    "    param_grid=sample_param_02,\n",
    "    scoring='roc_auc',\n",
    "    n_jobs=4,\n",
    "    cv=5,\n",
    "    verbose=10\n",
    ")\n",
    "\n",
    "sample_grid_search_02.fit(X_train, y_train)"
   ]
  },
  {
   "cell_type": "code",
   "execution_count": 33,
   "metadata": {},
   "outputs": [
    {
     "name": "stdout",
     "output_type": "stream",
     "text": [
      "best_params:  {'colsample_bytree': 0.75, 'subsample': 0.7}\n",
      "best_score:  0.8720401329322487\n"
     ]
    }
   ],
   "source": [
    "print(\"best_params: \", sample_grid_search_02.best_params_)\n",
    "print(\"best_score: \", sample_grid_search_02.best_score_)"
   ]
  },
  {
   "cell_type": "markdown",
   "metadata": {},
   "source": [
    "结论：没有微调后基本没有提升"
   ]
  },
  {
   "cell_type": "markdown",
   "metadata": {},
   "source": [
    "## 正则参数调优"
   ]
  },
  {
   "cell_type": "code",
   "execution_count": 34,
   "metadata": {},
   "outputs": [
    {
     "name": "stdout",
     "output_type": "stream",
     "text": [
      "Fitting 5 folds for each of 6 candidates, totalling 30 fits\n"
     ]
    },
    {
     "name": "stderr",
     "output_type": "stream",
     "text": [
      "[Parallel(n_jobs=4)]: Using backend LokyBackend with 4 concurrent workers.\n",
      "[Parallel(n_jobs=4)]: Done   5 tasks      | elapsed:    4.7s\n",
      "[Parallel(n_jobs=4)]: Done  10 tasks      | elapsed:    5.5s\n",
      "[Parallel(n_jobs=4)]: Done  17 tasks      | elapsed:    6.9s\n",
      "[Parallel(n_jobs=4)]: Done  27 out of  30 | elapsed:    8.0s remaining:    0.9s\n",
      "[Parallel(n_jobs=4)]: Done  30 out of  30 | elapsed:    8.3s finished\n"
     ]
    },
    {
     "data": {
      "text/plain": [
       "GridSearchCV(cv=5, error_score='raise-deprecating',\n",
       "             estimator=XGBClassifier(base_score=None, booster=None,\n",
       "                                     colsample_bylevel=None,\n",
       "                                     colsample_bynode=None,\n",
       "                                     colsample_bytree=0.75, gamma=0,\n",
       "                                     gpu_id=None, importance_type='gain',\n",
       "                                     interaction_constraints=None,\n",
       "                                     learning_rate=None, max_delta_step=None,\n",
       "                                     max_depth=9, min_child_weight=1,\n",
       "                                     missing=nan, monotone_constraints=None,...\n",
       "                                     num_parallel_tree=None,\n",
       "                                     objective='binary:logistic',\n",
       "                                     random_state=None, reg_alpha=None,\n",
       "                                     reg_lambda=None, scale_pos_weight=1,\n",
       "                                     seed=10, subsample=0.8, tree_method=None,\n",
       "                                     validate_parameters=False,\n",
       "                                     verbosity=None),\n",
       "             iid='warn', n_jobs=4,\n",
       "             param_grid={'reg_alpha': [0, 1e-05, 0.01, 0.1, 1, 100]},\n",
       "             pre_dispatch='2*n_jobs', refit=True, return_train_score=False,\n",
       "             scoring='roc_auc', verbose=10)"
      ]
     },
     "execution_count": 34,
     "metadata": {},
     "output_type": "execute_result"
    }
   ],
   "source": [
    "reg_bst = XGBClassifier(\n",
    "    objective='binary:logistic', \n",
    "    n_estimators=100,\n",
    "    max_depth=9,\n",
    "    min_child_weight=1,\n",
    "    gamma=0,\n",
    "    subsample=0.8,\n",
    "    colsample_bytree=0.75,    \n",
    "    nthread=8,\n",
    "    scale_pos_weight=1,\n",
    "    seed=10 \n",
    ")\n",
    "\n",
    "reg_param_01 = {\n",
    "    'reg_alpha': [0, 1e-5, 1e-2, 1e-1, 1, 100]\n",
    "}\n",
    "# jupyter后台可看打印的日志\n",
    "reg_grid_search_01 = GridSearchCV(\n",
    "    estimator=reg_bst,\n",
    "    param_grid=reg_param_01,\n",
    "    scoring='roc_auc',\n",
    "    n_jobs=4,\n",
    "    cv=5,\n",
    "    verbose=10\n",
    ")\n",
    "\n",
    "reg_grid_search_01.fit(X_train, y_train)"
   ]
  },
  {
   "cell_type": "code",
   "execution_count": 35,
   "metadata": {},
   "outputs": [
    {
     "name": "stdout",
     "output_type": "stream",
     "text": [
      "best_params:  {'reg_alpha': 0}\n",
      "best_score:  0.8706992836328089\n"
     ]
    }
   ],
   "source": [
    "print(\"best_params: \", reg_grid_search_01.best_params_)\n",
    "print(\"best_score: \", reg_grid_search_01.best_score_)"
   ]
  },
  {
   "cell_type": "markdown",
   "metadata": {},
   "source": [
    "### 微调"
   ]
  },
  {
   "cell_type": "code",
   "execution_count": 37,
   "metadata": {},
   "outputs": [
    {
     "name": "stdout",
     "output_type": "stream",
     "text": [
      "Fitting 5 folds for each of 6 candidates, totalling 30 fits\n"
     ]
    },
    {
     "name": "stderr",
     "output_type": "stream",
     "text": [
      "[Parallel(n_jobs=4)]: Using backend LokyBackend with 4 concurrent workers.\n",
      "[Parallel(n_jobs=4)]: Done   5 tasks      | elapsed:    5.5s\n",
      "[Parallel(n_jobs=4)]: Done  10 tasks      | elapsed:    6.6s\n",
      "[Parallel(n_jobs=4)]: Done  17 tasks      | elapsed:    8.8s\n",
      "[Parallel(n_jobs=4)]: Done  27 out of  30 | elapsed:   10.0s remaining:    1.1s\n",
      "[Parallel(n_jobs=4)]: Done  30 out of  30 | elapsed:   10.4s finished\n"
     ]
    },
    {
     "data": {
      "text/plain": [
       "GridSearchCV(cv=5, error_score='raise-deprecating',\n",
       "             estimator=XGBClassifier(base_score=None, booster=None,\n",
       "                                     colsample_bylevel=None,\n",
       "                                     colsample_bynode=None,\n",
       "                                     colsample_bytree=0.75, gamma=0,\n",
       "                                     gpu_id=None, importance_type='gain',\n",
       "                                     interaction_constraints=None,\n",
       "                                     learning_rate=None, max_delta_step=None,\n",
       "                                     max_depth=9, min_child_weight=1,\n",
       "                                     missing=nan, monotone_constraints=None,...\n",
       "                                     num_parallel_tree=None,\n",
       "                                     objective='binary:logistic',\n",
       "                                     random_state=None, reg_alpha=None,\n",
       "                                     reg_lambda=None, scale_pos_weight=1,\n",
       "                                     seed=10, subsample=0.8, tree_method=None,\n",
       "                                     validate_parameters=False,\n",
       "                                     verbosity=None),\n",
       "             iid='warn', n_jobs=4,\n",
       "             param_grid={'reg_alpha': [0, 1e-05, 0.01, 0.1, 1, 100]},\n",
       "             pre_dispatch='2*n_jobs', refit=True, return_train_score=False,\n",
       "             scoring='roc_auc', verbose=10)"
      ]
     },
     "execution_count": 37,
     "metadata": {},
     "output_type": "execute_result"
    }
   ],
   "source": [
    "reg_param_02 = {\n",
    "    'reg_alpha': [0, 1e-6, 1e-6, 1e-7, 1e-8]\n",
    "}\n",
    "# jupyter后台可看打印的日志\n",
    "reg_grid_search_02 = GridSearchCV(\n",
    "    estimator=reg_bst,\n",
    "    param_grid=reg_param_01,\n",
    "    scoring='roc_auc',\n",
    "    n_jobs=4,\n",
    "    cv=5,\n",
    "    verbose=10\n",
    ")\n",
    "\n",
    "reg_grid_search_02.fit(X_train, y_train)"
   ]
  },
  {
   "cell_type": "code",
   "execution_count": 38,
   "metadata": {},
   "outputs": [
    {
     "name": "stdout",
     "output_type": "stream",
     "text": [
      "best_params:  {'reg_alpha': 0}\n",
      "best_score:  0.8706992836328089\n"
     ]
    }
   ],
   "source": [
    "print(\"best_params: \", reg_grid_search_02.best_params_)\n",
    "print(\"best_score: \", reg_grid_search_02.best_score_)"
   ]
  },
  {
   "cell_type": "markdown",
   "metadata": {},
   "source": [
    "结论： reg_alpha最优参数为0"
   ]
  },
  {
   "cell_type": "markdown",
   "metadata": {},
   "source": [
    "## 降低学习率"
   ]
  },
  {
   "cell_type": "code",
   "execution_count": 39,
   "metadata": {},
   "outputs": [
    {
     "name": "stdout",
     "output_type": "stream",
     "text": [
      "Fitting 5 folds for each of 9 candidates, totalling 45 fits\n"
     ]
    },
    {
     "name": "stderr",
     "output_type": "stream",
     "text": [
      "[Parallel(n_jobs=4)]: Using backend LokyBackend with 4 concurrent workers.\n",
      "[Parallel(n_jobs=4)]: Done   5 tasks      | elapsed:    8.1s\n",
      "[Parallel(n_jobs=4)]: Done  10 tasks      | elapsed:   10.0s\n",
      "[Parallel(n_jobs=4)]: Done  17 tasks      | elapsed:   12.5s\n",
      "[Parallel(n_jobs=4)]: Done  24 tasks      | elapsed:   13.9s\n",
      "[Parallel(n_jobs=4)]: Done  33 tasks      | elapsed:   16.6s\n",
      "[Parallel(n_jobs=4)]: Done  43 out of  45 | elapsed:   21.4s remaining:    1.0s\n",
      "[Parallel(n_jobs=4)]: Done  45 out of  45 | elapsed:   22.1s finished\n"
     ]
    },
    {
     "data": {
      "text/plain": [
       "GridSearchCV(cv=5, error_score='raise-deprecating',\n",
       "             estimator=XGBClassifier(base_score=None, booster=None,\n",
       "                                     colsample_bylevel=None,\n",
       "                                     colsample_bynode=None,\n",
       "                                     colsample_bytree=0.75, gamma=0,\n",
       "                                     gpu_id=None, importance_type='gain',\n",
       "                                     interaction_constraints=None,\n",
       "                                     learning_rate=None, max_delta_step=None,\n",
       "                                     max_depth=9, min_child_weight=1,\n",
       "                                     missing=nan, monotone_constraints=None,...\n",
       "                                     objective='binary:logistic',\n",
       "                                     random_state=None, reg_alpha=None,\n",
       "                                     reg_lambda=None, scale_pos_weight=1,\n",
       "                                     seed=10, subsample=0.8, tree_method=None,\n",
       "                                     validate_parameters=False,\n",
       "                                     verbosity=None),\n",
       "             iid='warn', n_jobs=4,\n",
       "             param_grid={'learning_rate': [0.1, 0.2, 0.3, 0.4, 0.5, 0.6, 0.7,\n",
       "                                           0.8, 0.9]},\n",
       "             pre_dispatch='2*n_jobs', refit=True, return_train_score=False,\n",
       "             scoring='roc_auc', verbose=10)"
      ]
     },
     "execution_count": 39,
     "metadata": {},
     "output_type": "execute_result"
    }
   ],
   "source": [
    "learn_bst = XGBClassifier(\n",
    "    objective='binary:logistic', \n",
    "    n_estimators=100,\n",
    "    max_depth=9,\n",
    "    min_child_weight=1,\n",
    "    gamma=0,\n",
    "    subsample=0.8,\n",
    "    colsample_bytree=0.75,    \n",
    "    nthread=8,\n",
    "    scale_pos_weight=1,\n",
    "    seed=10 \n",
    ")\n",
    "\n",
    "learn_param_01 = {\n",
    "    'learning_rate': [item/10 for item in range(1, 10)]\n",
    "}\n",
    "# jupyter后台可看打印的日志\n",
    "learn_grid_search_01 = GridSearchCV(\n",
    "    estimator=learn_bst,\n",
    "    param_grid=learn_param_01,\n",
    "    scoring='roc_auc',\n",
    "    n_jobs=4,\n",
    "    cv=5,\n",
    "    verbose=10\n",
    ")\n",
    "\n",
    "learn_grid_search_01.fit(X_train, y_train)"
   ]
  },
  {
   "cell_type": "code",
   "execution_count": 40,
   "metadata": {},
   "outputs": [
    {
     "name": "stdout",
     "output_type": "stream",
     "text": [
      "best_params:  {'learning_rate': 0.3}\n",
      "best_score:  0.8706992836328089\n"
     ]
    }
   ],
   "source": [
    "print(\"best_params: \", learn_grid_search_01.best_params_)\n",
    "print(\"best_score: \", learn_grid_search_01.best_score_)"
   ]
  },
  {
   "cell_type": "markdown",
   "metadata": {},
   "source": [
    "### 微调\n",
    "\n",
    "0.2~0.4 步长0.01"
   ]
  },
  {
   "cell_type": "code",
   "execution_count": 42,
   "metadata": {},
   "outputs": [
    {
     "name": "stdout",
     "output_type": "stream",
     "text": [
      "Fitting 5 folds for each of 20 candidates, totalling 100 fits\n"
     ]
    },
    {
     "name": "stderr",
     "output_type": "stream",
     "text": [
      "[Parallel(n_jobs=4)]: Using backend LokyBackend with 4 concurrent workers.\n",
      "[Parallel(n_jobs=4)]: Done   5 tasks      | elapsed:    4.9s\n",
      "[Parallel(n_jobs=4)]: Done  10 tasks      | elapsed:    6.0s\n",
      "[Parallel(n_jobs=4)]: Done  17 tasks      | elapsed:    7.9s\n",
      "[Parallel(n_jobs=4)]: Done  24 tasks      | elapsed:    9.0s\n",
      "[Parallel(n_jobs=4)]: Done  33 tasks      | elapsed:   11.5s\n",
      "[Parallel(n_jobs=4)]: Done  42 tasks      | elapsed:   13.1s\n",
      "[Parallel(n_jobs=4)]: Done  53 tasks      | elapsed:   15.4s\n",
      "[Parallel(n_jobs=4)]: Done  64 tasks      | elapsed:   17.1s\n",
      "[Parallel(n_jobs=4)]: Done  77 tasks      | elapsed:   20.0s\n",
      "[Parallel(n_jobs=4)]: Done  90 tasks      | elapsed:   22.4s\n",
      "[Parallel(n_jobs=4)]: Done 100 out of 100 | elapsed:   26.2s finished\n"
     ]
    },
    {
     "data": {
      "text/plain": [
       "GridSearchCV(cv=5, error_score='raise-deprecating',\n",
       "             estimator=XGBClassifier(base_score=None, booster=None,\n",
       "                                     colsample_bylevel=None,\n",
       "                                     colsample_bynode=None,\n",
       "                                     colsample_bytree=0.75, gamma=0,\n",
       "                                     gpu_id=None, importance_type='gain',\n",
       "                                     interaction_constraints=None,\n",
       "                                     learning_rate=None, max_delta_step=None,\n",
       "                                     max_depth=9, min_child_weight=1,\n",
       "                                     missing=nan, monotone_constraints=None,...\n",
       "                                     reg_lambda=None, scale_pos_weight=1,\n",
       "                                     seed=10, subsample=0.8, tree_method=None,\n",
       "                                     validate_parameters=False,\n",
       "                                     verbosity=None),\n",
       "             iid='warn', n_jobs=4,\n",
       "             param_grid={'learning_rate': [0.2, 0.21, 0.22, 0.23, 0.24, 0.25,\n",
       "                                           0.26, 0.27, 0.28, 0.29, 0.3, 0.31,\n",
       "                                           0.32, 0.33, 0.34, 0.35, 0.36, 0.37,\n",
       "                                           0.38, 0.39]},\n",
       "             pre_dispatch='2*n_jobs', refit=True, return_train_score=False,\n",
       "             scoring='roc_auc', verbose=10)"
      ]
     },
     "execution_count": 42,
     "metadata": {},
     "output_type": "execute_result"
    }
   ],
   "source": [
    "learn_param_02 = {\n",
    "    'learning_rate': [item/100 for item in range(20, 40, 1)]\n",
    "}\n",
    "# jupyter后台可看打印的日志\n",
    "learn_grid_search_02 = GridSearchCV(\n",
    "    estimator=learn_bst,\n",
    "    param_grid=learn_param_01,\n",
    "    scoring='roc_auc',\n",
    "    n_jobs=4,\n",
    "    cv=5,\n",
    "    verbose=10\n",
    ")\n",
    "\n",
    "learn_grid_search_02.fit(X_train, y_train)"
   ]
  },
  {
   "cell_type": "code",
   "execution_count": 43,
   "metadata": {},
   "outputs": [
    {
     "name": "stdout",
     "output_type": "stream",
     "text": [
      "best_params:  {'learning_rate': 0.25}\n",
      "best_score:  0.8707096134898394\n"
     ]
    }
   ],
   "source": [
    "print(\"best_params: \", learn_grid_search_02.best_params_)\n",
    "print(\"best_score: \", learn_grid_search_02.best_score_)"
   ]
  },
  {
   "cell_type": "markdown",
   "metadata": {},
   "source": [
    "结论: 最好参数 learning_rate=0.25"
   ]
  },
  {
   "cell_type": "markdown",
   "metadata": {},
   "source": [
    "### 将当前已调优的参数放入训练模型"
   ]
  },
  {
   "cell_type": "code",
   "execution_count": 10,
   "metadata": {},
   "outputs": [
    {
     "name": "stdout",
     "output_type": "stream",
     "text": [
      "最优轮数:  10\n",
      "最优论详情\n",
      "   train-auc-mean  train-auc-std  test-auc-mean  test-auc-std\n",
      "9        0.992925       0.001101       0.857606       0.02199\n",
      "训练集AUC得分:  0.9908004356913658\n",
      "测试集AUC得分:  0.8192083680019018\n"
     ]
    }
   ],
   "source": [
    "gamma_bst = XGBClassifier(\n",
    "    objective='binary:logistic', \n",
    "    n_estimators=100,\n",
    "    max_depth=9,\n",
    "    min_child_weight=1,\n",
    "    gamma=0,\n",
    "    subsample=0.8,\n",
    "    colsample_bytree=0.75,    \n",
    "    learning_rate=0.25,\n",
    "    nthread=8,\n",
    "    scale_pos_weight=1,\n",
    "    seed=666\n",
    ")\n",
    "\n",
    "gamma_cv_result = model_cv(gamma_bst, X_train, y_train)\n",
    "model_fit(gamma_bst, X_train, y_train, X_test, y_test, gamma_cv_result)"
   ]
  },
  {
   "cell_type": "markdown",
   "metadata": {},
   "source": [
    "调参完毕，提升太少了。看来重头还是在模型融合和特征工程上。"
   ]
  },
  {
   "cell_type": "code",
   "execution_count": null,
   "metadata": {},
   "outputs": [],
   "source": []
  }
 ],
 "metadata": {
  "kernelspec": {
   "display_name": "Python 3",
   "language": "python",
   "name": "python3"
  },
  "language_info": {
   "codemirror_mode": {
    "name": "ipython",
    "version": 3
   },
   "file_extension": ".py",
   "mimetype": "text/x-python",
   "name": "python",
   "nbconvert_exporter": "python",
   "pygments_lexer": "ipython3",
   "version": "3.7.1"
  }
 },
 "nbformat": 4,
 "nbformat_minor": 2
}
