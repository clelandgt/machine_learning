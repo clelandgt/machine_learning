{
 "cells": [
  {
   "cell_type": "markdown",
   "metadata": {},
   "source": [
    "定义quality<6为低品质葡萄酒标识为0，quality>=6为高品质葡萄酒标识为1"
   ]
  },
  {
   "cell_type": "code",
   "execution_count": 1,
   "metadata": {},
   "outputs": [],
   "source": [
    "import numpy as np\n",
    "import pandas as pd\n",
    "import xgboost as xgb\n",
    "import matplotlib.pylab as plt\n",
    "from xgboost.sklearn import XGBClassifier\n",
    "from sklearn.model_selection import GridSearchCV, train_test_split\n",
    "from sklearn import metrics\n",
    "\n",
    "%matplotlib inline"
   ]
  },
  {
   "cell_type": "markdown",
   "metadata": {},
   "source": [
    "## 特征工程"
   ]
  },
  {
   "cell_type": "code",
   "execution_count": 2,
   "metadata": {},
   "outputs": [
    {
     "data": {
      "text/plain": [
       "5    681\n",
       "6    638\n",
       "7    199\n",
       "4     53\n",
       "8     18\n",
       "3     10\n",
       "Name: quality, dtype: int64"
      ]
     },
     "execution_count": 2,
     "metadata": {},
     "output_type": "execute_result"
    }
   ],
   "source": [
    "df = pd.read_csv('https://query.data.world/s/4ee2mcqmzj55nta6nhj7nu7mmyifob', sep=';')\n",
    "df['quality'].value_counts()"
   ]
  },
  {
   "cell_type": "code",
   "execution_count": 3,
   "metadata": {},
   "outputs": [],
   "source": [
    "# 类似数据处理，可参考https://stackoverflow.com/questions/49228596/pandas-case-when-default-in-pandas\n",
    "# 方法1\n",
    "df['quality'] = df['quality'].apply(lambda item: 0 if item<6 else 1)\n",
    "\n",
    "# # 方法2\n",
    "# df['quality'] = np.where(\n",
    "#     df['quality'].between(0, 6, inclusive=False), 0,\n",
    "#     np.where(df['quality'].between(6, 8, inclusive=True), 1, -1)\n",
    "# )\n",
    "\n",
    "# 切分训练与测试数据集\n",
    "X_train, X_test, y_train, y_test = train_test_split(df.iloc[:,0:11], df['quality'], test_size=0.2, random_state=666)\n"
   ]
  },
  {
   "cell_type": "markdown",
   "metadata": {},
   "source": [
    "## 基本模型"
   ]
  },
  {
   "cell_type": "code",
   "execution_count": 4,
   "metadata": {},
   "outputs": [],
   "source": [
    "def model_cv(model, X_train, y_train, nfold=5, early_stopping_rounds=30):\n",
    "    params = model.get_xgb_params()\n",
    "    dtrain = xgb.DMatrix(X_train.values, y_train.values)\n",
    "    # 交叉验证\n",
    "    result = xgb.cv(\n",
    "        params,\n",
    "        dtrain,\n",
    "        nfold=nfold,\n",
    "        metrics=['auc'],\n",
    "        early_stopping_rounds=early_stopping_rounds\n",
    "    )\n",
    "    \n",
    "    print(u'最优轮数: ', result.shape[0])\n",
    "    print(u'最优论详情')\n",
    "    print(result[result.shape[0]-1:])\n",
    "    \n",
    "    return result\n",
    "    "
   ]
  },
  {
   "cell_type": "code",
   "execution_count": 5,
   "metadata": {},
   "outputs": [],
   "source": [
    "def model_fit(model, X_train, y_train, X_test, y_test, cv_result):\n",
    "    model.set_params(n_estimators=cv_result.shape[0])\n",
    "    \n",
    "    # 训练集拟合模型\n",
    "    model.fit(X_train, y_train, eval_metric=['auc'])\n",
    "    \n",
    "    # 预测训练集 并评估模型\n",
    "    train_predict_proba = model.predict_proba(X_train)[:,1]\n",
    "    train_auc = metrics.roc_auc_score(y_train, train_predict_proba)\n",
    "    print(\"训练集AUC得分: \", train_auc)\n",
    "    \n",
    "    # 测试数据集\n",
    "    test_predict_proba = model.predict_proba(X_test)[:,1]\n",
    "    test_auc = metrics.roc_auc_score(y_test, test_predict_proba)\n",
    "    print(\"测试集AUC得分: \", test_auc)\n",
    "    "
   ]
  },
  {
   "cell_type": "code",
   "execution_count": 6,
   "metadata": {},
   "outputs": [],
   "source": [
    "model = XGBClassifier(\n",
    "    objective='binary:logistic', \n",
    "    n_estimators=100,\n",
    "    learning_rate=0.3,\n",
    "    max_depth=6,\n",
    "    min_child_weight=1,\n",
    "    gamma=0,\n",
    "    subsample=1,\n",
    "    colsample_bytree=1,    \n",
    "    reg_alpha=0,\n",
    "    nthread=8,\n",
    "    seed=666\n",
    ")"
   ]
  },
  {
   "cell_type": "code",
   "execution_count": 7,
   "metadata": {},
   "outputs": [
    {
     "name": "stdout",
     "output_type": "stream",
     "text": [
      "最优轮数:  10\n",
      "最优论详情\n",
      "   train-auc-mean  train-auc-std  test-auc-mean  test-auc-std\n",
      "9        0.980733       0.003281       0.855685      0.019876\n",
      "训练集AUC得分:  0.977800838018978\n",
      "测试集AUC得分:  0.8276476881017473\n"
     ]
    }
   ],
   "source": [
    "cv_result = model_cv(model, X_train, y_train)\n",
    "model_fit(model, X_train, y_train, X_test, y_test, cv_result)"
   ]
  },
  {
   "cell_type": "markdown",
   "metadata": {},
   "source": [
    "## max_depth、min_child_weight参数调优"
   ]
  },
  {
   "cell_type": "markdown",
   "metadata": {},
   "source": [
    "### 初步设置参数范围\n",
    "尽量范围跨度大写，对应的步长也大些"
   ]
  },
  {
   "cell_type": "code",
   "execution_count": 8,
   "metadata": {},
   "outputs": [
    {
     "name": "stdout",
     "output_type": "stream",
     "text": [
      "Fitting 5 folds for each of 27 candidates, totalling 135 fits\n"
     ]
    },
    {
     "name": "stderr",
     "output_type": "stream",
     "text": [
      "[Parallel(n_jobs=4)]: Using backend LokyBackend with 4 concurrent workers.\n",
      "[Parallel(n_jobs=4)]: Done   5 tasks      | elapsed:    4.1s\n",
      "[Parallel(n_jobs=4)]: Done  10 tasks      | elapsed:    5.0s\n",
      "[Parallel(n_jobs=4)]: Done  17 tasks      | elapsed:    7.0s\n",
      "[Parallel(n_jobs=4)]: Done  24 tasks      | elapsed:    8.7s\n",
      "[Parallel(n_jobs=4)]: Done  33 tasks      | elapsed:   11.4s\n",
      "[Parallel(n_jobs=4)]: Done  42 tasks      | elapsed:   14.5s\n",
      "[Parallel(n_jobs=4)]: Done  53 tasks      | elapsed:   17.9s\n",
      "[Parallel(n_jobs=4)]: Done  64 tasks      | elapsed:   21.2s\n",
      "[Parallel(n_jobs=4)]: Done  77 tasks      | elapsed:   31.0s\n",
      "[Parallel(n_jobs=4)]: Done  90 tasks      | elapsed:   35.8s\n",
      "[Parallel(n_jobs=4)]: Done 105 tasks      | elapsed:   39.4s\n",
      "[Parallel(n_jobs=4)]: Done 120 tasks      | elapsed:   42.4s\n",
      "[Parallel(n_jobs=4)]: Done 135 out of 135 | elapsed:   45.4s finished\n"
     ]
    },
    {
     "data": {
      "text/plain": [
       "GridSearchCV(cv=5, error_score='raise-deprecating',\n",
       "             estimator=XGBClassifier(base_score=None, booster=None,\n",
       "                                     colsample_bylevel=None,\n",
       "                                     colsample_bynode=None, colsample_bytree=1,\n",
       "                                     gamma=0, gpu_id=None,\n",
       "                                     importance_type='gain',\n",
       "                                     interaction_constraints=None,\n",
       "                                     learning_rate=0.3, max_delta_step=None,\n",
       "                                     max_depth=6, min_child_weight=1,\n",
       "                                     missing=nan, monotone_constraints=None,\n",
       "                                     n_es...\n",
       "                                     objective='binary:logistic',\n",
       "                                     random_state=None, reg_alpha=0,\n",
       "                                     reg_lambda=None, scale_pos_weight=None,\n",
       "                                     seed=666, subsample=1, tree_method=None,\n",
       "                                     validate_parameters=False,\n",
       "                                     verbosity=None),\n",
       "             iid='warn', n_jobs=4,\n",
       "             param_grid={'max_depth': range(2, 20, 2),\n",
       "                         'min_child_weight': range(1, 6, 2)},\n",
       "             pre_dispatch='2*n_jobs', refit=True, return_train_score=False,\n",
       "             scoring='roc_auc', verbose=10)"
      ]
     },
     "execution_count": 8,
     "metadata": {},
     "output_type": "execute_result"
    }
   ],
   "source": [
    "bst1 = XGBClassifier(\n",
    "    objective='binary:logistic', \n",
    "    n_estimators=100,\n",
    "    learning_rate=0.3,\n",
    "    max_depth=6,\n",
    "    min_child_weight=1,\n",
    "    gamma=0,\n",
    "    subsample=1,\n",
    "    colsample_bytree=1,    \n",
    "    reg_alpha=0,\n",
    "    nthread=8,\n",
    "    seed=666\n",
    ")\n",
    "\n",
    "param1 = {\n",
    "    'max_depth': range(2,20,2),\n",
    "    'min_child_weight': range(1,6,2)\n",
    "}\n",
    "# jupyter后台可看打印的日志\n",
    "grid_search1 = GridSearchCV(\n",
    "    estimator=bst1,\n",
    "    param_grid=param1,\n",
    "    scoring='roc_auc',\n",
    "    n_jobs=4,\n",
    "    cv=5,\n",
    "    verbose=10\n",
    ")\n",
    "\n",
    "grid_search1.fit(X_train, y_train)"
   ]
  },
  {
   "cell_type": "code",
   "execution_count": 9,
   "metadata": {},
   "outputs": [
    {
     "name": "stdout",
     "output_type": "stream",
     "text": [
      "best_params:  {'max_depth': 14, 'min_child_weight': 1}\n",
      "best_score:  0.8711365940529558\n"
     ]
    }
   ],
   "source": [
    "print(\"best_params: \", grid_search1.best_params_)\n",
    "print(\"best_score: \", grid_search1.best_score_)"
   ]
  },
  {
   "cell_type": "markdown",
   "metadata": {},
   "source": [
    "### 微调\n",
    "微调这两个参数 max_depth=[7,8,9], min_child_weight=[1,2]后，发现分数没有差异。说明这两个max_depth=9, min_child_weight为最好参数。"
   ]
  },
  {
   "cell_type": "code",
   "execution_count": 10,
   "metadata": {},
   "outputs": [
    {
     "name": "stdout",
     "output_type": "stream",
     "text": [
      "Fitting 5 folds for each of 6 candidates, totalling 30 fits\n"
     ]
    },
    {
     "name": "stderr",
     "output_type": "stream",
     "text": [
      "[Parallel(n_jobs=4)]: Using backend LokyBackend with 4 concurrent workers.\n",
      "[Parallel(n_jobs=4)]: Done   5 tasks      | elapsed:    4.7s\n",
      "[Parallel(n_jobs=4)]: Done  10 tasks      | elapsed:    5.6s\n",
      "[Parallel(n_jobs=4)]: Done  17 tasks      | elapsed:    7.3s\n",
      "[Parallel(n_jobs=4)]: Done  27 out of  30 | elapsed:    9.2s remaining:    1.0s\n",
      "[Parallel(n_jobs=4)]: Done  30 out of  30 | elapsed:    9.7s finished\n"
     ]
    },
    {
     "data": {
      "text/plain": [
       "GridSearchCV(cv=5, error_score='raise-deprecating',\n",
       "             estimator=XGBClassifier(base_score=None, booster=None,\n",
       "                                     colsample_bylevel=None,\n",
       "                                     colsample_bynode=None, colsample_bytree=1,\n",
       "                                     gamma=0, gpu_id=None,\n",
       "                                     importance_type='gain',\n",
       "                                     interaction_constraints=None,\n",
       "                                     learning_rate=0.3, max_delta_step=None,\n",
       "                                     max_depth=6, min_child_weight=1,\n",
       "                                     missing=nan, monotone_constraints=None,\n",
       "                                     n_es...\n",
       "                                     num_parallel_tree=None,\n",
       "                                     objective='binary:logistic',\n",
       "                                     random_state=None, reg_alpha=0,\n",
       "                                     reg_lambda=None, scale_pos_weight=None,\n",
       "                                     seed=666, subsample=1, tree_method=None,\n",
       "                                     validate_parameters=False,\n",
       "                                     verbosity=None),\n",
       "             iid='warn', n_jobs=4,\n",
       "             param_grid={'max_depth': [13, 14, 15], 'min_child_weight': [1, 2]},\n",
       "             pre_dispatch='2*n_jobs', refit=True, return_train_score=False,\n",
       "             scoring='roc_auc', verbose=10)"
      ]
     },
     "execution_count": 10,
     "metadata": {},
     "output_type": "execute_result"
    }
   ],
   "source": [
    "param2 = {\n",
    "    'max_depth': [13,14,15],\n",
    "    'min_child_weight': [1,2]\n",
    "}\n",
    "# jupyter后台可看打印的日志\n",
    "grid_search2 = GridSearchCV(\n",
    "    estimator=bst1,\n",
    "    param_grid=param2,\n",
    "    scoring='roc_auc',\n",
    "    n_jobs=4,\n",
    "    cv=5,\n",
    "    verbose=10\n",
    ")\n",
    "\n",
    "grid_search2.fit(X_train, y_train)"
   ]
  },
  {
   "cell_type": "code",
   "execution_count": 11,
   "metadata": {},
   "outputs": [
    {
     "name": "stdout",
     "output_type": "stream",
     "text": [
      "best_params:  {'max_depth': 14, 'min_child_weight': 1}\n",
      "best_score:  0.8711365940529558\n"
     ]
    }
   ],
   "source": [
    "print(\"best_params: \", grid_search1.best_params_)\n",
    "print(\"best_score: \", grid_search1.best_score_)"
   ]
  },
  {
   "cell_type": "markdown",
   "metadata": {},
   "source": [
    "## Gamma参数调优"
   ]
  },
  {
   "cell_type": "markdown",
   "metadata": {},
   "source": [
    "### 初步设置参数范围\n",
    "\n",
    "范围：0~1，步长度0.1"
   ]
  },
  {
   "cell_type": "code",
   "execution_count": 12,
   "metadata": {},
   "outputs": [
    {
     "name": "stdout",
     "output_type": "stream",
     "text": [
      "Fitting 5 folds for each of 11 candidates, totalling 55 fits\n"
     ]
    },
    {
     "name": "stderr",
     "output_type": "stream",
     "text": [
      "[Parallel(n_jobs=4)]: Using backend LokyBackend with 4 concurrent workers.\n",
      "[Parallel(n_jobs=4)]: Done   5 tasks      | elapsed:    7.2s\n",
      "[Parallel(n_jobs=4)]: Done  10 tasks      | elapsed:    9.9s\n",
      "[Parallel(n_jobs=4)]: Done  17 tasks      | elapsed:   15.2s\n",
      "[Parallel(n_jobs=4)]: Done  24 tasks      | elapsed:   19.3s\n",
      "[Parallel(n_jobs=4)]: Done  33 tasks      | elapsed:   32.1s\n",
      "[Parallel(n_jobs=4)]: Done  42 tasks      | elapsed:   41.4s\n",
      "[Parallel(n_jobs=4)]: Done  55 out of  55 | elapsed:   50.5s finished\n"
     ]
    },
    {
     "data": {
      "text/plain": [
       "GridSearchCV(cv=5, error_score='raise-deprecating',\n",
       "             estimator=XGBClassifier(base_score=None, booster=None,\n",
       "                                     colsample_bylevel=None,\n",
       "                                     colsample_bynode=None, colsample_bytree=1,\n",
       "                                     gamma=0, gpu_id=None,\n",
       "                                     importance_type='gain',\n",
       "                                     interaction_constraints=None,\n",
       "                                     learning_rate=0.3, max_delta_step=None,\n",
       "                                     max_depth=14, min_child_weight=1,\n",
       "                                     missing=nan, monotone_constraints=None,\n",
       "                                     n_e...\n",
       "                                     objective='binary:logistic',\n",
       "                                     random_state=None, reg_alpha=0,\n",
       "                                     reg_lambda=None, scale_pos_weight=None,\n",
       "                                     seed=666, subsample=1, tree_method=None,\n",
       "                                     validate_parameters=False,\n",
       "                                     verbosity=None),\n",
       "             iid='warn', n_jobs=4,\n",
       "             param_grid={'gamma': [0.0, 0.1, 0.2, 0.3, 0.4, 0.5, 0.6, 0.7, 0.8,\n",
       "                                   0.9, 1.0]},\n",
       "             pre_dispatch='2*n_jobs', refit=True, return_train_score=False,\n",
       "             scoring='roc_auc', verbose=10)"
      ]
     },
     "execution_count": 12,
     "metadata": {},
     "output_type": "execute_result"
    }
   ],
   "source": [
    "gamma_bst = XGBClassifier(\n",
    "    objective='binary:logistic', \n",
    "    n_estimators=100,\n",
    "    learning_rate=0.3,\n",
    "    max_depth=14,\n",
    "    min_child_weight=1,\n",
    "    gamma=0,\n",
    "    subsample=1,\n",
    "    colsample_bytree=1,    \n",
    "    reg_alpha=0,\n",
    "    nthread=8,\n",
    "    seed=666\n",
    ")\n",
    "\n",
    "gamma_param_01 = {\n",
    "    'gamma': [item/10.0 for item in range(0,11)]\n",
    "}\n",
    "# jupyter后台可看打印的日志\n",
    "gamma_grid_search_01 = GridSearchCV(\n",
    "    estimator=gamma_bst,\n",
    "    param_grid=gamma_param_01,\n",
    "    scoring='roc_auc',\n",
    "    n_jobs=4,\n",
    "    cv=5,\n",
    "    verbose=10\n",
    ")\n",
    "\n",
    "gamma_grid_search_01.fit(X_train, y_train)"
   ]
  },
  {
   "cell_type": "code",
   "execution_count": 13,
   "metadata": {},
   "outputs": [
    {
     "name": "stdout",
     "output_type": "stream",
     "text": [
      "best_params:  {'gamma': 0.1}\n",
      "best_score:  0.8723163688862158\n"
     ]
    }
   ],
   "source": [
    "print(\"best_params: \", gamma_grid_search_01.best_params_)\n",
    "print(\"best_score: \", gamma_grid_search_01.best_score_)"
   ]
  },
  {
   "cell_type": "markdown",
   "metadata": {},
   "source": [
    "### 微调\n",
    "\n",
    "范围:0~0.2 步长：0.02"
   ]
  },
  {
   "cell_type": "code",
   "execution_count": 14,
   "metadata": {},
   "outputs": [
    {
     "name": "stdout",
     "output_type": "stream",
     "text": [
      "Fitting 5 folds for each of 10 candidates, totalling 50 fits\n"
     ]
    },
    {
     "name": "stderr",
     "output_type": "stream",
     "text": [
      "[Parallel(n_jobs=4)]: Using backend LokyBackend with 4 concurrent workers.\n",
      "[Parallel(n_jobs=4)]: Done   5 tasks      | elapsed:    5.2s\n",
      "[Parallel(n_jobs=4)]: Done  10 tasks      | elapsed:    6.4s\n",
      "[Parallel(n_jobs=4)]: Done  17 tasks      | elapsed:    8.5s\n",
      "[Parallel(n_jobs=4)]: Done  24 tasks      | elapsed:    9.7s\n",
      "[Parallel(n_jobs=4)]: Done  33 tasks      | elapsed:   13.0s\n",
      "[Parallel(n_jobs=4)]: Done  42 tasks      | elapsed:   18.2s\n",
      "[Parallel(n_jobs=4)]: Done  50 out of  50 | elapsed:   22.4s finished\n"
     ]
    },
    {
     "data": {
      "text/plain": [
       "GridSearchCV(cv=5, error_score='raise-deprecating',\n",
       "             estimator=XGBClassifier(base_score=None, booster=None,\n",
       "                                     colsample_bylevel=None,\n",
       "                                     colsample_bynode=None, colsample_bytree=1,\n",
       "                                     gamma=0, gpu_id=None,\n",
       "                                     importance_type='gain',\n",
       "                                     interaction_constraints=None,\n",
       "                                     learning_rate=0.3, max_delta_step=None,\n",
       "                                     max_depth=14, min_child_weight=1,\n",
       "                                     missing=nan, monotone_constraints=None,\n",
       "                                     n_e...\n",
       "                                     objective='binary:logistic',\n",
       "                                     random_state=None, reg_alpha=0,\n",
       "                                     reg_lambda=None, scale_pos_weight=None,\n",
       "                                     seed=666, subsample=1, tree_method=None,\n",
       "                                     validate_parameters=False,\n",
       "                                     verbosity=None),\n",
       "             iid='warn', n_jobs=4,\n",
       "             param_grid={'gamma': [0.0, 0.02, 0.04, 0.06, 0.08, 0.1, 0.12, 0.14,\n",
       "                                   0.16, 0.18]},\n",
       "             pre_dispatch='2*n_jobs', refit=True, return_train_score=False,\n",
       "             scoring='roc_auc', verbose=10)"
      ]
     },
     "execution_count": 14,
     "metadata": {},
     "output_type": "execute_result"
    }
   ],
   "source": [
    "gamma_param_02 = {\n",
    "    'gamma': [item/100.0 for item in range(0,20,2)]\n",
    "}\n",
    "# jupyter后台可看打印的日志\n",
    "gamma_grid_search_02 = GridSearchCV(\n",
    "    estimator=gamma_bst,\n",
    "    param_grid=gamma_param_02,\n",
    "    scoring='roc_auc',\n",
    "    n_jobs=4,\n",
    "    cv=5,\n",
    "    verbose=10\n",
    ")\n",
    "\n",
    "gamma_grid_search_02.fit(X_train, y_train)"
   ]
  },
  {
   "cell_type": "code",
   "execution_count": 15,
   "metadata": {},
   "outputs": [
    {
     "name": "stdout",
     "output_type": "stream",
     "text": [
      "best_params:  {'gamma': 0.02}\n",
      "best_score:  0.8733551345368942\n"
     ]
    }
   ],
   "source": [
    "print(\"best_params: \", gamma_grid_search_02.best_params_)\n",
    "print(\"best_score: \", gamma_grid_search_02.best_score_)"
   ]
  },
  {
   "cell_type": "markdown",
   "metadata": {},
   "source": [
    "结论：score一样，说明gamma=0是最优参数"
   ]
  },
  {
   "cell_type": "markdown",
   "metadata": {},
   "source": [
    "### 将当前已调优的参数放入训练模型"
   ]
  },
  {
   "cell_type": "code",
   "execution_count": 16,
   "metadata": {},
   "outputs": [
    {
     "name": "stdout",
     "output_type": "stream",
     "text": [
      "最优轮数:  10\n",
      "最优论详情\n",
      "   train-auc-mean  train-auc-std  test-auc-mean  test-auc-std\n",
      "9        0.999758       0.000063       0.864245      0.028974\n"
     ]
    }
   ],
   "source": [
    "gamma_bst = XGBClassifier(\n",
    "    objective='binary:logistic', \n",
    "    n_estimators=100,\n",
    "    learning_rate=0.3,\n",
    "    max_depth=14,\n",
    "    min_child_weight=1,\n",
    "    gamma=0.02,\n",
    "    subsample=1,\n",
    "    colsample_bytree=1,    \n",
    "    reg_alpha=0,\n",
    "    nthread=8,\n",
    "    seed=666\n",
    ")\n",
    "\n",
    "gamma_cv_result = model_cv(gamma_bst, X_train, y_train)"
   ]
  },
  {
   "cell_type": "code",
   "execution_count": 17,
   "metadata": {},
   "outputs": [
    {
     "name": "stdout",
     "output_type": "stream",
     "text": [
      "训练集AUC得分:  0.9997448654165072\n",
      "测试集AUC得分:  0.8428622370141449\n"
     ]
    }
   ],
   "source": [
    "model_fit(gamma_bst, X_train, y_train, X_test, y_test, gamma_cv_result)"
   ]
  },
  {
   "cell_type": "markdown",
   "metadata": {},
   "source": [
    "结论：比最开始的分数好。基础(训练集AUC: 0.9778, 测试集AUC:0.8276); 调优后(训练集AUC: 0.9980, 测试集AUC:0.8355)"
   ]
  },
  {
   "cell_type": "markdown",
   "metadata": {},
   "source": [
    "## subsample和closample_bytree\n",
    "\n",
    "先粗后细, 首先取 0.6、0.7、0.8、0.9、1.0"
   ]
  },
  {
   "cell_type": "code",
   "execution_count": 18,
   "metadata": {},
   "outputs": [
    {
     "name": "stdout",
     "output_type": "stream",
     "text": [
      "Fitting 5 folds for each of 36 candidates, totalling 180 fits\n"
     ]
    },
    {
     "name": "stderr",
     "output_type": "stream",
     "text": [
      "[Parallel(n_jobs=4)]: Using backend LokyBackend with 4 concurrent workers.\n",
      "[Parallel(n_jobs=4)]: Done   5 tasks      | elapsed:    6.6s\n",
      "[Parallel(n_jobs=4)]: Done  10 tasks      | elapsed:    8.0s\n",
      "[Parallel(n_jobs=4)]: Done  17 tasks      | elapsed:   10.3s\n",
      "[Parallel(n_jobs=4)]: Done  24 tasks      | elapsed:   12.1s\n",
      "[Parallel(n_jobs=4)]: Done  33 tasks      | elapsed:   16.2s\n",
      "[Parallel(n_jobs=4)]: Done  42 tasks      | elapsed:   19.6s\n",
      "[Parallel(n_jobs=4)]: Done  53 tasks      | elapsed:   23.3s\n",
      "[Parallel(n_jobs=4)]: Done  64 tasks      | elapsed:   26.2s\n",
      "[Parallel(n_jobs=4)]: Done  77 tasks      | elapsed:   29.7s\n",
      "[Parallel(n_jobs=4)]: Done  90 tasks      | elapsed:   32.5s\n",
      "[Parallel(n_jobs=4)]: Done 105 tasks      | elapsed:   37.4s\n",
      "[Parallel(n_jobs=4)]: Done 120 tasks      | elapsed:   44.1s\n",
      "[Parallel(n_jobs=4)]: Done 137 tasks      | elapsed:   48.3s\n",
      "[Parallel(n_jobs=4)]: Done 154 tasks      | elapsed:   52.1s\n",
      "[Parallel(n_jobs=4)]: Done 173 tasks      | elapsed:  1.1min\n",
      "[Parallel(n_jobs=4)]: Done 180 out of 180 | elapsed:  1.2min finished\n"
     ]
    },
    {
     "data": {
      "text/plain": [
       "GridSearchCV(cv=5, error_score='raise-deprecating',\n",
       "             estimator=XGBClassifier(base_score=None, booster=None,\n",
       "                                     colsample_bylevel=None,\n",
       "                                     colsample_bynode=None, colsample_bytree=1,\n",
       "                                     gamma=0.02, gpu_id=None,\n",
       "                                     importance_type='gain',\n",
       "                                     interaction_constraints=None,\n",
       "                                     learning_rate=0.3, max_delta_step=None,\n",
       "                                     max_depth=14, min_child_weight=1,\n",
       "                                     missing=nan, monotone_constraints=None,...\n",
       "                                     random_state=None, reg_alpha=0,\n",
       "                                     reg_lambda=None, scale_pos_weight=None,\n",
       "                                     seed=666, subsample=1, tree_method=None,\n",
       "                                     validate_parameters=False,\n",
       "                                     verbosity=None),\n",
       "             iid='warn', n_jobs=4,\n",
       "             param_grid={'colsample_bytree': [0.5, 0.6, 0.7, 0.8, 0.9, 1.0],\n",
       "                         'subsample': [0.5, 0.6, 0.7, 0.8, 0.9, 1.0]},\n",
       "             pre_dispatch='2*n_jobs', refit=True, return_train_score=False,\n",
       "             scoring='roc_auc', verbose=10)"
      ]
     },
     "execution_count": 18,
     "metadata": {},
     "output_type": "execute_result"
    }
   ],
   "source": [
    "sample_bst = XGBClassifier(\n",
    "    objective='binary:logistic', \n",
    "    n_estimators=100,\n",
    "    learning_rate=0.3,\n",
    "    max_depth=14,\n",
    "    min_child_weight=1,\n",
    "    gamma=0.02,\n",
    "    subsample=1,\n",
    "    colsample_bytree=1,    \n",
    "    reg_alpha=0,\n",
    "    nthread=8,\n",
    "    seed=666\n",
    ")\n",
    "\n",
    "sample_param_01 = {\n",
    "    'subsample': [item/10.0 for item in range(5,11)],\n",
    "    'colsample_bytree': [item/10.0 for item in range(5,11)],\n",
    "}\n",
    "# jupyter后台可看打印的日志\n",
    "sample_grid_search_01 = GridSearchCV(\n",
    "    estimator=sample_bst,\n",
    "    param_grid=sample_param_01,\n",
    "    scoring='roc_auc',\n",
    "    n_jobs=4,\n",
    "    cv=5,\n",
    "    verbose=10\n",
    ")\n",
    "\n",
    "sample_grid_search_01.fit(X_train, y_train)"
   ]
  },
  {
   "cell_type": "code",
   "execution_count": 19,
   "metadata": {},
   "outputs": [
    {
     "name": "stdout",
     "output_type": "stream",
     "text": [
      "best_params:  {'colsample_bytree': 0.5, 'subsample': 1.0}\n",
      "best_score:  0.8739694096158872\n"
     ]
    }
   ],
   "source": [
    "print(\"best_params: \", sample_grid_search_01.best_params_)\n",
    "print(\"best_score: \", sample_grid_search_01.best_score_)"
   ]
  },
  {
   "cell_type": "markdown",
   "metadata": {},
   "source": [
    "### 微调\n",
    "\n",
    "- colsample_bytree 0.4~0.6 步长：0.05\n",
    "- subsample： 0.9~0.1 步长0.02\n"
   ]
  },
  {
   "cell_type": "code",
   "execution_count": 20,
   "metadata": {},
   "outputs": [
    {
     "name": "stdout",
     "output_type": "stream",
     "text": [
      "Fitting 5 folds for each of 24 candidates, totalling 120 fits\n"
     ]
    },
    {
     "name": "stderr",
     "output_type": "stream",
     "text": [
      "[Parallel(n_jobs=4)]: Using backend LokyBackend with 4 concurrent workers.\n",
      "[Parallel(n_jobs=4)]: Done   5 tasks      | elapsed:    8.2s\n",
      "[Parallel(n_jobs=4)]: Done  10 tasks      | elapsed:   10.6s\n",
      "[Parallel(n_jobs=4)]: Done  17 tasks      | elapsed:   13.9s\n",
      "[Parallel(n_jobs=4)]: Done  24 tasks      | elapsed:   16.2s\n",
      "[Parallel(n_jobs=4)]: Done  33 tasks      | elapsed:   20.5s\n",
      "[Parallel(n_jobs=4)]: Done  42 tasks      | elapsed:   23.1s\n",
      "[Parallel(n_jobs=4)]: Done  53 tasks      | elapsed:   25.7s\n",
      "[Parallel(n_jobs=4)]: Done  64 tasks      | elapsed:   29.2s\n",
      "[Parallel(n_jobs=4)]: Done  77 tasks      | elapsed:   34.4s\n",
      "[Parallel(n_jobs=4)]: Done  90 tasks      | elapsed:   37.2s\n",
      "[Parallel(n_jobs=4)]: Done 105 tasks      | elapsed:   41.5s\n",
      "[Parallel(n_jobs=4)]: Done 120 out of 120 | elapsed:   52.7s finished\n"
     ]
    },
    {
     "data": {
      "text/plain": [
       "GridSearchCV(cv=5, error_score='raise-deprecating',\n",
       "             estimator=XGBClassifier(base_score=None, booster=None,\n",
       "                                     colsample_bylevel=None,\n",
       "                                     colsample_bynode=None, colsample_bytree=1,\n",
       "                                     gamma=0.02, gpu_id=None,\n",
       "                                     importance_type='gain',\n",
       "                                     interaction_constraints=None,\n",
       "                                     learning_rate=0.3, max_delta_step=None,\n",
       "                                     max_depth=14, min_child_weight=1,\n",
       "                                     missing=nan, monotone_constraints=None,...\n",
       "                                     random_state=None, reg_alpha=0,\n",
       "                                     reg_lambda=None, scale_pos_weight=None,\n",
       "                                     seed=666, subsample=1, tree_method=None,\n",
       "                                     validate_parameters=False,\n",
       "                                     verbosity=None),\n",
       "             iid='warn', n_jobs=4,\n",
       "             param_grid={'colsample_bytree': [0.4, 0.45, 0.5, 0.55],\n",
       "                         'subsample': [0.9, 0.92, 0.94, 0.96, 0.98, 1.0]},\n",
       "             pre_dispatch='2*n_jobs', refit=True, return_train_score=False,\n",
       "             scoring='roc_auc', verbose=10)"
      ]
     },
     "execution_count": 20,
     "metadata": {},
     "output_type": "execute_result"
    }
   ],
   "source": [
    "sample_param_02 = {\n",
    "    'subsample': [item/100.0 for item in range(90,101,2)],\n",
    "    'colsample_bytree': [item/100.0 for item in range(40,60,5)],\n",
    "}\n",
    "# jupyter后台可看打印的日志\n",
    "sample_grid_search_02 = GridSearchCV(\n",
    "    estimator=sample_bst,\n",
    "    param_grid=sample_param_02,\n",
    "    scoring='roc_auc',\n",
    "    n_jobs=4,\n",
    "    cv=5,\n",
    "    verbose=10\n",
    ")\n",
    "\n",
    "sample_grid_search_02.fit(X_train, y_train)"
   ]
  },
  {
   "cell_type": "code",
   "execution_count": 21,
   "metadata": {},
   "outputs": [
    {
     "name": "stdout",
     "output_type": "stream",
     "text": [
      "best_params:  {'colsample_bytree': 0.4, 'subsample': 0.98}\n",
      "best_score:  0.8758019123866231\n"
     ]
    }
   ],
   "source": [
    "print(\"best_params: \", sample_grid_search_02.best_params_)\n",
    "print(\"best_score: \", sample_grid_search_02.best_score_)"
   ]
  },
  {
   "cell_type": "markdown",
   "metadata": {},
   "source": [
    "结论：没有微调后基本没有提升"
   ]
  },
  {
   "cell_type": "markdown",
   "metadata": {},
   "source": [
    "## 正则参数调优"
   ]
  },
  {
   "cell_type": "code",
   "execution_count": 22,
   "metadata": {},
   "outputs": [
    {
     "name": "stdout",
     "output_type": "stream",
     "text": [
      "Fitting 5 folds for each of 6 candidates, totalling 30 fits\n"
     ]
    },
    {
     "name": "stderr",
     "output_type": "stream",
     "text": [
      "[Parallel(n_jobs=4)]: Using backend LokyBackend with 4 concurrent workers.\n",
      "[Parallel(n_jobs=4)]: Done   5 tasks      | elapsed:   13.8s\n",
      "[Parallel(n_jobs=4)]: Done  10 tasks      | elapsed:   16.5s\n",
      "[Parallel(n_jobs=4)]: Done  17 tasks      | elapsed:   18.8s\n",
      "[Parallel(n_jobs=4)]: Done  27 out of  30 | elapsed:   20.1s remaining:    2.2s\n",
      "[Parallel(n_jobs=4)]: Done  30 out of  30 | elapsed:   21.0s finished\n"
     ]
    },
    {
     "data": {
      "text/plain": [
       "GridSearchCV(cv=5, error_score='raise-deprecating',\n",
       "             estimator=XGBClassifier(base_score=None, booster=None,\n",
       "                                     colsample_bylevel=None,\n",
       "                                     colsample_bynode=None,\n",
       "                                     colsample_bytree=0.4, gamma=0.02,\n",
       "                                     gpu_id=None, importance_type='gain',\n",
       "                                     interaction_constraints=None,\n",
       "                                     learning_rate=0.3, max_delta_step=None,\n",
       "                                     max_depth=14, min_child_weight=1,\n",
       "                                     missing=nan, monotone_constraints=Non...\n",
       "                                     num_parallel_tree=None,\n",
       "                                     objective='binary:logistic',\n",
       "                                     random_state=None, reg_alpha=0,\n",
       "                                     reg_lambda=None, scale_pos_weight=None,\n",
       "                                     seed=666, subsample=0.98, tree_method=None,\n",
       "                                     validate_parameters=False,\n",
       "                                     verbosity=None),\n",
       "             iid='warn', n_jobs=4,\n",
       "             param_grid={'reg_alpha': [0, 1e-05, 0.01, 0.1, 1, 100]},\n",
       "             pre_dispatch='2*n_jobs', refit=True, return_train_score=False,\n",
       "             scoring='roc_auc', verbose=10)"
      ]
     },
     "execution_count": 22,
     "metadata": {},
     "output_type": "execute_result"
    }
   ],
   "source": [
    "reg_bst = XGBClassifier(\n",
    "    objective='binary:logistic', \n",
    "    n_estimators=100,\n",
    "    learning_rate=0.3,\n",
    "    max_depth=14,\n",
    "    min_child_weight=1,\n",
    "    gamma=0.02,\n",
    "    subsample=0.98,\n",
    "    colsample_bytree=0.4,    \n",
    "    reg_alpha=0,\n",
    "    nthread=8,\n",
    "    seed=666\n",
    ")\n",
    "\n",
    "reg_param_01 = {\n",
    "    'reg_alpha': [0, 1e-5, 1e-2, 1e-1, 1, 100]\n",
    "}\n",
    "# jupyter后台可看打印的日志\n",
    "reg_grid_search_01 = GridSearchCV(\n",
    "    estimator=reg_bst,\n",
    "    param_grid=reg_param_01,\n",
    "    scoring='roc_auc',\n",
    "    n_jobs=4,\n",
    "    cv=5,\n",
    "    verbose=10\n",
    ")\n",
    "\n",
    "reg_grid_search_01.fit(X_train, y_train)"
   ]
  },
  {
   "cell_type": "code",
   "execution_count": 23,
   "metadata": {},
   "outputs": [
    {
     "name": "stdout",
     "output_type": "stream",
     "text": [
      "best_params:  {'reg_alpha': 1e-05}\n",
      "best_score:  0.8761072747294019\n"
     ]
    }
   ],
   "source": [
    "print(\"best_params: \", reg_grid_search_01.best_params_)\n",
    "print(\"best_score: \", reg_grid_search_01.best_score_)"
   ]
  },
  {
   "cell_type": "markdown",
   "metadata": {},
   "source": [
    "### 微调"
   ]
  },
  {
   "cell_type": "code",
   "execution_count": 24,
   "metadata": {},
   "outputs": [
    {
     "name": "stdout",
     "output_type": "stream",
     "text": [
      "Fitting 5 folds for each of 5 candidates, totalling 25 fits\n"
     ]
    },
    {
     "name": "stderr",
     "output_type": "stream",
     "text": [
      "[Parallel(n_jobs=4)]: Using backend LokyBackend with 4 concurrent workers.\n",
      "[Parallel(n_jobs=4)]: Done   5 tasks      | elapsed:    6.5s\n",
      "[Parallel(n_jobs=4)]: Done  10 tasks      | elapsed:    7.8s\n",
      "[Parallel(n_jobs=4)]: Done  17 tasks      | elapsed:   10.1s\n",
      "[Parallel(n_jobs=4)]: Done  21 out of  25 | elapsed:   11.3s remaining:    2.2s\n",
      "[Parallel(n_jobs=4)]: Done  25 out of  25 | elapsed:   11.8s finished\n"
     ]
    },
    {
     "data": {
      "text/plain": [
       "GridSearchCV(cv=5, error_score='raise-deprecating',\n",
       "             estimator=XGBClassifier(base_score=None, booster=None,\n",
       "                                     colsample_bylevel=None,\n",
       "                                     colsample_bynode=None,\n",
       "                                     colsample_bytree=0.4, gamma=0.02,\n",
       "                                     gpu_id=None, importance_type='gain',\n",
       "                                     interaction_constraints=None,\n",
       "                                     learning_rate=0.3, max_delta_step=None,\n",
       "                                     max_depth=14, min_child_weight=1,\n",
       "                                     missing=nan, monotone_constraints=Non...\n",
       "                                     num_parallel_tree=None,\n",
       "                                     objective='binary:logistic',\n",
       "                                     random_state=None, reg_alpha=0,\n",
       "                                     reg_lambda=None, scale_pos_weight=None,\n",
       "                                     seed=666, subsample=0.98, tree_method=None,\n",
       "                                     validate_parameters=False,\n",
       "                                     verbosity=None),\n",
       "             iid='warn', n_jobs=4,\n",
       "             param_grid={'reg_alpha': [1e-05, 1e-06, 1e-07, 1e-08, 1e-09]},\n",
       "             pre_dispatch='2*n_jobs', refit=True, return_train_score=False,\n",
       "             scoring='roc_auc', verbose=10)"
      ]
     },
     "execution_count": 24,
     "metadata": {},
     "output_type": "execute_result"
    }
   ],
   "source": [
    "reg_param_02 = {\n",
    "    'reg_alpha': [1e-5, 1e-6, 1e-7, 1e-8, 1e-9]\n",
    "}\n",
    "# jupyter后台可看打印的日志\n",
    "reg_grid_search_02 = GridSearchCV(\n",
    "    estimator=reg_bst,\n",
    "    param_grid=reg_param_02,\n",
    "    scoring='roc_auc',\n",
    "    n_jobs=4,\n",
    "    cv=5,\n",
    "    verbose=10\n",
    ")\n",
    "\n",
    "reg_grid_search_02.fit(X_train, y_train)"
   ]
  },
  {
   "cell_type": "code",
   "execution_count": 25,
   "metadata": {},
   "outputs": [
    {
     "name": "stdout",
     "output_type": "stream",
     "text": [
      "best_params:  {'reg_alpha': 1e-05}\n",
      "best_score:  0.8761072747294019\n"
     ]
    }
   ],
   "source": [
    "print(\"best_params: \", reg_grid_search_02.best_params_)\n",
    "print(\"best_score: \", reg_grid_search_02.best_score_)"
   ]
  },
  {
   "cell_type": "markdown",
   "metadata": {},
   "source": [
    "结论： reg_alpha最优参数为0"
   ]
  },
  {
   "cell_type": "markdown",
   "metadata": {},
   "source": [
    "## 降低学习率"
   ]
  },
  {
   "cell_type": "code",
   "execution_count": 26,
   "metadata": {},
   "outputs": [
    {
     "name": "stdout",
     "output_type": "stream",
     "text": [
      "Fitting 5 folds for each of 9 candidates, totalling 45 fits\n"
     ]
    },
    {
     "name": "stderr",
     "output_type": "stream",
     "text": [
      "[Parallel(n_jobs=4)]: Using backend LokyBackend with 4 concurrent workers.\n",
      "[Parallel(n_jobs=4)]: Done   5 tasks      | elapsed:    6.8s\n",
      "[Parallel(n_jobs=4)]: Done  10 tasks      | elapsed:    8.3s\n",
      "[Parallel(n_jobs=4)]: Done  17 tasks      | elapsed:   10.3s\n",
      "[Parallel(n_jobs=4)]: Done  24 tasks      | elapsed:   11.1s\n",
      "[Parallel(n_jobs=4)]: Done  33 tasks      | elapsed:   13.0s\n",
      "[Parallel(n_jobs=4)]: Done  43 out of  45 | elapsed:   14.4s remaining:    0.7s\n",
      "[Parallel(n_jobs=4)]: Done  45 out of  45 | elapsed:   14.7s finished\n"
     ]
    },
    {
     "data": {
      "text/plain": [
       "GridSearchCV(cv=5, error_score='raise-deprecating',\n",
       "             estimator=XGBClassifier(base_score=None, booster=None,\n",
       "                                     colsample_bylevel=None,\n",
       "                                     colsample_bynode=None,\n",
       "                                     colsample_bytree=0.4, gamma=0.02,\n",
       "                                     gpu_id=None, importance_type='gain',\n",
       "                                     interaction_constraints=None,\n",
       "                                     learning_rate=0.3, max_delta_step=None,\n",
       "                                     max_depth=14, min_child_weight=1,\n",
       "                                     missing=nan, monotone_constraints=Non...\n",
       "                                     objective='binary:logistic',\n",
       "                                     random_state=None, reg_alpha=1e-05,\n",
       "                                     reg_lambda=None, scale_pos_weight=None,\n",
       "                                     seed=666, subsample=0.98, tree_method=None,\n",
       "                                     validate_parameters=False,\n",
       "                                     verbosity=None),\n",
       "             iid='warn', n_jobs=4,\n",
       "             param_grid={'learning_rate': [0.1, 0.2, 0.3, 0.4, 0.5, 0.6, 0.7,\n",
       "                                           0.8, 0.9]},\n",
       "             pre_dispatch='2*n_jobs', refit=True, return_train_score=False,\n",
       "             scoring='roc_auc', verbose=10)"
      ]
     },
     "execution_count": 26,
     "metadata": {},
     "output_type": "execute_result"
    }
   ],
   "source": [
    "learn_bst = XGBClassifier(\n",
    "    objective='binary:logistic', \n",
    "    n_estimators=100,\n",
    "    learning_rate=0.3,\n",
    "    max_depth=14,\n",
    "    min_child_weight=1,\n",
    "    gamma=0.02,\n",
    "    subsample=0.98,\n",
    "    colsample_bytree=0.4,    \n",
    "    reg_alpha=1e-05,\n",
    "    nthread=8,\n",
    "    seed=666\n",
    ")\n",
    "\n",
    "learn_param_01 = {\n",
    "    'learning_rate': [item/10 for item in range(1, 10)]\n",
    "}\n",
    "# jupyter后台可看打印的日志\n",
    "learn_grid_search_01 = GridSearchCV(\n",
    "    estimator=learn_bst,\n",
    "    param_grid=learn_param_01,\n",
    "    scoring='roc_auc',\n",
    "    n_jobs=4,\n",
    "    cv=5,\n",
    "    verbose=10\n",
    ")\n",
    "\n",
    "learn_grid_search_01.fit(X_train, y_train)"
   ]
  },
  {
   "cell_type": "code",
   "execution_count": 27,
   "metadata": {},
   "outputs": [
    {
     "name": "stdout",
     "output_type": "stream",
     "text": [
      "best_params:  {'learning_rate': 0.1}\n",
      "best_score:  0.8778614277641134\n"
     ]
    }
   ],
   "source": [
    "print(\"best_params: \", learn_grid_search_01.best_params_)\n",
    "print(\"best_score: \", learn_grid_search_01.best_score_)"
   ]
  },
  {
   "cell_type": "markdown",
   "metadata": {},
   "source": [
    "### 微调\n",
    "\n",
    "0.0~0.2 步长0.01"
   ]
  },
  {
   "cell_type": "code",
   "execution_count": null,
   "metadata": {},
   "outputs": [
    {
     "name": "stdout",
     "output_type": "stream",
     "text": [
      "Fitting 5 folds for each of 21 candidates, totalling 105 fits\n"
     ]
    },
    {
     "name": "stderr",
     "output_type": "stream",
     "text": [
      "[Parallel(n_jobs=4)]: Using backend LokyBackend with 4 concurrent workers.\n"
     ]
    }
   ],
   "source": [
    "learn_param_02 = {\n",
    "    'learning_rate': [item/100 for item in range(0, 21, 1)]\n",
    "}\n",
    "# jupyter后台可看打印的日志\n",
    "learn_grid_search_02 = GridSearchCV(\n",
    "    estimator=learn_bst,\n",
    "    param_grid=learn_param_02,\n",
    "    scoring='roc_auc',\n",
    "    n_jobs=4,\n",
    "    cv=5,\n",
    "    verbose=10\n",
    ")\n",
    "\n",
    "learn_grid_search_02.fit(X_train, y_train)"
   ]
  },
  {
   "cell_type": "code",
   "execution_count": null,
   "metadata": {},
   "outputs": [],
   "source": [
    "print(\"best_params: \", learn_grid_search_02.best_params_)\n",
    "print(\"best_score: \", learn_grid_search_02.best_score_)"
   ]
  },
  {
   "cell_type": "markdown",
   "metadata": {},
   "source": [
    "结论: 最好参数 learning_rate=0.25"
   ]
  },
  {
   "cell_type": "markdown",
   "metadata": {},
   "source": [
    "### 将当前已调优的参数放入训练模型"
   ]
  },
  {
   "cell_type": "code",
   "execution_count": null,
   "metadata": {},
   "outputs": [],
   "source": [
    "gamma_bst = XGBClassifier(\n",
    "    objective='binary:logistic', \n",
    "    n_estimators=100,\n",
    "    learning_rate=0.05,\n",
    "    max_depth=14,\n",
    "    min_child_weight=1,\n",
    "    gamma=0.02,\n",
    "    subsample=0.98,\n",
    "    colsample_bytree=0.4,    \n",
    "    reg_alpha=1e-05,\n",
    "    nthread=8,\n",
    "    seed=666\n",
    ")\n",
    "\n",
    "gamma_cv_result = model_cv(gamma_bst, X_train, y_train)\n",
    "model_fit(gamma_bst, X_train, y_train, X_test, y_test, gamma_cv_result)"
   ]
  },
  {
   "cell_type": "markdown",
   "metadata": {},
   "source": [
    "调参完毕，提升太少了。看来重头还是在模型融合和特征工程上。"
   ]
  }
 ],
 "metadata": {
  "kernelspec": {
   "display_name": "Python 3",
   "language": "python",
   "name": "python3"
  },
  "language_info": {
   "codemirror_mode": {
    "name": "ipython",
    "version": 3
   },
   "file_extension": ".py",
   "mimetype": "text/x-python",
   "name": "python",
   "nbconvert_exporter": "python",
   "pygments_lexer": "ipython3",
   "version": "3.7.1"
  }
 },
 "nbformat": 4,
 "nbformat_minor": 2
}
