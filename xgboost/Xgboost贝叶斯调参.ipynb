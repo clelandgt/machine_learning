{
 "cells": [
  {
   "cell_type": "code",
   "execution_count": 1,
   "metadata": {
    "ExecuteTime": {
     "end_time": "2020-05-30T14:57:49.885025Z",
     "start_time": "2020-05-30T14:57:49.399222Z"
    }
   },
   "outputs": [],
   "source": [
    "import numpy as np\n",
    "import pandas as pd\n",
    "import xgboost as xgb\n",
    "import matplotlib.pylab as plt\n",
    "from xgboost.sklearn import XGBClassifier\n",
    "from sklearn.model_selection import GridSearchCV, train_test_split\n",
    "from sklearn import metrics\n",
    "\n",
    "%matplotlib inline"
   ]
  },
  {
   "cell_type": "markdown",
   "metadata": {},
   "source": [
    "## 数据加载"
   ]
  },
  {
   "cell_type": "code",
   "execution_count": 2,
   "metadata": {
    "ExecuteTime": {
     "end_time": "2020-05-30T14:57:53.865188Z",
     "start_time": "2020-05-30T14:57:49.886195Z"
    }
   },
   "outputs": [],
   "source": [
    "# 数据加载\n",
    "df = pd.read_csv('https://query.data.world/s/4ee2mcqmzj55nta6nhj7nu7mmyifob', sep=';')\n",
    "df['quality'] = df['quality'].apply(lambda item: 0 if item<6 else 1)\n",
    "\n",
    "# 切分训练与测试数据集\n",
    "X_train, X_test, y_train, y_test = train_test_split(df.iloc[:,0:11], df['quality'], test_size=0.2, random_state=666)"
   ]
  },
  {
   "cell_type": "code",
   "execution_count": 3,
   "metadata": {
    "ExecuteTime": {
     "end_time": "2020-05-30T14:57:53.868424Z",
     "start_time": "2020-05-30T14:57:53.866386Z"
    }
   },
   "outputs": [],
   "source": [
    "features = ['fixed acidity','volatile acidity','citric acid','residual sugar','chlorides','free sulfur dioxide',\n",
    "            'total sulfur dioxide','density','pH','sulphates','alcohol']\n",
    "label = 'quality'"
   ]
  },
  {
   "cell_type": "markdown",
   "metadata": {},
   "source": [
    "## 贝叶斯调参"
   ]
  },
  {
   "cell_type": "code",
   "execution_count": 4,
   "metadata": {
    "ExecuteTime": {
     "end_time": "2020-05-30T14:57:53.874419Z",
     "start_time": "2020-05-30T14:57:53.869643Z"
    }
   },
   "outputs": [],
   "source": [
    "def xgb_optimize(learning_rate, n_estimators, min_child_weight, colsample_bytree, max_depth, subsample, gamma, alpha):\n",
    "    dtrain = xgb.DMatrix(df[features].values, df[label].values)\n",
    "    params = {}\n",
    "    params['learning_rate'] = float(learning_rate)\n",
    "    params['min_child_weight'] = int(min_child_weight)\n",
    "    params['colsample_bytree'] = max(min(colsample_bytree, 1), 0)\n",
    "    params['max_depth'] = int(max_depth)\n",
    "    params['subsample'] = max(min(subsample, 1), 0)\n",
    "    params['gamma'] = max(gamma, 0)\n",
    "    params['alpha'] = max(alpha, 0)   \n",
    "    params['objective'] = 'binary:logistic'\n",
    "\n",
    "    cv_result = xgb.cv(params, dtrain, num_boost_round=int(n_estimators), nfold=5, seed=666, metrics=['auc'])\n",
    "    return cv_result['test-auc-mean'].iloc[-1]"
   ]
  },
  {
   "cell_type": "code",
   "execution_count": null,
   "metadata": {
    "ExecuteTime": {
     "start_time": "2020-05-30T14:57:49.389Z"
    }
   },
   "outputs": [
    {
     "name": "stdout",
     "output_type": "stream",
     "text": [
      "|   iter    |  target   |   alpha   | colsam... |   gamma   | learni... | max_depth | min_ch... | n_esti... | subsample |\n",
      "-------------------------------------------------------------------------------------------------------------------------\n",
      "| \u001b[0m 1       \u001b[0m | \u001b[0m 0.8204  \u001b[0m | \u001b[0m 8.304   \u001b[0m | \u001b[0m 0.995   \u001b[0m | \u001b[0m 8.982   \u001b[0m | \u001b[0m 0.279   \u001b[0m | \u001b[0m 9.932   \u001b[0m | \u001b[0m 3.552   \u001b[0m | \u001b[0m 441.2   \u001b[0m | \u001b[0m 0.7249  \u001b[0m |\n",
      "| \u001b[95m 2       \u001b[0m | \u001b[95m 0.8629  \u001b[0m | \u001b[95m 0.9033  \u001b[0m | \u001b[95m 0.9047  \u001b[0m | \u001b[95m 2.632   \u001b[0m | \u001b[95m 0.08732 \u001b[0m | \u001b[95m 9.096   \u001b[0m | \u001b[95m 1.149   \u001b[0m | \u001b[95m 494.3   \u001b[0m | \u001b[95m 0.7033  \u001b[0m |\n",
      "| \u001b[0m 3       \u001b[0m | \u001b[0m 0.8502  \u001b[0m | \u001b[0m 5.219   \u001b[0m | \u001b[0m 0.6283  \u001b[0m | \u001b[0m 1.895   \u001b[0m | \u001b[0m 0.343   \u001b[0m | \u001b[0m 8.636   \u001b[0m | \u001b[0m 3.109   \u001b[0m | \u001b[0m 369.6   \u001b[0m | \u001b[0m 0.8599  \u001b[0m |\n"
     ]
    }
   ],
   "source": [
    "from bayes_opt import BayesianOptimization\n",
    "\n",
    "xgb_opt = BayesianOptimization(xgb_optimize, {\n",
    "    'learning_rate': (0.05, 0.5),\n",
    "    'n_estimators': (50, 500),    \n",
    "    'min_child_weight': (1, 10),        \n",
    "    'colsample_bytree': (0.5, 1),            \n",
    "    'max_depth': (4, 10),                \n",
    "    'subsample': (0.5, 1),                    \n",
    "    'gamma': (0, 10),                        \n",
    "    'alpha': (0, 10)\n",
    "})\n",
    "dtrain = xgb.DMatrix(X_train.values, y_train.values)\n",
    "xgb_opt.maximize(init_points=5, n_iter=30)"
   ]
  },
  {
   "cell_type": "code",
   "execution_count": null,
   "metadata": {
    "ExecuteTime": {
     "start_time": "2020-05-30T14:57:49.394Z"
    }
   },
   "outputs": [],
   "source": [
    "xgb_opt.max"
   ]
  },
  {
   "cell_type": "markdown",
   "metadata": {},
   "source": [
    "## 训练模型"
   ]
  },
  {
   "cell_type": "code",
   "execution_count": null,
   "metadata": {
    "ExecuteTime": {
     "start_time": "2020-05-30T14:57:49.396Z"
    }
   },
   "outputs": [],
   "source": [
    "def model_fit_for_bayesian(bst, X_train, X_test, y_train, y_test):    \n",
    "    # 训练\n",
    "    bst.fit(X_train, y_train, eval_metric=['auc'])\n",
    "\n",
    "    # 评估训练集\n",
    "    train_predict = bst.predict(X_train)\n",
    "    train_auc = metrics.roc_auc_score(y_train, train_predict)\n",
    "    print('train AUC: ', train_auc)\n",
    "    \n",
    "    # 评估测试集\n",
    "    test_predict = bst.predict(X_test)\n",
    "    test_auc = metrics.roc_auc_score(y_test, test_predict)\n",
    "    print('test AUC: ', test_auc)"
   ]
  },
  {
   "cell_type": "code",
   "execution_count": null,
   "metadata": {
    "ExecuteTime": {
     "start_time": "2020-05-30T14:57:49.398Z"
    }
   },
   "outputs": [],
   "source": [
    "bst = XGBClassifier(\n",
    "    learning_rate=0.1488,\n",
    "    n_estimators=1000,\n",
    "    max_depth=9,\n",
    "    min_child_weight=1.1505,\n",
    "    objective='binary:logistic',    \n",
    "    subsample=0.8915,\n",
    "    colsample_bytree=0.5033,\n",
    "    alpha=0.2085,\n",
    "    gamma=0.6196, \n",
    "    nthread=8,\n",
    "    scale_pos_weight=1,\n",
    "    seed=666\n",
    ")\n",
    "model_fit_for_bayesian(bst, X_train, X_test, y_train, y_test)"
   ]
  }
 ],
 "metadata": {
  "kernelspec": {
   "display_name": "Python 3",
   "language": "python",
   "name": "python3"
  },
  "language_info": {
   "codemirror_mode": {
    "name": "ipython",
    "version": 3
   },
   "file_extension": ".py",
   "mimetype": "text/x-python",
   "name": "python",
   "nbconvert_exporter": "python",
   "pygments_lexer": "ipython3",
   "version": "3.7.6"
  },
  "toc": {
   "base_numbering": 1,
   "nav_menu": {},
   "number_sections": true,
   "sideBar": true,
   "skip_h1_title": false,
   "title_cell": "Table of Contents",
   "title_sidebar": "Contents",
   "toc_cell": false,
   "toc_position": {},
   "toc_section_display": true,
   "toc_window_display": false
  }
 },
 "nbformat": 4,
 "nbformat_minor": 4
}
