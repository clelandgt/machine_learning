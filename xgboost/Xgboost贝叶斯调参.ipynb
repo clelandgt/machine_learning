{
 "cells": [
  {
   "cell_type": "code",
   "execution_count": 1,
   "metadata": {
    "ExecuteTime": {
     "end_time": "2020-05-30T14:57:49.885025Z",
     "start_time": "2020-05-30T14:57:49.399222Z"
    }
   },
   "outputs": [],
   "source": [
    "import numpy as np\n",
    "import pandas as pd\n",
    "import xgboost as xgb\n",
    "import matplotlib.pylab as plt\n",
    "from xgboost.sklearn import XGBClassifier\n",
    "from sklearn.model_selection import GridSearchCV, train_test_split\n",
    "from sklearn import metrics\n",
    "\n",
    "%matplotlib inline"
   ]
  },
  {
   "cell_type": "markdown",
   "metadata": {},
   "source": [
    "## 数据加载"
   ]
  },
  {
   "cell_type": "code",
   "execution_count": 2,
   "metadata": {
    "ExecuteTime": {
     "end_time": "2020-05-30T14:57:53.865188Z",
     "start_time": "2020-05-30T14:57:49.886195Z"
    }
   },
   "outputs": [],
   "source": [
    "# 数据加载\n",
    "df = pd.read_csv('https://query.data.world/s/4ee2mcqmzj55nta6nhj7nu7mmyifob', sep=';')\n",
    "df['quality'] = df['quality'].apply(lambda item: 0 if item<6 else 1)\n",
    "\n",
    "# 切分训练与测试数据集\n",
    "X_train, X_test, y_train, y_test = train_test_split(df.iloc[:,0:11], df['quality'], test_size=0.2, random_state=666)"
   ]
  },
  {
   "cell_type": "code",
   "execution_count": 3,
   "metadata": {
    "ExecuteTime": {
     "end_time": "2020-05-30T14:57:53.868424Z",
     "start_time": "2020-05-30T14:57:53.866386Z"
    }
   },
   "outputs": [],
   "source": [
    "features = ['fixed acidity','volatile acidity','citric acid','residual sugar','chlorides','free sulfur dioxide',\n",
    "            'total sulfur dioxide','density','pH','sulphates','alcohol']\n",
    "label = 'quality'"
   ]
  },
  {
   "cell_type": "markdown",
   "metadata": {},
   "source": [
    "## 贝叶斯调参"
   ]
  },
  {
   "cell_type": "code",
   "execution_count": 4,
   "metadata": {
    "ExecuteTime": {
     "end_time": "2020-05-30T14:57:53.874419Z",
     "start_time": "2020-05-30T14:57:53.869643Z"
    }
   },
   "outputs": [],
   "source": [
    "def xgb_optimize(learning_rate, n_estimators, min_child_weight, colsample_bytree, max_depth, subsample, gamma, alpha):\n",
    "    dtrain = xgb.DMatrix(df[features].values, df[label].values)\n",
    "    params = {}\n",
    "    params['learning_rate'] = float(learning_rate)\n",
    "    params['min_child_weight'] = int(min_child_weight)\n",
    "    params['colsample_bytree'] = max(min(colsample_bytree, 1), 0)\n",
    "    params['max_depth'] = int(max_depth)\n",
    "    params['subsample'] = max(min(subsample, 1), 0)\n",
    "    params['gamma'] = max(gamma, 0)\n",
    "    params['alpha'] = max(alpha, 0)   \n",
    "    params['objective'] = 'binary:logistic'\n",
    "\n",
    "    cv_result = xgb.cv(params, dtrain, num_boost_round=int(n_estimators), nfold=5, seed=666, metrics=['auc'])\n",
    "    return cv_result['test-auc-mean'].iloc[-1]"
   ]
  },
  {
   "cell_type": "code",
   "execution_count": 5,
   "metadata": {
    "ExecuteTime": {
     "end_time": "2020-05-30T14:58:28.353991Z",
     "start_time": "2020-05-30T14:57:53.875395Z"
    }
   },
   "outputs": [
    {
     "name": "stdout",
     "output_type": "stream",
     "text": [
      "|   iter    |  target   |   alpha   | colsam... |   gamma   | learni... | max_depth | min_ch... | n_esti... | subsample |\n",
      "-------------------------------------------------------------------------------------------------------------------------\n",
      "| \u001b[0m 1       \u001b[0m | \u001b[0m 0.8204  \u001b[0m | \u001b[0m 8.304   \u001b[0m | \u001b[0m 0.995   \u001b[0m | \u001b[0m 8.982   \u001b[0m | \u001b[0m 0.279   \u001b[0m | \u001b[0m 9.932   \u001b[0m | \u001b[0m 3.552   \u001b[0m | \u001b[0m 441.2   \u001b[0m | \u001b[0m 0.7249  \u001b[0m |\n",
      "| \u001b[95m 2       \u001b[0m | \u001b[95m 0.8629  \u001b[0m | \u001b[95m 0.9033  \u001b[0m | \u001b[95m 0.9047  \u001b[0m | \u001b[95m 2.632   \u001b[0m | \u001b[95m 0.08732 \u001b[0m | \u001b[95m 9.096   \u001b[0m | \u001b[95m 1.149   \u001b[0m | \u001b[95m 494.3   \u001b[0m | \u001b[95m 0.7033  \u001b[0m |\n",
      "| \u001b[0m 3       \u001b[0m | \u001b[0m 0.8502  \u001b[0m | \u001b[0m 5.219   \u001b[0m | \u001b[0m 0.6283  \u001b[0m | \u001b[0m 1.895   \u001b[0m | \u001b[0m 0.343   \u001b[0m | \u001b[0m 8.636   \u001b[0m | \u001b[0m 3.109   \u001b[0m | \u001b[0m 369.6   \u001b[0m | \u001b[0m 0.8599  \u001b[0m |\n",
      "| \u001b[0m 4       \u001b[0m | \u001b[0m 0.8255  \u001b[0m | \u001b[0m 9.214   \u001b[0m | \u001b[0m 0.9678  \u001b[0m | \u001b[0m 5.241   \u001b[0m | \u001b[0m 0.05149 \u001b[0m | \u001b[0m 4.146   \u001b[0m | \u001b[0m 9.585   \u001b[0m | \u001b[0m 384.1   \u001b[0m | \u001b[0m 0.9718  \u001b[0m |\n",
      "| \u001b[0m 5       \u001b[0m | \u001b[0m 0.8396  \u001b[0m | \u001b[0m 6.176   \u001b[0m | \u001b[0m 0.8633  \u001b[0m | \u001b[0m 2.274   \u001b[0m | \u001b[0m 0.3789  \u001b[0m | \u001b[0m 6.675   \u001b[0m | \u001b[0m 6.79    \u001b[0m | \u001b[0m 389.1   \u001b[0m | \u001b[0m 0.5301  \u001b[0m |\n",
      "| \u001b[0m 6       \u001b[0m | \u001b[0m 0.8516  \u001b[0m | \u001b[0m 3.98    \u001b[0m | \u001b[0m 0.6795  \u001b[0m | \u001b[0m 0.3035  \u001b[0m | \u001b[0m 0.1026  \u001b[0m | \u001b[0m 8.987   \u001b[0m | \u001b[0m 3.28    \u001b[0m | \u001b[0m 50.33   \u001b[0m | \u001b[0m 0.7825  \u001b[0m |\n",
      "| \u001b[95m 7       \u001b[0m | \u001b[95m 0.8752  \u001b[0m | \u001b[95m 0.06269 \u001b[0m | \u001b[95m 0.7361  \u001b[0m | \u001b[95m 0.7033  \u001b[0m | \u001b[95m 0.2152  \u001b[0m | \u001b[95m 9.999   \u001b[0m | \u001b[95m 1.934   \u001b[0m | \u001b[95m 187.1   \u001b[0m | \u001b[95m 0.8441  \u001b[0m |\n",
      "| \u001b[0m 8       \u001b[0m | \u001b[0m 0.8576  \u001b[0m | \u001b[0m 0.5358  \u001b[0m | \u001b[0m 0.6551  \u001b[0m | \u001b[0m 1.506   \u001b[0m | \u001b[0m 0.1167  \u001b[0m | \u001b[0m 4.914   \u001b[0m | \u001b[0m 1.688   \u001b[0m | \u001b[0m 268.5   \u001b[0m | \u001b[0m 0.6283  \u001b[0m |\n",
      "| \u001b[0m 9       \u001b[0m | \u001b[0m 0.8434  \u001b[0m | \u001b[0m 9.926   \u001b[0m | \u001b[0m 0.7804  \u001b[0m | \u001b[0m 0.9044  \u001b[0m | \u001b[0m 0.379   \u001b[0m | \u001b[0m 5.037   \u001b[0m | \u001b[0m 1.249   \u001b[0m | \u001b[0m 162.6   \u001b[0m | \u001b[0m 0.7469  \u001b[0m |\n",
      "| \u001b[0m 10      \u001b[0m | \u001b[0m 0.8465  \u001b[0m | \u001b[0m 0.9108  \u001b[0m | \u001b[0m 0.9419  \u001b[0m | \u001b[0m 0.2725  \u001b[0m | \u001b[0m 0.1262  \u001b[0m | \u001b[0m 9.547   \u001b[0m | \u001b[0m 9.365   \u001b[0m | \u001b[0m 117.7   \u001b[0m | \u001b[0m 0.5203  \u001b[0m |\n",
      "| \u001b[0m 11      \u001b[0m | \u001b[0m 0.8595  \u001b[0m | \u001b[0m 2.941   \u001b[0m | \u001b[0m 0.901   \u001b[0m | \u001b[0m 0.02697 \u001b[0m | \u001b[0m 0.4603  \u001b[0m | \u001b[0m 9.698   \u001b[0m | \u001b[0m 9.637   \u001b[0m | \u001b[0m 259.1   \u001b[0m | \u001b[0m 0.8382  \u001b[0m |\n",
      "| \u001b[0m 12      \u001b[0m | \u001b[0m 0.8248  \u001b[0m | \u001b[0m 1.842   \u001b[0m | \u001b[0m 0.773   \u001b[0m | \u001b[0m 9.885   \u001b[0m | \u001b[0m 0.1832  \u001b[0m | \u001b[0m 9.528   \u001b[0m | \u001b[0m 1.333   \u001b[0m | \u001b[0m 218.5   \u001b[0m | \u001b[0m 0.5162  \u001b[0m |\n",
      "| \u001b[0m 13      \u001b[0m | \u001b[0m 0.8484  \u001b[0m | \u001b[0m 9.839   \u001b[0m | \u001b[0m 0.8642  \u001b[0m | \u001b[0m 0.2421  \u001b[0m | \u001b[0m 0.2416  \u001b[0m | \u001b[0m 8.779   \u001b[0m | \u001b[0m 8.067   \u001b[0m | \u001b[0m 499.4   \u001b[0m | \u001b[0m 0.6335  \u001b[0m |\n",
      "| \u001b[0m 14      \u001b[0m | \u001b[0m 0.8362  \u001b[0m | \u001b[0m 0.3305  \u001b[0m | \u001b[0m 0.6294  \u001b[0m | \u001b[0m 0.5844  \u001b[0m | \u001b[0m 0.3978  \u001b[0m | \u001b[0m 9.968   \u001b[0m | \u001b[0m 8.877   \u001b[0m | \u001b[0m 320.2   \u001b[0m | \u001b[0m 0.5691  \u001b[0m |\n",
      "| \u001b[0m 15      \u001b[0m | \u001b[0m 0.8654  \u001b[0m | \u001b[0m 0.5202  \u001b[0m | \u001b[0m 0.8072  \u001b[0m | \u001b[0m 0.2412  \u001b[0m | \u001b[0m 0.1956  \u001b[0m | \u001b[0m 4.226   \u001b[0m | \u001b[0m 1.06    \u001b[0m | \u001b[0m 492.9   \u001b[0m | \u001b[0m 0.8103  \u001b[0m |\n",
      "| \u001b[0m 16      \u001b[0m | \u001b[0m 0.8519  \u001b[0m | \u001b[0m 0.4102  \u001b[0m | \u001b[0m 0.7762  \u001b[0m | \u001b[0m 0.03181 \u001b[0m | \u001b[0m 0.2654  \u001b[0m | \u001b[0m 5.512   \u001b[0m | \u001b[0m 6.086   \u001b[0m | \u001b[0m 206.9   \u001b[0m | \u001b[0m 0.6702  \u001b[0m |\n",
      "| \u001b[0m 17      \u001b[0m | \u001b[0m 0.8531  \u001b[0m | \u001b[0m 8.588   \u001b[0m | \u001b[0m 0.6099  \u001b[0m | \u001b[0m 0.1271  \u001b[0m | \u001b[0m 0.2726  \u001b[0m | \u001b[0m 9.936   \u001b[0m | \u001b[0m 2.772   \u001b[0m | \u001b[0m 227.3   \u001b[0m | \u001b[0m 0.5738  \u001b[0m |\n",
      "| \u001b[0m 18      \u001b[0m | \u001b[0m 0.8551  \u001b[0m | \u001b[0m 0.01156 \u001b[0m | \u001b[0m 0.837   \u001b[0m | \u001b[0m 4.069   \u001b[0m | \u001b[0m 0.07853 \u001b[0m | \u001b[0m 9.809   \u001b[0m | \u001b[0m 2.556   \u001b[0m | \u001b[0m 189.2   \u001b[0m | \u001b[0m 0.5449  \u001b[0m |\n",
      "| \u001b[0m 19      \u001b[0m | \u001b[0m 0.8643  \u001b[0m | \u001b[0m 0.3379  \u001b[0m | \u001b[0m 0.9934  \u001b[0m | \u001b[0m 0.6317  \u001b[0m | \u001b[0m 0.219   \u001b[0m | \u001b[0m 4.547   \u001b[0m | \u001b[0m 1.184   \u001b[0m | \u001b[0m 108.3   \u001b[0m | \u001b[0m 0.8578  \u001b[0m |\n",
      "| \u001b[0m 20      \u001b[0m | \u001b[0m 0.8541  \u001b[0m | \u001b[0m 7.561   \u001b[0m | \u001b[0m 0.6274  \u001b[0m | \u001b[0m 0.06441 \u001b[0m | \u001b[0m 0.2055  \u001b[0m | \u001b[0m 9.923   \u001b[0m | \u001b[0m 1.175   \u001b[0m | \u001b[0m 94.97   \u001b[0m | \u001b[0m 0.9974  \u001b[0m |\n",
      "| \u001b[0m 21      \u001b[0m | \u001b[0m 0.8293  \u001b[0m | \u001b[0m 0.4557  \u001b[0m | \u001b[0m 0.6185  \u001b[0m | \u001b[0m 8.866   \u001b[0m | \u001b[0m 0.4375  \u001b[0m | \u001b[0m 4.127   \u001b[0m | \u001b[0m 5.246   \u001b[0m | \u001b[0m 499.3   \u001b[0m | \u001b[0m 0.6539  \u001b[0m |\n",
      "| \u001b[0m 22      \u001b[0m | \u001b[0m 0.869   \u001b[0m | \u001b[0m 1.855   \u001b[0m | \u001b[0m 0.8908  \u001b[0m | \u001b[0m 0.1926  \u001b[0m | \u001b[0m 0.1097  \u001b[0m | \u001b[0m 9.906   \u001b[0m | \u001b[0m 1.418   \u001b[0m | \u001b[0m 124.0   \u001b[0m | \u001b[0m 0.6783  \u001b[0m |\n",
      "| \u001b[0m 23      \u001b[0m | \u001b[0m 0.844   \u001b[0m | \u001b[0m 8.016   \u001b[0m | \u001b[0m 0.7383  \u001b[0m | \u001b[0m 1.472   \u001b[0m | \u001b[0m 0.1989  \u001b[0m | \u001b[0m 4.85    \u001b[0m | \u001b[0m 1.328   \u001b[0m | \u001b[0m 497.6   \u001b[0m | \u001b[0m 0.7834  \u001b[0m |\n",
      "| \u001b[0m 24      \u001b[0m | \u001b[0m 0.8588  \u001b[0m | \u001b[0m 2.934   \u001b[0m | \u001b[0m 0.7668  \u001b[0m | \u001b[0m 1.084   \u001b[0m | \u001b[0m 0.3179  \u001b[0m | \u001b[0m 8.695   \u001b[0m | \u001b[0m 2.004   \u001b[0m | \u001b[0m 188.1   \u001b[0m | \u001b[0m 0.8582  \u001b[0m |\n",
      "| \u001b[0m 25      \u001b[0m | \u001b[0m 0.8699  \u001b[0m | \u001b[0m 0.229   \u001b[0m | \u001b[0m 0.6074  \u001b[0m | \u001b[0m 0.6765  \u001b[0m | \u001b[0m 0.3169  \u001b[0m | \u001b[0m 9.742   \u001b[0m | \u001b[0m 3.023   \u001b[0m | \u001b[0m 154.7   \u001b[0m | \u001b[0m 0.9571  \u001b[0m |\n",
      "| \u001b[0m 26      \u001b[0m | \u001b[0m 0.8731  \u001b[0m | \u001b[0m 0.5597  \u001b[0m | \u001b[0m 0.9595  \u001b[0m | \u001b[0m 0.3322  \u001b[0m | \u001b[0m 0.2586  \u001b[0m | \u001b[0m 9.254   \u001b[0m | \u001b[0m 1.397   \u001b[0m | \u001b[0m 253.6   \u001b[0m | \u001b[0m 0.7938  \u001b[0m |\n",
      "| \u001b[0m 27      \u001b[0m | \u001b[0m 0.8612  \u001b[0m | \u001b[0m 1.701   \u001b[0m | \u001b[0m 0.5002  \u001b[0m | \u001b[0m 0.378   \u001b[0m | \u001b[0m 0.05217 \u001b[0m | \u001b[0m 9.961   \u001b[0m | \u001b[0m 9.253   \u001b[0m | \u001b[0m 476.0   \u001b[0m | \u001b[0m 0.8451  \u001b[0m |\n",
      "| \u001b[0m 28      \u001b[0m | \u001b[0m 0.865   \u001b[0m | \u001b[0m 0.07911 \u001b[0m | \u001b[0m 0.8548  \u001b[0m | \u001b[0m 0.4913  \u001b[0m | \u001b[0m 0.4432  \u001b[0m | \u001b[0m 8.888   \u001b[0m | \u001b[0m 1.877   \u001b[0m | \u001b[0m 169.1   \u001b[0m | \u001b[0m 0.8027  \u001b[0m |\n",
      "| \u001b[0m 29      \u001b[0m | \u001b[0m 0.8373  \u001b[0m | \u001b[0m 0.09314 \u001b[0m | \u001b[0m 0.5944  \u001b[0m | \u001b[0m 8.596   \u001b[0m | \u001b[0m 0.2448  \u001b[0m | \u001b[0m 8.037   \u001b[0m | \u001b[0m 2.1     \u001b[0m | \u001b[0m 54.29   \u001b[0m | \u001b[0m 0.5252  \u001b[0m |\n",
      "| \u001b[0m 30      \u001b[0m | \u001b[0m 0.8681  \u001b[0m | \u001b[0m 0.7349  \u001b[0m | \u001b[0m 0.8939  \u001b[0m | \u001b[0m 0.4468  \u001b[0m | \u001b[0m 0.1531  \u001b[0m | \u001b[0m 9.669   \u001b[0m | \u001b[0m 1.225   \u001b[0m | \u001b[0m 268.9   \u001b[0m | \u001b[0m 0.5815  \u001b[0m |\n",
      "| \u001b[0m 31      \u001b[0m | \u001b[0m 0.8731  \u001b[0m | \u001b[0m 0.7201  \u001b[0m | \u001b[0m 0.8727  \u001b[0m | \u001b[0m 0.4011  \u001b[0m | \u001b[0m 0.1391  \u001b[0m | \u001b[0m 7.326   \u001b[0m | \u001b[0m 1.249   \u001b[0m | \u001b[0m 420.6   \u001b[0m | \u001b[0m 0.8535  \u001b[0m |\n",
      "| \u001b[0m 32      \u001b[0m | \u001b[0m 0.8676  \u001b[0m | \u001b[0m 0.2441  \u001b[0m | \u001b[0m 0.5389  \u001b[0m | \u001b[0m 0.6008  \u001b[0m | \u001b[0m 0.2884  \u001b[0m | \u001b[0m 4.355   \u001b[0m | \u001b[0m 1.013   \u001b[0m | \u001b[0m 381.2   \u001b[0m | \u001b[0m 0.9901  \u001b[0m |\n",
      "| \u001b[0m 33      \u001b[0m | \u001b[0m 0.8714  \u001b[0m | \u001b[0m 0.4067  \u001b[0m | \u001b[0m 0.7838  \u001b[0m | \u001b[0m 0.1675  \u001b[0m | \u001b[0m 0.2418  \u001b[0m | \u001b[0m 9.722   \u001b[0m | \u001b[0m 1.652   \u001b[0m | \u001b[0m 451.2   \u001b[0m | \u001b[0m 0.5378  \u001b[0m |\n",
      "| \u001b[0m 34      \u001b[0m | \u001b[0m 0.8594  \u001b[0m | \u001b[0m 0.04309 \u001b[0m | \u001b[0m 0.7363  \u001b[0m | \u001b[0m 0.5403  \u001b[0m | \u001b[0m 0.1592  \u001b[0m | \u001b[0m 8.719   \u001b[0m | \u001b[0m 6.411   \u001b[0m | \u001b[0m 499.9   \u001b[0m | \u001b[0m 0.7846  \u001b[0m |\n",
      "| \u001b[0m 35      \u001b[0m | \u001b[0m 0.8287  \u001b[0m | \u001b[0m 8.67    \u001b[0m | \u001b[0m 0.6036  \u001b[0m | \u001b[0m 1.553   \u001b[0m | \u001b[0m 0.4718  \u001b[0m | \u001b[0m 4.08    \u001b[0m | \u001b[0m 2.821   \u001b[0m | \u001b[0m 52.36   \u001b[0m | \u001b[0m 0.5464  \u001b[0m |\n",
      "=========================================================================================================================\n"
     ]
    }
   ],
   "source": [
    "from bayes_opt import BayesianOptimization\n",
    "\n",
    "xgb_opt = BayesianOptimization(xgb_optimize, {\n",
    "    'learning_rate': (0.05, 0.5),\n",
    "    'n_estimators': (50, 500),    \n",
    "    'min_child_weight': (1, 10),        \n",
    "    'colsample_bytree': (0.5, 1),            \n",
    "    'max_depth': (4, 10),                \n",
    "    'subsample': (0.5, 1),                    \n",
    "    'gamma': (0, 10),                        \n",
    "    'alpha': (0, 10)\n",
    "})\n",
    "dtrain = xgb.DMatrix(X_train.values, y_train.values)\n",
    "xgb_opt.maximize(init_points=5, n_iter=30)"
   ]
  },
  {
   "cell_type": "code",
   "execution_count": 6,
   "metadata": {
    "ExecuteTime": {
     "end_time": "2020-05-30T14:58:28.358536Z",
     "start_time": "2020-05-30T14:58:28.354871Z"
    }
   },
   "outputs": [
    {
     "data": {
      "text/plain": [
       "{'target': 0.8751771999999999,\n",
       " 'params': {'alpha': 0.06268714476216575,\n",
       "  'colsample_bytree': 0.7360662447483263,\n",
       "  'gamma': 0.7033383076398991,\n",
       "  'learning_rate': 0.2151805617029311,\n",
       "  'max_depth': 9.998628523220404,\n",
       "  'min_child_weight': 1.9336942794260263,\n",
       "  'n_estimators': 187.05259082017082,\n",
       "  'subsample': 0.8441411912271919}}"
      ]
     },
     "execution_count": 6,
     "metadata": {},
     "output_type": "execute_result"
    }
   ],
   "source": [
    "xgb_opt.max"
   ]
  },
  {
   "cell_type": "markdown",
   "metadata": {},
   "source": [
    "## 训练模型"
   ]
  },
  {
   "cell_type": "code",
   "execution_count": 7,
   "metadata": {
    "ExecuteTime": {
     "end_time": "2020-05-30T14:58:28.362127Z",
     "start_time": "2020-05-30T14:58:28.359344Z"
    }
   },
   "outputs": [],
   "source": [
    "def model_fit_for_bayesian(bst, X_train, X_test, y_train, y_test):    \n",
    "    # 训练\n",
    "    bst.fit(X_train, y_train, eval_metric=['auc'])\n",
    "\n",
    "    # 评估训练集\n",
    "    train_predict = bst.predict(X_train)\n",
    "    train_auc = metrics.roc_auc_score(y_train, train_predict)\n",
    "    print('train AUC: ', train_auc)\n",
    "    \n",
    "    # 评估测试集\n",
    "    test_predict = bst.predict(X_test)\n",
    "    test_auc = metrics.roc_auc_score(y_test, test_predict)\n",
    "    print('test AUC: ', test_auc)"
   ]
  },
  {
   "cell_type": "code",
   "execution_count": 8,
   "metadata": {
    "ExecuteTime": {
     "end_time": "2020-05-30T14:58:29.064601Z",
     "start_time": "2020-05-30T14:58:28.363375Z"
    }
   },
   "outputs": [
    {
     "name": "stdout",
     "output_type": "stream",
     "text": [
      "train AUC:  1.0\n",
      "test AUC:  0.7842426403581759\n"
     ]
    }
   ],
   "source": [
    "bst = XGBClassifier(\n",
    "    learning_rate=0.1488,\n",
    "    n_estimators=1000,\n",
    "    max_depth=9,\n",
    "    min_child_weight=1.1505,\n",
    "    objective='binary:logistic',    \n",
    "    subsample=0.8915,\n",
    "    colsample_bytree=0.5033,\n",
    "    alpha=0.2085,\n",
    "    gamma=0.6196, \n",
    "    nthread=8,\n",
    "    scale_pos_weight=1,\n",
    "    seed=666\n",
    ")\n",
    "model_fit_for_bayesian(bst, X_train, X_test, y_train, y_test)"
   ]
  }
 ],
 "metadata": {
  "kernelspec": {
   "display_name": "Python 3",
   "language": "python",
   "name": "python3"
  },
  "language_info": {
   "codemirror_mode": {
    "name": "ipython",
    "version": 3
   },
   "file_extension": ".py",
   "mimetype": "text/x-python",
   "name": "python",
   "nbconvert_exporter": "python",
   "pygments_lexer": "ipython3",
   "version": "3.7.6"
  },
  "toc": {
   "base_numbering": 1,
   "nav_menu": {},
   "number_sections": true,
   "sideBar": true,
   "skip_h1_title": false,
   "title_cell": "Table of Contents",
   "title_sidebar": "Contents",
   "toc_cell": false,
   "toc_position": {},
   "toc_section_display": true,
   "toc_window_display": false
  }
 },
 "nbformat": 4,
 "nbformat_minor": 4
}
