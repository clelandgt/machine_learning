{
 "cells": [
  {
   "cell_type": "code",
   "execution_count": 29,
   "metadata": {},
   "outputs": [],
   "source": [
    "import xgboost as xgb"
   ]
  },
  {
   "cell_type": "markdown",
   "metadata": {},
   "source": [
    "## 蘑菇是否有毒"
   ]
  },
  {
   "cell_type": "markdown",
   "metadata": {},
   "source": [
    "### 模型基本运行"
   ]
  },
  {
   "cell_type": "code",
   "execution_count": 2,
   "metadata": {},
   "outputs": [
    {
     "ename": "NameError",
     "evalue": "name 'xgb' is not defined",
     "output_type": "error",
     "traceback": [
      "\u001b[0;31m---------------------------------------------------------------------------\u001b[0m",
      "\u001b[0;31mNameError\u001b[0m                                 Traceback (most recent call last)",
      "\u001b[0;32m<ipython-input-2-8cc87384e3ab>\u001b[0m in \u001b[0;36m<module>\u001b[0;34m\u001b[0m\n\u001b[1;32m      1\u001b[0m \u001b[0;31m# 数据读取\u001b[0m\u001b[0;34m\u001b[0m\u001b[0;34m\u001b[0m\u001b[0;34m\u001b[0m\u001b[0m\n\u001b[0;32m----> 2\u001b[0;31m \u001b[0mdtrain\u001b[0m \u001b[0;34m=\u001b[0m \u001b[0mxgb\u001b[0m\u001b[0;34m.\u001b[0m\u001b[0mDMatrix\u001b[0m\u001b[0;34m(\u001b[0m\u001b[0;34m'agaricus.txt.train'\u001b[0m\u001b[0;34m)\u001b[0m\u001b[0;34m\u001b[0m\u001b[0;34m\u001b[0m\u001b[0m\n\u001b[0m\u001b[1;32m      3\u001b[0m \u001b[0mdtest\u001b[0m \u001b[0;34m=\u001b[0m \u001b[0mxgb\u001b[0m\u001b[0;34m.\u001b[0m\u001b[0mDMatrix\u001b[0m\u001b[0;34m(\u001b[0m\u001b[0;34m'agaricus.txt.test'\u001b[0m\u001b[0;34m)\u001b[0m\u001b[0;34m\u001b[0m\u001b[0;34m\u001b[0m\u001b[0m\n\u001b[1;32m      4\u001b[0m \u001b[0;34m\u001b[0m\u001b[0m\n\u001b[1;32m      5\u001b[0m params = {\n",
      "\u001b[0;31mNameError\u001b[0m: name 'xgb' is not defined"
     ]
    }
   ],
   "source": [
    "# 数据读取\n",
    "dtrain = xgb.DMatrix('agaricus.txt.train')\n",
    "dtest = xgb.DMatrix('agaricus.txt.test')\n",
    "\n",
    "params = {\n",
    "    'objective': 'binary:logistic',\n",
    "    'booster': 'gbtree',\n",
    "    'max_depth': 50\n",
    "}\n",
    "\n",
    "# 训练轮数\n",
    "num_round = 5\n",
    "\n",
    "# 训练过程中加入实时输出评估结果\n",
    "watchlist = [(dtrain, 'train'), (dtest, 'test')]\n",
    "\n",
    "model = xgb.train(params, dtrain, num_round, watchlist)"
   ]
  },
  {
   "cell_type": "code",
   "execution_count": 1,
   "metadata": {},
   "outputs": [
    {
     "ename": "NameError",
     "evalue": "name 'dtrain' is not defined",
     "output_type": "error",
     "traceback": [
      "\u001b[0;31m---------------------------------------------------------------------------\u001b[0m",
      "\u001b[0;31mNameError\u001b[0m                                 Traceback (most recent call last)",
      "\u001b[0;32m<ipython-input-1-8a418f5150f8>\u001b[0m in \u001b[0;36m<module>\u001b[0;34m\u001b[0m\n\u001b[0;32m----> 1\u001b[0;31m \u001b[0mhelp\u001b[0m\u001b[0;34m(\u001b[0m\u001b[0mdtrain\u001b[0m\u001b[0;34m)\u001b[0m\u001b[0;34m\u001b[0m\u001b[0;34m\u001b[0m\u001b[0m\n\u001b[0m",
      "\u001b[0;31mNameError\u001b[0m: name 'dtrain' is not defined"
     ]
    }
   ],
   "source": [
    "help(dtrain)"
   ]
  },
  {
   "cell_type": "markdown",
   "metadata": {},
   "source": [
    "### 可视化"
   ]
  },
  {
   "cell_type": "code",
   "execution_count": 50,
   "metadata": {},
   "outputs": [
    {
     "data": {
      "text/plain": [
       "<matplotlib.axes._subplots.AxesSubplot at 0x122db2240>"
      ]
     },
     "execution_count": 50,
     "metadata": {},
     "output_type": "execute_result"
    },
    {
     "data": {
      "image/png": "[encoded data removed]",
      "text/plain": [
       "<Figure size 432x288 with 1 Axes>"
      ]
     },
     "metadata": {
      "needs_background": "light"
     },
     "output_type": "display_data"
    }
   ],
   "source": [
    "xgb.plot_tree(model)"
   ]
  },
  {
   "cell_type": "code",
   "execution_count": 52,
   "metadata": {},
   "outputs": [
    {
     "data": {
      "image/svg+xml": [
       "<?xml version=\"1.0\" encoding=\"UTF-8\" standalone=\"no\"?>\n",
       "<!DOCTYPE svg PUBLIC \"-//W3C//DTD SVG 1.1//EN\"\n",
       " \"http://www.w3.org/Graphics/SVG/1.1/DTD/svg11.dtd\">\n",
       "<!-- Generated by graphviz version 2.42.3 (20191010.1750)\n",
       " -->\n",
       "<!-- Title: %3 Pages: 1 -->\n",
       "<svg width=\"1403pt\" height=\"474pt\"\n",
       " viewBox=\"0.00 0.00 1403.49 474.00\" xmlns=\"http://www.w3.org/2000/svg\" xmlns:xlink=\"http://www.w3.org/1999/xlink\">\n",
       "<g id=\"graph0\" class=\"graph\" transform=\"scale(1 1) rotate(0) translate(4 470)\">\n",
       "<title>%3</title>\n",
       "<polygon fill=\"white\" stroke=\"transparent\" points=\"-4,4 -4,-470 1399.49,-470 1399.49,4 -4,4\"/>\n",
       "<!-- 0 -->\n",
       "<g id=\"node1\" class=\"node\">\n",
       "<title>0</title>\n",
       "<ellipse fill=\"none\" stroke=\"black\" cx=\"832.77\" cy=\"-448\" rx=\"87.6\" ry=\"18\"/>\n",
       "<text text-anchor=\"middle\" x=\"832.77\" y=\"-443.8\" font-family=\"Times,serif\" font-size=\"14.00\">f29&lt;&#45;9.53674316e&#45;07</text>\n",
       "</g>\n",
       "<!-- 1 -->\n",
       "<g id=\"node2\" class=\"node\">\n",
       "<title>1</title>\n",
       "<ellipse fill=\"none\" stroke=\"black\" cx=\"671.77\" cy=\"-362\" rx=\"87.6\" ry=\"18\"/>\n",
       "<text text-anchor=\"middle\" x=\"671.77\" y=\"-357.8\" font-family=\"Times,serif\" font-size=\"14.00\">f56&lt;&#45;9.53674316e&#45;07</text>\n",
       "</g>\n",
       "<!-- 0&#45;&gt;1 -->\n",
       "<g id=\"edge1\" class=\"edge\">\n",
       "<title>0&#45;&gt;1</title>\n",
       "<path fill=\"none\" stroke=\"#0000ff\" d=\"M802.11,-431C776.37,-417.57 739.43,-398.3 711.44,-383.7\"/>\n",
       "<polygon fill=\"#0000ff\" stroke=\"#0000ff\" points=\"712.81,-380.46 702.32,-378.94 709.57,-386.67 712.81,-380.46\"/>\n",
       "<text text-anchor=\"middle\" x=\"797.39\" y=\"-400.8\" font-family=\"Times,serif\" font-size=\"14.00\">yes, missing</text>\n",
       "</g>\n",
       "<!-- 2 -->\n",
       "<g id=\"node3\" class=\"node\">\n",
       "<title>2</title>\n",
       "<ellipse fill=\"none\" stroke=\"black\" cx=\"964.77\" cy=\"-362\" rx=\"91.94\" ry=\"18\"/>\n",
       "<text text-anchor=\"middle\" x=\"964.77\" y=\"-357.8\" font-family=\"Times,serif\" font-size=\"14.00\">f109&lt;&#45;9.53674316e&#45;07</text>\n",
       "</g>\n",
       "<!-- 0&#45;&gt;2 -->\n",
       "<g id=\"edge2\" class=\"edge\">\n",
       "<title>0&#45;&gt;2</title>\n",
       "<path fill=\"none\" stroke=\"#ff0000\" d=\"M858.54,-430.6C879.07,-417.54 908.01,-399.12 930.5,-384.81\"/>\n",
       "<polygon fill=\"#ff0000\" stroke=\"#ff0000\" points=\"932.52,-387.68 939.08,-379.35 928.76,-381.77 932.52,-387.68\"/>\n",
       "<text text-anchor=\"middle\" x=\"913.77\" y=\"-400.8\" font-family=\"Times,serif\" font-size=\"14.00\">no</text>\n",
       "</g>\n",
       "<!-- 3 -->\n",
       "<g id=\"node4\" class=\"node\">\n",
       "<title>3</title>\n",
       "<ellipse fill=\"none\" stroke=\"black\" cx=\"449.77\" cy=\"-276\" rx=\"87.6\" ry=\"18\"/>\n",
       "<text text-anchor=\"middle\" x=\"449.77\" y=\"-271.8\" font-family=\"Times,serif\" font-size=\"14.00\">f60&lt;&#45;9.53674316e&#45;07</text>\n",
       "</g>\n",
       "<!-- 1&#45;&gt;3 -->\n",
       "<g id=\"edge3\" class=\"edge\">\n",
       "<title>1&#45;&gt;3</title>\n",
       "<path fill=\"none\" stroke=\"#0000ff\" d=\"M631.83,-345.89C594.69,-331.83 539.26,-310.86 499.32,-295.75\"/>\n",
       "<polygon fill=\"#0000ff\" stroke=\"#0000ff\" points=\"500.36,-292.4 489.77,-292.13 497.89,-298.95 500.36,-292.4\"/>\n",
       "<text text-anchor=\"middle\" x=\"609.39\" y=\"-314.8\" font-family=\"Times,serif\" font-size=\"14.00\">yes, missing</text>\n",
       "</g>\n",
       "<!-- 4 -->\n",
       "<g id=\"node5\" class=\"node\">\n",
       "<title>4</title>\n",
       "<ellipse fill=\"none\" stroke=\"black\" cx=\"671.77\" cy=\"-276\" rx=\"87.6\" ry=\"18\"/>\n",
       "<text text-anchor=\"middle\" x=\"671.77\" y=\"-271.8\" font-family=\"Times,serif\" font-size=\"14.00\">f21&lt;&#45;9.53674316e&#45;07</text>\n",
       "</g>\n",
       "<!-- 1&#45;&gt;4 -->\n",
       "<g id=\"edge4\" class=\"edge\">\n",
       "<title>1&#45;&gt;4</title>\n",
       "<path fill=\"none\" stroke=\"#ff0000\" d=\"M671.77,-343.6C671.77,-332.26 671.77,-317.23 671.77,-304.32\"/>\n",
       "<polygon fill=\"#ff0000\" stroke=\"#ff0000\" points=\"675.27,-304.1 671.77,-294.1 668.27,-304.1 675.27,-304.1\"/>\n",
       "<text text-anchor=\"middle\" x=\"678.77\" y=\"-314.8\" font-family=\"Times,serif\" font-size=\"14.00\">no</text>\n",
       "</g>\n",
       "<!-- 5 -->\n",
       "<g id=\"node14\" class=\"node\">\n",
       "<title>5</title>\n",
       "<ellipse fill=\"none\" stroke=\"black\" cx=\"964.77\" cy=\"-276\" rx=\"87.6\" ry=\"18\"/>\n",
       "<text text-anchor=\"middle\" x=\"964.77\" y=\"-271.8\" font-family=\"Times,serif\" font-size=\"14.00\">f67&lt;&#45;9.53674316e&#45;07</text>\n",
       "</g>\n",
       "<!-- 2&#45;&gt;5 -->\n",
       "<g id=\"edge13\" class=\"edge\">\n",
       "<title>2&#45;&gt;5</title>\n",
       "<path fill=\"none\" stroke=\"#0000ff\" d=\"M964.77,-343.6C964.77,-332.26 964.77,-317.23 964.77,-304.32\"/>\n",
       "<polygon fill=\"#0000ff\" stroke=\"#0000ff\" points=\"968.27,-304.1 964.77,-294.1 961.27,-304.1 968.27,-304.1\"/>\n",
       "<text text-anchor=\"middle\" x=\"999.39\" y=\"-314.8\" font-family=\"Times,serif\" font-size=\"14.00\">yes, missing</text>\n",
       "</g>\n",
       "<!-- 6 -->\n",
       "<g id=\"node15\" class=\"node\">\n",
       "<title>6</title>\n",
       "<ellipse fill=\"none\" stroke=\"black\" cx=\"1144.77\" cy=\"-276\" rx=\"74.55\" ry=\"18\"/>\n",
       "<text text-anchor=\"middle\" x=\"1144.77\" y=\"-271.8\" font-family=\"Times,serif\" font-size=\"14.00\">leaf=0.557894766</text>\n",
       "</g>\n",
       "<!-- 2&#45;&gt;6 -->\n",
       "<g id=\"edge14\" class=\"edge\">\n",
       "<title>2&#45;&gt;6</title>\n",
       "<path fill=\"none\" stroke=\"#ff0000\" d=\"M998.63,-345.2C1028.07,-331.46 1070.86,-311.49 1102.53,-296.71\"/>\n",
       "<polygon fill=\"#ff0000\" stroke=\"#ff0000\" points=\"1104.4,-299.7 1111.98,-292.3 1101.44,-293.36 1104.4,-299.7\"/>\n",
       "<text text-anchor=\"middle\" x=\"1072.77\" y=\"-314.8\" font-family=\"Times,serif\" font-size=\"14.00\">no</text>\n",
       "</g>\n",
       "<!-- 7 -->\n",
       "<g id=\"node6\" class=\"node\">\n",
       "<title>7</title>\n",
       "<ellipse fill=\"none\" stroke=\"black\" cx=\"270.77\" cy=\"-190\" rx=\"87.6\" ry=\"18\"/>\n",
       "<text text-anchor=\"middle\" x=\"270.77\" y=\"-185.8\" font-family=\"Times,serif\" font-size=\"14.00\">f23&lt;&#45;9.53674316e&#45;07</text>\n",
       "</g>\n",
       "<!-- 3&#45;&gt;7 -->\n",
       "<g id=\"edge5\" class=\"edge\">\n",
       "<title>3&#45;&gt;7</title>\n",
       "<path fill=\"none\" stroke=\"#0000ff\" d=\"M416.11,-259.2C387.1,-245.59 345.08,-225.87 313.67,-211.13\"/>\n",
       "<polygon fill=\"#0000ff\" stroke=\"#0000ff\" points=\"314.83,-207.81 304.29,-206.73 311.86,-214.15 314.83,-207.81\"/>\n",
       "<text text-anchor=\"middle\" x=\"406.39\" y=\"-228.8\" font-family=\"Times,serif\" font-size=\"14.00\">yes, missing</text>\n",
       "</g>\n",
       "<!-- 8 -->\n",
       "<g id=\"node7\" class=\"node\">\n",
       "<title>8</title>\n",
       "<ellipse fill=\"none\" stroke=\"black\" cx=\"449.77\" cy=\"-190\" rx=\"73.1\" ry=\"18\"/>\n",
       "<text text-anchor=\"middle\" x=\"449.77\" y=\"-185.8\" font-family=\"Times,serif\" font-size=\"14.00\">leaf=&#45;0.58518523</text>\n",
       "</g>\n",
       "<!-- 3&#45;&gt;8 -->\n",
       "<g id=\"edge6\" class=\"edge\">\n",
       "<title>3&#45;&gt;8</title>\n",
       "<path fill=\"none\" stroke=\"#ff0000\" d=\"M449.77,-257.6C449.77,-246.26 449.77,-231.23 449.77,-218.32\"/>\n",
       "<polygon fill=\"#ff0000\" stroke=\"#ff0000\" points=\"453.27,-218.1 449.77,-208.1 446.27,-218.1 453.27,-218.1\"/>\n",
       "<text text-anchor=\"middle\" x=\"456.77\" y=\"-228.8\" font-family=\"Times,serif\" font-size=\"14.00\">no</text>\n",
       "</g>\n",
       "<!-- 9 -->\n",
       "<g id=\"node12\" class=\"node\">\n",
       "<title>9</title>\n",
       "<ellipse fill=\"none\" stroke=\"black\" cx=\"615.77\" cy=\"-190\" rx=\"74.55\" ry=\"18\"/>\n",
       "<text text-anchor=\"middle\" x=\"615.77\" y=\"-185.8\" font-family=\"Times,serif\" font-size=\"14.00\">leaf=0.533333361</text>\n",
       "</g>\n",
       "<!-- 4&#45;&gt;9 -->\n",
       "<g id=\"edge11\" class=\"edge\">\n",
       "<title>4&#45;&gt;9</title>\n",
       "<path fill=\"none\" stroke=\"#0000ff\" d=\"M660.44,-258C652.47,-246.05 641.67,-229.84 632.68,-216.36\"/>\n",
       "<polygon fill=\"#0000ff\" stroke=\"#0000ff\" points=\"635.55,-214.35 627.09,-207.97 629.73,-218.24 635.55,-214.35\"/>\n",
       "<text text-anchor=\"middle\" x=\"682.39\" y=\"-228.8\" font-family=\"Times,serif\" font-size=\"14.00\">yes, missing</text>\n",
       "</g>\n",
       "<!-- 10 -->\n",
       "<g id=\"node13\" class=\"node\">\n",
       "<title>10</title>\n",
       "<ellipse fill=\"none\" stroke=\"black\" cx=\"785.77\" cy=\"-190\" rx=\"77.94\" ry=\"18\"/>\n",
       "<text text-anchor=\"middle\" x=\"785.77\" y=\"-185.8\" font-family=\"Times,serif\" font-size=\"14.00\">leaf=&#45;0.594312787</text>\n",
       "</g>\n",
       "<!-- 4&#45;&gt;10 -->\n",
       "<g id=\"edge12\" class=\"edge\">\n",
       "<title>4&#45;&gt;10</title>\n",
       "<path fill=\"none\" stroke=\"#ff0000\" d=\"M695.29,-258.39C703.4,-252.61 712.52,-246.06 720.77,-240 732.4,-231.47 745.08,-221.96 756.12,-213.6\"/>\n",
       "<polygon fill=\"#ff0000\" stroke=\"#ff0000\" points=\"758.36,-216.3 764.21,-207.47 754.13,-210.72 758.36,-216.3\"/>\n",
       "<text text-anchor=\"middle\" x=\"745.77\" y=\"-228.8\" font-family=\"Times,serif\" font-size=\"14.00\">no</text>\n",
       "</g>\n",
       "<!-- 13 -->\n",
       "<g id=\"node8\" class=\"node\">\n",
       "<title>13</title>\n",
       "<ellipse fill=\"none\" stroke=\"black\" cx=\"159.77\" cy=\"-104\" rx=\"87.6\" ry=\"18\"/>\n",
       "<text text-anchor=\"middle\" x=\"159.77\" y=\"-99.8\" font-family=\"Times,serif\" font-size=\"14.00\">f24&lt;&#45;9.53674316e&#45;07</text>\n",
       "</g>\n",
       "<!-- 7&#45;&gt;13 -->\n",
       "<g id=\"edge7\" class=\"edge\">\n",
       "<title>7&#45;&gt;13</title>\n",
       "<path fill=\"none\" stroke=\"#0000ff\" d=\"M248.84,-172.4C231.97,-159.63 208.46,-141.84 189.83,-127.75\"/>\n",
       "<polygon fill=\"#0000ff\" stroke=\"#0000ff\" points=\"191.75,-124.8 181.66,-121.56 187.52,-130.39 191.75,-124.8\"/>\n",
       "<text text-anchor=\"middle\" x=\"257.39\" y=\"-142.8\" font-family=\"Times,serif\" font-size=\"14.00\">yes, missing</text>\n",
       "</g>\n",
       "<!-- 14 -->\n",
       "<g id=\"node9\" class=\"node\">\n",
       "<title>14</title>\n",
       "<ellipse fill=\"none\" stroke=\"black\" cx=\"338.77\" cy=\"-104\" rx=\"73.1\" ry=\"18\"/>\n",
       "<text text-anchor=\"middle\" x=\"338.77\" y=\"-99.8\" font-family=\"Times,serif\" font-size=\"14.00\">leaf=&#45;0.54285717</text>\n",
       "</g>\n",
       "<!-- 7&#45;&gt;14 -->\n",
       "<g id=\"edge8\" class=\"edge\">\n",
       "<title>7&#45;&gt;14</title>\n",
       "<path fill=\"none\" stroke=\"#ff0000\" d=\"M284.54,-172C294.31,-159.93 307.58,-143.53 318.55,-129.98\"/>\n",
       "<polygon fill=\"#ff0000\" stroke=\"#ff0000\" points=\"321.46,-131.95 325.03,-121.97 316.02,-127.54 321.46,-131.95\"/>\n",
       "<text text-anchor=\"middle\" x=\"316.77\" y=\"-142.8\" font-family=\"Times,serif\" font-size=\"14.00\">no</text>\n",
       "</g>\n",
       "<!-- 19 -->\n",
       "<g id=\"node10\" class=\"node\">\n",
       "<title>19</title>\n",
       "<ellipse fill=\"none\" stroke=\"black\" cx=\"74.77\" cy=\"-18\" rx=\"74.55\" ry=\"18\"/>\n",
       "<text text-anchor=\"middle\" x=\"74.77\" y=\"-13.8\" font-family=\"Times,serif\" font-size=\"14.00\">leaf=0.599205315</text>\n",
       "</g>\n",
       "<!-- 13&#45;&gt;19 -->\n",
       "<g id=\"edge9\" class=\"edge\">\n",
       "<title>13&#45;&gt;19</title>\n",
       "<path fill=\"none\" stroke=\"#0000ff\" d=\"M142.57,-86C130.05,-73.62 112.92,-56.69 99.01,-42.95\"/>\n",
       "<polygon fill=\"#0000ff\" stroke=\"#0000ff\" points=\"101.23,-40.23 91.66,-35.69 96.31,-45.21 101.23,-40.23\"/>\n",
       "<text text-anchor=\"middle\" x=\"157.39\" y=\"-56.8\" font-family=\"Times,serif\" font-size=\"14.00\">yes, missing</text>\n",
       "</g>\n",
       "<!-- 20 -->\n",
       "<g id=\"node11\" class=\"node\">\n",
       "<title>20</title>\n",
       "<ellipse fill=\"none\" stroke=\"black\" cx=\"244.77\" cy=\"-18\" rx=\"77.94\" ry=\"18\"/>\n",
       "<text text-anchor=\"middle\" x=\"244.77\" y=\"-13.8\" font-family=\"Times,serif\" font-size=\"14.00\">leaf=&#45;0.540000021</text>\n",
       "</g>\n",
       "<!-- 13&#45;&gt;20 -->\n",
       "<g id=\"edge10\" class=\"edge\">\n",
       "<title>13&#45;&gt;20</title>\n",
       "<path fill=\"none\" stroke=\"#ff0000\" d=\"M177.04,-86.31C182.99,-80.53 189.69,-74 195.77,-68 203.87,-60.02 212.67,-51.25 220.54,-43.37\"/>\n",
       "<polygon fill=\"#ff0000\" stroke=\"#ff0000\" points=\"223.47,-45.39 228.05,-35.84 218.51,-40.45 223.47,-45.39\"/>\n",
       "<text text-anchor=\"middle\" x=\"216.77\" y=\"-56.8\" font-family=\"Times,serif\" font-size=\"14.00\">no</text>\n",
       "</g>\n",
       "<!-- 11 -->\n",
       "<g id=\"node16\" class=\"node\">\n",
       "<title>11</title>\n",
       "<ellipse fill=\"none\" stroke=\"black\" cx=\"964.77\" cy=\"-190\" rx=\"83.25\" ry=\"18\"/>\n",
       "<text text-anchor=\"middle\" x=\"964.77\" y=\"-185.8\" font-family=\"Times,serif\" font-size=\"14.00\">f8&lt;&#45;9.53674316e&#45;07</text>\n",
       "</g>\n",
       "<!-- 5&#45;&gt;11 -->\n",
       "<g id=\"edge15\" class=\"edge\">\n",
       "<title>5&#45;&gt;11</title>\n",
       "<path fill=\"none\" stroke=\"#0000ff\" d=\"M964.77,-257.6C964.77,-246.26 964.77,-231.23 964.77,-218.32\"/>\n",
       "<polygon fill=\"#0000ff\" stroke=\"#0000ff\" points=\"968.27,-218.1 964.77,-208.1 961.27,-218.1 968.27,-218.1\"/>\n",
       "<text text-anchor=\"middle\" x=\"999.39\" y=\"-228.8\" font-family=\"Times,serif\" font-size=\"14.00\">yes, missing</text>\n",
       "</g>\n",
       "<!-- 12 -->\n",
       "<g id=\"node17\" class=\"node\">\n",
       "<title>12</title>\n",
       "<ellipse fill=\"none\" stroke=\"black\" cx=\"1153.77\" cy=\"-190\" rx=\"87.6\" ry=\"18\"/>\n",
       "<text text-anchor=\"middle\" x=\"1153.77\" y=\"-185.8\" font-family=\"Times,serif\" font-size=\"14.00\">f39&lt;&#45;9.53674316e&#45;07</text>\n",
       "</g>\n",
       "<!-- 5&#45;&gt;12 -->\n",
       "<g id=\"edge16\" class=\"edge\">\n",
       "<title>5&#45;&gt;12</title>\n",
       "<path fill=\"none\" stroke=\"#ff0000\" d=\"M999.88,-259.4C1030.78,-245.66 1075.92,-225.6 1109.33,-210.75\"/>\n",
       "<polygon fill=\"#ff0000\" stroke=\"#ff0000\" points=\"1111.14,-213.78 1118.86,-206.52 1108.3,-207.38 1111.14,-213.78\"/>\n",
       "<text text-anchor=\"middle\" x=\"1077.77\" y=\"-228.8\" font-family=\"Times,serif\" font-size=\"14.00\">no</text>\n",
       "</g>\n",
       "<!-- 15 -->\n",
       "<g id=\"node18\" class=\"node\">\n",
       "<title>15</title>\n",
       "<ellipse fill=\"none\" stroke=\"black\" cx=\"799.77\" cy=\"-104\" rx=\"77.94\" ry=\"18\"/>\n",
       "<text text-anchor=\"middle\" x=\"799.77\" y=\"-99.8\" font-family=\"Times,serif\" font-size=\"14.00\">leaf=&#45;0.597352028</text>\n",
       "</g>\n",
       "<!-- 11&#45;&gt;15 -->\n",
       "<g id=\"edge17\" class=\"edge\">\n",
       "<title>11&#45;&gt;15</title>\n",
       "<path fill=\"none\" stroke=\"#0000ff\" d=\"M932.91,-173.24C920.87,-167.26 907.06,-160.35 894.55,-154 876.29,-144.73 856.13,-134.33 839.12,-125.51\"/>\n",
       "<polygon fill=\"#0000ff\" stroke=\"#0000ff\" points=\"840.51,-122.28 830.02,-120.78 837.28,-128.5 840.51,-122.28\"/>\n",
       "<text text-anchor=\"middle\" x=\"929.39\" y=\"-142.8\" font-family=\"Times,serif\" font-size=\"14.00\">yes, missing</text>\n",
       "</g>\n",
       "<!-- 16 -->\n",
       "<g id=\"node19\" class=\"node\">\n",
       "<title>16</title>\n",
       "<ellipse fill=\"none\" stroke=\"black\" cx=\"969.77\" cy=\"-104\" rx=\"74.55\" ry=\"18\"/>\n",
       "<text text-anchor=\"middle\" x=\"969.77\" y=\"-99.8\" font-family=\"Times,serif\" font-size=\"14.00\">leaf=0.300000012</text>\n",
       "</g>\n",
       "<!-- 11&#45;&gt;16 -->\n",
       "<g id=\"edge18\" class=\"edge\">\n",
       "<title>11&#45;&gt;16</title>\n",
       "<path fill=\"none\" stroke=\"#ff0000\" d=\"M965.81,-171.6C966.49,-160.26 967.38,-145.23 968.15,-132.32\"/>\n",
       "<polygon fill=\"#ff0000\" stroke=\"#ff0000\" points=\"971.66,-132.29 968.76,-122.1 964.67,-131.87 971.66,-132.29\"/>\n",
       "<text text-anchor=\"middle\" x=\"974.77\" y=\"-142.8\" font-family=\"Times,serif\" font-size=\"14.00\">no</text>\n",
       "</g>\n",
       "<!-- 17 -->\n",
       "<g id=\"node20\" class=\"node\">\n",
       "<title>17</title>\n",
       "<ellipse fill=\"none\" stroke=\"black\" cx=\"1147.77\" cy=\"-104\" rx=\"74.55\" ry=\"18\"/>\n",
       "<text text-anchor=\"middle\" x=\"1147.77\" y=\"-99.8\" font-family=\"Times,serif\" font-size=\"14.00\">leaf=0.531428576</text>\n",
       "</g>\n",
       "<!-- 12&#45;&gt;17 -->\n",
       "<g id=\"edge19\" class=\"edge\">\n",
       "<title>12&#45;&gt;17</title>\n",
       "<path fill=\"none\" stroke=\"#0000ff\" d=\"M1152.56,-172C1151.75,-160.69 1150.67,-145.58 1149.74,-132.57\"/>\n",
       "<polygon fill=\"#0000ff\" stroke=\"#0000ff\" points=\"1153.21,-131.99 1149.01,-122.26 1146.23,-132.49 1153.21,-131.99\"/>\n",
       "<text text-anchor=\"middle\" x=\"1186.39\" y=\"-142.8\" font-family=\"Times,serif\" font-size=\"14.00\">yes, missing</text>\n",
       "</g>\n",
       "<!-- 18 -->\n",
       "<g id=\"node21\" class=\"node\">\n",
       "<title>18</title>\n",
       "<ellipse fill=\"none\" stroke=\"black\" cx=\"1317.77\" cy=\"-104\" rx=\"77.94\" ry=\"18\"/>\n",
       "<text text-anchor=\"middle\" x=\"1317.77\" y=\"-99.8\" font-family=\"Times,serif\" font-size=\"14.00\">leaf=&#45;0.450000018</text>\n",
       "</g>\n",
       "<!-- 12&#45;&gt;18 -->\n",
       "<g id=\"edge20\" class=\"edge\">\n",
       "<title>12&#45;&gt;18</title>\n",
       "<path fill=\"none\" stroke=\"#ff0000\" d=\"M1186.38,-173.15C1198.48,-167.22 1212.29,-160.37 1224.77,-154 1242.75,-144.84 1262.54,-134.45 1279.22,-125.61\"/>\n",
       "<polygon fill=\"#ff0000\" stroke=\"#ff0000\" points=\"1280.95,-128.65 1288.14,-120.87 1277.67,-122.47 1280.95,-128.65\"/>\n",
       "<text text-anchor=\"middle\" x=\"1257.77\" y=\"-142.8\" font-family=\"Times,serif\" font-size=\"14.00\">no</text>\n",
       "</g>\n",
       "</g>\n",
       "</svg>\n"
      ],
      "text/plain": [
       "<graphviz.files.Source at 0x124a82c50>"
      ]
     },
     "execution_count": 52,
     "metadata": {},
     "output_type": "execute_result"
    }
   ],
   "source": [
    "# \n",
    "xgb.to_graphviz(model)"
   ]
  },
  {
   "cell_type": "code",
   "execution_count": 51,
   "metadata": {},
   "outputs": [
    {
     "data": {
      "text/plain": [
       "<matplotlib.axes._subplots.AxesSubplot at 0x1249cfac8>"
      ]
     },
     "execution_count": 51,
     "metadata": {},
     "output_type": "execute_result"
    },
    {
     "data": {
      "image/png": "[encoded data removed]",
      "text/plain": [
       "<Figure size 432x288 with 1 Axes>"
      ]
     },
     "metadata": {
      "needs_background": "light"
     },
     "output_type": "display_data"
    }
   ],
   "source": [
    "xgb.plot_importance(model)"
   ]
  },
  {
   "cell_type": "code",
   "execution_count": 49,
   "metadata": {},
   "outputs": [],
   "source": [
    "import graphviz"
   ]
  },
  {
   "cell_type": "code",
   "execution_count": 36,
   "metadata": {},
   "outputs": [
    {
     "data": {
      "text/plain": [
       "array([9, 0, 8, 0, 1])"
      ]
     },
     "execution_count": 36,
     "metadata": {},
     "output_type": "execute_result"
    }
   ],
   "source": [
    "import numpy as np\n",
    "np.random.randint(0, 10, size=5) "
   ]
  },
  {
   "cell_type": "code",
   "execution_count": null,
   "metadata": {},
   "outputs": [],
   "source": []
  }
 ],
 "metadata": {
  "kernelspec": {
   "display_name": "Python 3",
   "language": "python",
   "name": "python3"
  },
  "language_info": {
   "codemirror_mode": {
    "name": "ipython",
    "version": 3
   },
   "file_extension": ".py",
   "mimetype": "text/x-python",
   "name": "python",
   "nbconvert_exporter": "python",
   "pygments_lexer": "ipython3",
   "version": "3.7.1"
  }
 },
 "nbformat": 4,
 "nbformat_minor": 2
}
