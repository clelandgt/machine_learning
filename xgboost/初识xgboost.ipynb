{
 "cells": [
  {
   "cell_type": "code",
   "execution_count": 1,
   "metadata": {},
   "outputs": [],
   "source": [
    "import numpy as np\n",
    "import pandas as pd\n",
    "import xgboost as xgb\n",
    "import matplotlib.pylab as plt\n",
    "from xgboost.sklearn import XGBClassifier\n",
    "from sklearn.model_selection import GridSearchCV, train_test_split\n",
    "from sklearn import metrics\n",
    "\n",
    "%matplotlib inline"
   ]
  },
  {
   "cell_type": "markdown",
   "metadata": {},
   "source": [
    "## 二分类问题\n",
    "蘑菇是否有毒"
   ]
  },
  {
   "cell_type": "markdown",
   "metadata": {},
   "source": [
    "### 模型基本运行\n",
    "binary:logistic 二分类的逻辑回归，返回预测的概率(不是类别)。"
   ]
  },
  {
   "cell_type": "code",
   "execution_count": 2,
   "metadata": {},
   "outputs": [
    {
     "name": "stdout",
     "output_type": "stream",
     "text": [
      "[00:46:25] 6513x127 matrix with 143286 entries loaded from agaricus.txt.train\n",
      "[00:46:25] 1611x127 matrix with 35442 entries loaded from agaricus.txt.test\n",
      "[0]\ttrain-error:0.00061\ttest-error:0.00000\n",
      "[1]\ttrain-error:0.00123\ttest-error:0.00000\n",
      "[2]\ttrain-error:0.00061\ttest-error:0.00000\n",
      "[3]\ttrain-error:0.00061\ttest-error:0.00000\n",
      "[4]\ttrain-error:0.00000\ttest-error:0.00000\n"
     ]
    }
   ],
   "source": [
    "# 数据读取\n",
    "dtrain = xgb.DMatrix('agaricus.txt.train')\n",
    "dtest = xgb.DMatrix('agaricus.txt.test')\n",
    "\n",
    "# 设置参数\n",
    "params = {\n",
    "    'objective': 'binary:logistic',\n",
    "    'booster': 'gbtree',\n",
    "    'eta': '0.2',\n",
    "    'gamma': '1.0',\n",
    "    'min_child_weight': 1,\n",
    "    'max_depth': 5\n",
    "}\n",
    "# 训练轮数\n",
    "num_round = 5\n",
    "\n",
    "# 训练过程中加入实时输出评估结果\n",
    "watchlist = [(dtrain, 'train'), (dtest, 'test')]\n",
    "model = xgb.train(params, dtrain, num_round, watchlist)"
   ]
  },
  {
   "cell_type": "markdown",
   "metadata": {},
   "source": [
    "### 持久化模型与模型的加载"
   ]
  },
  {
   "cell_type": "code",
   "execution_count": 3,
   "metadata": {},
   "outputs": [
    {
     "name": "stdout",
     "output_type": "stream",
     "text": [
      "[0.17636333 0.82546127 0.17636333 ... 0.82546127 0.17495753 0.82546127]\n"
     ]
    }
   ],
   "source": [
    "# 存储并重新加载模型并预测\n",
    "model.save_model('./0002.model')\n",
    "bst = xgb.Booster()\n",
    "bst.load_model('./0002.model')\n",
    "predict = bst.predict(dtest)\n",
    "\n",
    "# 打印预测值\n",
    "print(predict)\n",
    "# 添加xgboost_agaricus_featmap.txt特征映射文件后，dump_model可更直接了当观察树模型\n",
    "dump_model = bst.dump_model('./dump.raw.txt')\n",
    "dump_model = bst.dump_model('./dump.nice.txt', './xgboost_agaricus_featmap.txt')"
   ]
  },
  {
   "cell_type": "markdown",
   "metadata": {},
   "source": [
    "### 可视化"
   ]
  },
  {
   "cell_type": "code",
   "execution_count": 4,
   "metadata": {},
   "outputs": [
    {
     "data": {
      "text/plain": [
       "<matplotlib.axes._subplots.AxesSubplot at 0x120cd7da0>"
      ]
     },
     "execution_count": 4,
     "metadata": {},
     "output_type": "execute_result"
    },
    {
     "data": {
      "image/png": "[encoded data removed]",
      "text/plain": [
       "<Figure size 432x288 with 1 Axes>"
      ]
     },
     "metadata": {
      "needs_background": "light"
     },
     "output_type": "display_data"
    }
   ],
   "source": [
    "# 使用matplotlib绘制\n",
    "xgb.plot_tree(model)"
   ]
  },
  {
   "cell_type": "code",
   "execution_count": 5,
   "metadata": {},
   "outputs": [
    {
     "data": {
      "image/svg+xml": [
       "<?xml version=\"1.0\" encoding=\"UTF-8\" standalone=\"no\"?>\n",
       "<!DOCTYPE svg PUBLIC \"-//W3C//DTD SVG 1.1//EN\"\n",
       " \"http://www.w3.org/Graphics/SVG/1.1/DTD/svg11.dtd\">\n",
       "<!-- Generated by graphviz version 2.42.3 (20191010.1750)\n",
       " -->\n",
       "<!-- Title: %3 Pages: 1 -->\n",
       "<svg width=\"1405pt\" height=\"474pt\"\n",
       " viewBox=\"0.00 0.00 1405.07 474.00\" xmlns=\"http://www.w3.org/2000/svg\" xmlns:xlink=\"http://www.w3.org/1999/xlink\">\n",
       "<g id=\"graph0\" class=\"graph\" transform=\"scale(1 1) rotate(0) translate(4 470)\">\n",
       "<title>%3</title>\n",
       "<polygon fill=\"white\" stroke=\"transparent\" points=\"-4,4 -4,-470 1401.07,-470 1401.07,4 -4,4\"/>\n",
       "<!-- 0 -->\n",
       "<g id=\"node1\" class=\"node\">\n",
       "<title>0</title>\n",
       "<ellipse fill=\"none\" stroke=\"black\" cx=\"832.35\" cy=\"-448\" rx=\"87.6\" ry=\"18\"/>\n",
       "<text text-anchor=\"middle\" x=\"832.35\" y=\"-443.8\" font-family=\"Times,serif\" font-size=\"14.00\">f29&lt;&#45;9.53674316e&#45;07</text>\n",
       "</g>\n",
       "<!-- 1 -->\n",
       "<g id=\"node2\" class=\"node\">\n",
       "<title>1</title>\n",
       "<ellipse fill=\"none\" stroke=\"black\" cx=\"669.35\" cy=\"-362\" rx=\"87.6\" ry=\"18\"/>\n",
       "<text text-anchor=\"middle\" x=\"669.35\" y=\"-357.8\" font-family=\"Times,serif\" font-size=\"14.00\">f56&lt;&#45;9.53674316e&#45;07</text>\n",
       "</g>\n",
       "<!-- 0&#45;&gt;1 -->\n",
       "<g id=\"edge1\" class=\"edge\">\n",
       "<title>0&#45;&gt;1</title>\n",
       "<path fill=\"none\" stroke=\"#0000ff\" d=\"M801.31,-431C775.25,-417.57 737.85,-398.3 709.51,-383.7\"/>\n",
       "<polygon fill=\"#0000ff\" stroke=\"#0000ff\" points=\"710.77,-380.41 700.28,-378.94 707.57,-386.63 710.77,-380.41\"/>\n",
       "<text text-anchor=\"middle\" x=\"795.97\" y=\"-400.8\" font-family=\"Times,serif\" font-size=\"14.00\">yes, missing</text>\n",
       "</g>\n",
       "<!-- 2 -->\n",
       "<g id=\"node3\" class=\"node\">\n",
       "<title>2</title>\n",
       "<ellipse fill=\"none\" stroke=\"black\" cx=\"966.35\" cy=\"-362\" rx=\"91.94\" ry=\"18\"/>\n",
       "<text text-anchor=\"middle\" x=\"966.35\" y=\"-357.8\" font-family=\"Times,serif\" font-size=\"14.00\">f109&lt;&#45;9.53674316e&#45;07</text>\n",
       "</g>\n",
       "<!-- 0&#45;&gt;2 -->\n",
       "<g id=\"edge2\" class=\"edge\">\n",
       "<title>0&#45;&gt;2</title>\n",
       "<path fill=\"none\" stroke=\"#ff0000\" d=\"M858.51,-430.6C879.35,-417.54 908.73,-399.12 931.55,-384.81\"/>\n",
       "<polygon fill=\"#ff0000\" stroke=\"#ff0000\" points=\"933.65,-387.63 940.26,-379.35 929.93,-381.7 933.65,-387.63\"/>\n",
       "<text text-anchor=\"middle\" x=\"915.35\" y=\"-400.8\" font-family=\"Times,serif\" font-size=\"14.00\">no</text>\n",
       "</g>\n",
       "<!-- 3 -->\n",
       "<g id=\"node4\" class=\"node\">\n",
       "<title>3</title>\n",
       "<ellipse fill=\"none\" stroke=\"black\" cx=\"447.35\" cy=\"-276\" rx=\"87.6\" ry=\"18\"/>\n",
       "<text text-anchor=\"middle\" x=\"447.35\" y=\"-271.8\" font-family=\"Times,serif\" font-size=\"14.00\">f60&lt;&#45;9.53674316e&#45;07</text>\n",
       "</g>\n",
       "<!-- 1&#45;&gt;3 -->\n",
       "<g id=\"edge3\" class=\"edge\">\n",
       "<title>1&#45;&gt;3</title>\n",
       "<path fill=\"none\" stroke=\"#0000ff\" d=\"M629.41,-345.89C592.27,-331.83 536.83,-310.86 496.9,-295.75\"/>\n",
       "<polygon fill=\"#0000ff\" stroke=\"#0000ff\" points=\"497.94,-292.4 487.35,-292.13 495.47,-298.95 497.94,-292.4\"/>\n",
       "<text text-anchor=\"middle\" x=\"606.97\" y=\"-314.8\" font-family=\"Times,serif\" font-size=\"14.00\">yes, missing</text>\n",
       "</g>\n",
       "<!-- 4 -->\n",
       "<g id=\"node5\" class=\"node\">\n",
       "<title>4</title>\n",
       "<ellipse fill=\"none\" stroke=\"black\" cx=\"669.35\" cy=\"-276\" rx=\"87.6\" ry=\"18\"/>\n",
       "<text text-anchor=\"middle\" x=\"669.35\" y=\"-271.8\" font-family=\"Times,serif\" font-size=\"14.00\">f21&lt;&#45;9.53674316e&#45;07</text>\n",
       "</g>\n",
       "<!-- 1&#45;&gt;4 -->\n",
       "<g id=\"edge4\" class=\"edge\">\n",
       "<title>1&#45;&gt;4</title>\n",
       "<path fill=\"none\" stroke=\"#ff0000\" d=\"M669.35,-343.6C669.35,-332.26 669.35,-317.23 669.35,-304.32\"/>\n",
       "<polygon fill=\"#ff0000\" stroke=\"#ff0000\" points=\"672.85,-304.1 669.35,-294.1 665.85,-304.1 672.85,-304.1\"/>\n",
       "<text text-anchor=\"middle\" x=\"676.35\" y=\"-314.8\" font-family=\"Times,serif\" font-size=\"14.00\">no</text>\n",
       "</g>\n",
       "<!-- 5 -->\n",
       "<g id=\"node14\" class=\"node\">\n",
       "<title>5</title>\n",
       "<ellipse fill=\"none\" stroke=\"black\" cx=\"966.35\" cy=\"-276\" rx=\"87.6\" ry=\"18\"/>\n",
       "<text text-anchor=\"middle\" x=\"966.35\" y=\"-271.8\" font-family=\"Times,serif\" font-size=\"14.00\">f67&lt;&#45;9.53674316e&#45;07</text>\n",
       "</g>\n",
       "<!-- 2&#45;&gt;5 -->\n",
       "<g id=\"edge13\" class=\"edge\">\n",
       "<title>2&#45;&gt;5</title>\n",
       "<path fill=\"none\" stroke=\"#0000ff\" d=\"M966.35,-343.6C966.35,-332.26 966.35,-317.23 966.35,-304.32\"/>\n",
       "<polygon fill=\"#0000ff\" stroke=\"#0000ff\" points=\"969.85,-304.1 966.35,-294.1 962.85,-304.1 969.85,-304.1\"/>\n",
       "<text text-anchor=\"middle\" x=\"1000.97\" y=\"-314.8\" font-family=\"Times,serif\" font-size=\"14.00\">yes, missing</text>\n",
       "</g>\n",
       "<!-- 6 -->\n",
       "<g id=\"node15\" class=\"node\">\n",
       "<title>6</title>\n",
       "<ellipse fill=\"none\" stroke=\"black\" cx=\"1146.35\" cy=\"-276\" rx=\"74.55\" ry=\"18\"/>\n",
       "<text text-anchor=\"middle\" x=\"1146.35\" y=\"-271.8\" font-family=\"Times,serif\" font-size=\"14.00\">leaf=0.371929854</text>\n",
       "</g>\n",
       "<!-- 2&#45;&gt;6 -->\n",
       "<g id=\"edge14\" class=\"edge\">\n",
       "<title>2&#45;&gt;6</title>\n",
       "<path fill=\"none\" stroke=\"#ff0000\" d=\"M1000.21,-345.2C1029.65,-331.46 1072.44,-311.49 1104.11,-296.71\"/>\n",
       "<polygon fill=\"#ff0000\" stroke=\"#ff0000\" points=\"1105.98,-299.7 1113.56,-292.3 1103.02,-293.36 1105.98,-299.7\"/>\n",
       "<text text-anchor=\"middle\" x=\"1074.35\" y=\"-314.8\" font-family=\"Times,serif\" font-size=\"14.00\">no</text>\n",
       "</g>\n",
       "<!-- 7 -->\n",
       "<g id=\"node6\" class=\"node\">\n",
       "<title>7</title>\n",
       "<ellipse fill=\"none\" stroke=\"black\" cx=\"264.35\" cy=\"-190\" rx=\"87.6\" ry=\"18\"/>\n",
       "<text text-anchor=\"middle\" x=\"264.35\" y=\"-185.8\" font-family=\"Times,serif\" font-size=\"14.00\">f23&lt;&#45;9.53674316e&#45;07</text>\n",
       "</g>\n",
       "<!-- 3&#45;&gt;7 -->\n",
       "<g id=\"edge5\" class=\"edge\">\n",
       "<title>3&#45;&gt;7</title>\n",
       "<path fill=\"none\" stroke=\"#0000ff\" d=\"M413.36,-259.4C383.54,-245.71 340.01,-225.73 307.69,-210.89\"/>\n",
       "<polygon fill=\"#0000ff\" stroke=\"#0000ff\" points=\"309.02,-207.65 298.47,-206.66 306.1,-214.01 309.02,-207.65\"/>\n",
       "<text text-anchor=\"middle\" x=\"401.97\" y=\"-228.8\" font-family=\"Times,serif\" font-size=\"14.00\">yes, missing</text>\n",
       "</g>\n",
       "<!-- 8 -->\n",
       "<g id=\"node7\" class=\"node\">\n",
       "<title>8</title>\n",
       "<ellipse fill=\"none\" stroke=\"black\" cx=\"447.35\" cy=\"-190\" rx=\"77.94\" ry=\"18\"/>\n",
       "<text text-anchor=\"middle\" x=\"447.35\" y=\"-185.8\" font-family=\"Times,serif\" font-size=\"14.00\">leaf=&#45;0.390123457</text>\n",
       "</g>\n",
       "<!-- 3&#45;&gt;8 -->\n",
       "<g id=\"edge6\" class=\"edge\">\n",
       "<title>3&#45;&gt;8</title>\n",
       "<path fill=\"none\" stroke=\"#ff0000\" d=\"M447.35,-257.6C447.35,-246.26 447.35,-231.23 447.35,-218.32\"/>\n",
       "<polygon fill=\"#ff0000\" stroke=\"#ff0000\" points=\"450.85,-218.1 447.35,-208.1 443.85,-218.1 450.85,-218.1\"/>\n",
       "<text text-anchor=\"middle\" x=\"454.35\" y=\"-228.8\" font-family=\"Times,serif\" font-size=\"14.00\">no</text>\n",
       "</g>\n",
       "<!-- 9 -->\n",
       "<g id=\"node12\" class=\"node\">\n",
       "<title>9</title>\n",
       "<ellipse fill=\"none\" stroke=\"black\" cx=\"617.35\" cy=\"-190\" rx=\"74.55\" ry=\"18\"/>\n",
       "<text text-anchor=\"middle\" x=\"617.35\" y=\"-185.8\" font-family=\"Times,serif\" font-size=\"14.00\">leaf=0.355555564</text>\n",
       "</g>\n",
       "<!-- 4&#45;&gt;9 -->\n",
       "<g id=\"edge11\" class=\"edge\">\n",
       "<title>4&#45;&gt;9</title>\n",
       "<path fill=\"none\" stroke=\"#0000ff\" d=\"M658.83,-258C651.5,-246.16 641.59,-230.15 633.29,-216.75\"/>\n",
       "<polygon fill=\"#0000ff\" stroke=\"#0000ff\" points=\"636.1,-214.63 627.86,-207.97 630.15,-218.32 636.1,-214.63\"/>\n",
       "<text text-anchor=\"middle\" x=\"681.97\" y=\"-228.8\" font-family=\"Times,serif\" font-size=\"14.00\">yes, missing</text>\n",
       "</g>\n",
       "<!-- 10 -->\n",
       "<g id=\"node13\" class=\"node\">\n",
       "<title>10</title>\n",
       "<ellipse fill=\"none\" stroke=\"black\" cx=\"787.35\" cy=\"-190\" rx=\"77.94\" ry=\"18\"/>\n",
       "<text text-anchor=\"middle\" x=\"787.35\" y=\"-185.8\" font-family=\"Times,serif\" font-size=\"14.00\">leaf=&#45;0.396208525</text>\n",
       "</g>\n",
       "<!-- 4&#45;&gt;10 -->\n",
       "<g id=\"edge12\" class=\"edge\">\n",
       "<title>4&#45;&gt;10</title>\n",
       "<path fill=\"none\" stroke=\"#ff0000\" d=\"M693.58,-258.59C702.09,-252.77 711.68,-246.15 720.35,-240 732.44,-231.44 745.62,-221.85 757.07,-213.44\"/>\n",
       "<polygon fill=\"#ff0000\" stroke=\"#ff0000\" points=\"759.47,-216.02 765.44,-207.28 755.32,-210.39 759.47,-216.02\"/>\n",
       "<text text-anchor=\"middle\" x=\"746.35\" y=\"-228.8\" font-family=\"Times,serif\" font-size=\"14.00\">no</text>\n",
       "</g>\n",
       "<!-- 13 -->\n",
       "<g id=\"node8\" class=\"node\">\n",
       "<title>13</title>\n",
       "<ellipse fill=\"none\" stroke=\"black\" cx=\"153.35\" cy=\"-104\" rx=\"87.6\" ry=\"18\"/>\n",
       "<text text-anchor=\"middle\" x=\"153.35\" y=\"-99.8\" font-family=\"Times,serif\" font-size=\"14.00\">f24&lt;&#45;9.53674316e&#45;07</text>\n",
       "</g>\n",
       "<!-- 7&#45;&gt;13 -->\n",
       "<g id=\"edge7\" class=\"edge\">\n",
       "<title>7&#45;&gt;13</title>\n",
       "<path fill=\"none\" stroke=\"#0000ff\" d=\"M242.42,-172.4C225.55,-159.63 202.04,-141.84 183.41,-127.75\"/>\n",
       "<polygon fill=\"#0000ff\" stroke=\"#0000ff\" points=\"185.32,-124.8 175.24,-121.56 181.1,-130.39 185.32,-124.8\"/>\n",
       "<text text-anchor=\"middle\" x=\"250.97\" y=\"-142.8\" font-family=\"Times,serif\" font-size=\"14.00\">yes, missing</text>\n",
       "</g>\n",
       "<!-- 14 -->\n",
       "<g id=\"node9\" class=\"node\">\n",
       "<title>14</title>\n",
       "<ellipse fill=\"none\" stroke=\"black\" cx=\"332.35\" cy=\"-104\" rx=\"73.1\" ry=\"18\"/>\n",
       "<text text-anchor=\"middle\" x=\"332.35\" y=\"-99.8\" font-family=\"Times,serif\" font-size=\"14.00\">leaf=&#45;0.36190477</text>\n",
       "</g>\n",
       "<!-- 7&#45;&gt;14 -->\n",
       "<g id=\"edge8\" class=\"edge\">\n",
       "<title>7&#45;&gt;14</title>\n",
       "<path fill=\"none\" stroke=\"#ff0000\" d=\"M278.11,-172C287.88,-159.93 301.16,-143.53 312.13,-129.98\"/>\n",
       "<polygon fill=\"#ff0000\" stroke=\"#ff0000\" points=\"315.04,-131.95 318.61,-121.97 309.6,-127.54 315.04,-131.95\"/>\n",
       "<text text-anchor=\"middle\" x=\"310.35\" y=\"-142.8\" font-family=\"Times,serif\" font-size=\"14.00\">no</text>\n",
       "</g>\n",
       "<!-- 19 -->\n",
       "<g id=\"node10\" class=\"node\">\n",
       "<title>19</title>\n",
       "<ellipse fill=\"none\" stroke=\"black\" cx=\"70.35\" cy=\"-18\" rx=\"70.21\" ry=\"18\"/>\n",
       "<text text-anchor=\"middle\" x=\"70.35\" y=\"-13.8\" font-family=\"Times,serif\" font-size=\"14.00\">leaf=0.39947021</text>\n",
       "</g>\n",
       "<!-- 13&#45;&gt;19 -->\n",
       "<g id=\"edge9\" class=\"edge\">\n",
       "<title>13&#45;&gt;19</title>\n",
       "<path fill=\"none\" stroke=\"#0000ff\" d=\"M136.56,-86C124.33,-73.62 107.6,-56.69 94.01,-42.95\"/>\n",
       "<polygon fill=\"#0000ff\" stroke=\"#0000ff\" points=\"96.36,-40.34 86.84,-35.69 91.38,-45.26 96.36,-40.34\"/>\n",
       "<text text-anchor=\"middle\" x=\"151.97\" y=\"-56.8\" font-family=\"Times,serif\" font-size=\"14.00\">yes, missing</text>\n",
       "</g>\n",
       "<!-- 20 -->\n",
       "<g id=\"node11\" class=\"node\">\n",
       "<title>20</title>\n",
       "<ellipse fill=\"none\" stroke=\"black\" cx=\"236.35\" cy=\"-18\" rx=\"77.94\" ry=\"18\"/>\n",
       "<text text-anchor=\"middle\" x=\"236.35\" y=\"-13.8\" font-family=\"Times,serif\" font-size=\"14.00\">leaf=&#45;0.359999985</text>\n",
       "</g>\n",
       "<!-- 13&#45;&gt;20 -->\n",
       "<g id=\"edge10\" class=\"edge\">\n",
       "<title>13&#45;&gt;20</title>\n",
       "<path fill=\"none\" stroke=\"#ff0000\" d=\"M171.63,-86.12C177.66,-80.44 184.36,-74.01 190.35,-68 198.13,-60.19 206.44,-51.47 213.82,-43.57\"/>\n",
       "<polygon fill=\"#ff0000\" stroke=\"#ff0000\" points=\"216.6,-45.72 220.84,-36.02 211.47,-40.96 216.6,-45.72\"/>\n",
       "<text text-anchor=\"middle\" x=\"210.35\" y=\"-56.8\" font-family=\"Times,serif\" font-size=\"14.00\">no</text>\n",
       "</g>\n",
       "<!-- 11 -->\n",
       "<g id=\"node16\" class=\"node\">\n",
       "<title>11</title>\n",
       "<ellipse fill=\"none\" stroke=\"black\" cx=\"966.35\" cy=\"-190\" rx=\"83.25\" ry=\"18\"/>\n",
       "<text text-anchor=\"middle\" x=\"966.35\" y=\"-185.8\" font-family=\"Times,serif\" font-size=\"14.00\">f8&lt;&#45;9.53674316e&#45;07</text>\n",
       "</g>\n",
       "<!-- 5&#45;&gt;11 -->\n",
       "<g id=\"edge15\" class=\"edge\">\n",
       "<title>5&#45;&gt;11</title>\n",
       "<path fill=\"none\" stroke=\"#0000ff\" d=\"M966.35,-257.6C966.35,-246.26 966.35,-231.23 966.35,-218.32\"/>\n",
       "<polygon fill=\"#0000ff\" stroke=\"#0000ff\" points=\"969.85,-218.1 966.35,-208.1 962.85,-218.1 969.85,-218.1\"/>\n",
       "<text text-anchor=\"middle\" x=\"1000.97\" y=\"-228.8\" font-family=\"Times,serif\" font-size=\"14.00\">yes, missing</text>\n",
       "</g>\n",
       "<!-- 12 -->\n",
       "<g id=\"node17\" class=\"node\">\n",
       "<title>12</title>\n",
       "<ellipse fill=\"none\" stroke=\"black\" cx=\"1155.35\" cy=\"-190\" rx=\"87.6\" ry=\"18\"/>\n",
       "<text text-anchor=\"middle\" x=\"1155.35\" y=\"-185.8\" font-family=\"Times,serif\" font-size=\"14.00\">f39&lt;&#45;9.53674316e&#45;07</text>\n",
       "</g>\n",
       "<!-- 5&#45;&gt;12 -->\n",
       "<g id=\"edge16\" class=\"edge\">\n",
       "<title>5&#45;&gt;12</title>\n",
       "<path fill=\"none\" stroke=\"#ff0000\" d=\"M1001.46,-259.4C1032.36,-245.66 1077.5,-225.6 1110.91,-210.75\"/>\n",
       "<polygon fill=\"#ff0000\" stroke=\"#ff0000\" points=\"1112.72,-213.78 1120.43,-206.52 1109.87,-207.38 1112.72,-213.78\"/>\n",
       "<text text-anchor=\"middle\" x=\"1079.35\" y=\"-228.8\" font-family=\"Times,serif\" font-size=\"14.00\">no</text>\n",
       "</g>\n",
       "<!-- 15 -->\n",
       "<g id=\"node18\" class=\"node\">\n",
       "<title>15</title>\n",
       "<ellipse fill=\"none\" stroke=\"black\" cx=\"801.35\" cy=\"-104\" rx=\"77.94\" ry=\"18\"/>\n",
       "<text text-anchor=\"middle\" x=\"801.35\" y=\"-99.8\" font-family=\"Times,serif\" font-size=\"14.00\">leaf=&#45;0.398234665</text>\n",
       "</g>\n",
       "<!-- 11&#45;&gt;15 -->\n",
       "<g id=\"edge17\" class=\"edge\">\n",
       "<title>11&#45;&gt;15</title>\n",
       "<path fill=\"none\" stroke=\"#0000ff\" d=\"M934.49,-173.24C922.45,-167.26 908.64,-160.35 896.13,-154 877.87,-144.73 857.71,-134.33 840.7,-125.51\"/>\n",
       "<polygon fill=\"#0000ff\" stroke=\"#0000ff\" points=\"842.09,-122.28 831.6,-120.78 838.86,-128.5 842.09,-122.28\"/>\n",
       "<text text-anchor=\"middle\" x=\"930.97\" y=\"-142.8\" font-family=\"Times,serif\" font-size=\"14.00\">yes, missing</text>\n",
       "</g>\n",
       "<!-- 16 -->\n",
       "<g id=\"node19\" class=\"node\">\n",
       "<title>16</title>\n",
       "<ellipse fill=\"none\" stroke=\"black\" cx=\"971.35\" cy=\"-104\" rx=\"74.55\" ry=\"18\"/>\n",
       "<text text-anchor=\"middle\" x=\"971.35\" y=\"-99.8\" font-family=\"Times,serif\" font-size=\"14.00\">leaf=0.200000003</text>\n",
       "</g>\n",
       "<!-- 11&#45;&gt;16 -->\n",
       "<g id=\"edge18\" class=\"edge\">\n",
       "<title>11&#45;&gt;16</title>\n",
       "<path fill=\"none\" stroke=\"#ff0000\" d=\"M967.39,-171.6C968.06,-160.26 968.96,-145.23 969.73,-132.32\"/>\n",
       "<polygon fill=\"#ff0000\" stroke=\"#ff0000\" points=\"973.23,-132.29 970.34,-122.1 966.25,-131.87 973.23,-132.29\"/>\n",
       "<text text-anchor=\"middle\" x=\"976.35\" y=\"-142.8\" font-family=\"Times,serif\" font-size=\"14.00\">no</text>\n",
       "</g>\n",
       "<!-- 17 -->\n",
       "<g id=\"node20\" class=\"node\">\n",
       "<title>17</title>\n",
       "<ellipse fill=\"none\" stroke=\"black\" cx=\"1149.35\" cy=\"-104\" rx=\"74.55\" ry=\"18\"/>\n",
       "<text text-anchor=\"middle\" x=\"1149.35\" y=\"-99.8\" font-family=\"Times,serif\" font-size=\"14.00\">leaf=0.354285717</text>\n",
       "</g>\n",
       "<!-- 12&#45;&gt;17 -->\n",
       "<g id=\"edge19\" class=\"edge\">\n",
       "<title>12&#45;&gt;17</title>\n",
       "<path fill=\"none\" stroke=\"#0000ff\" d=\"M1154.14,-172C1153.33,-160.69 1152.25,-145.58 1151.32,-132.57\"/>\n",
       "<polygon fill=\"#0000ff\" stroke=\"#0000ff\" points=\"1154.79,-131.99 1150.59,-122.26 1147.81,-132.49 1154.79,-131.99\"/>\n",
       "<text text-anchor=\"middle\" x=\"1187.97\" y=\"-142.8\" font-family=\"Times,serif\" font-size=\"14.00\">yes, missing</text>\n",
       "</g>\n",
       "<!-- 18 -->\n",
       "<g id=\"node21\" class=\"node\">\n",
       "<title>18</title>\n",
       "<ellipse fill=\"none\" stroke=\"black\" cx=\"1319.35\" cy=\"-104\" rx=\"77.94\" ry=\"18\"/>\n",
       "<text text-anchor=\"middle\" x=\"1319.35\" y=\"-99.8\" font-family=\"Times,serif\" font-size=\"14.00\">leaf=&#45;0.300000012</text>\n",
       "</g>\n",
       "<!-- 12&#45;&gt;18 -->\n",
       "<g id=\"edge20\" class=\"edge\">\n",
       "<title>12&#45;&gt;18</title>\n",
       "<path fill=\"none\" stroke=\"#ff0000\" d=\"M1187.96,-173.15C1200.06,-167.22 1213.86,-160.37 1226.35,-154 1244.32,-144.84 1264.11,-134.45 1280.8,-125.61\"/>\n",
       "<polygon fill=\"#ff0000\" stroke=\"#ff0000\" points=\"1282.53,-128.65 1289.72,-120.87 1279.25,-122.47 1282.53,-128.65\"/>\n",
       "<text text-anchor=\"middle\" x=\"1259.35\" y=\"-142.8\" font-family=\"Times,serif\" font-size=\"14.00\">no</text>\n",
       "</g>\n",
       "</g>\n",
       "</svg>\n"
      ],
      "text/plain": [
       "<graphviz.files.Source at 0x122700fd0>"
      ]
     },
     "execution_count": 5,
     "metadata": {},
     "output_type": "execute_result"
    }
   ],
   "source": [
    "# 转化为graphviz\n",
    "xgb.to_graphviz(model)"
   ]
  },
  {
   "cell_type": "code",
   "execution_count": 6,
   "metadata": {},
   "outputs": [
    {
     "data": {
      "text/plain": [
       "<matplotlib.axes._subplots.AxesSubplot at 0x1227135c0>"
      ]
     },
     "execution_count": 6,
     "metadata": {},
     "output_type": "execute_result"
    },
    {
     "data": {
      "image/png": "[encoded data removed]",
      "text/plain": [
       "<Figure size 432x288 with 1 Axes>"
      ]
     },
     "metadata": {
      "needs_background": "light"
     },
     "output_type": "display_data"
    }
   ],
   "source": [
    "xgb.plot_importance(model)"
   ]
  },
  {
   "cell_type": "markdown",
   "metadata": {},
   "source": [
    "## 多分类问题\n",
    "\n",
    "- multi:softmax 使用softmax的多分类器，返回预测的类别(不是概率)\n",
    "- multi:softprob 和multi:softmax参数一样，但是返回的是每个数据属于各个类别的概率"
   ]
  },
  {
   "cell_type": "code",
   "execution_count": 7,
   "metadata": {},
   "outputs": [
    {
     "data": {
      "text/html": [
       "<div>\n",
       "<style scoped>\n",
       "    .dataframe tbody tr th:only-of-type {\n",
       "        vertical-align: middle;\n",
       "    }\n",
       "\n",
       "    .dataframe tbody tr th {\n",
       "        vertical-align: top;\n",
       "    }\n",
       "\n",
       "    .dataframe thead th {\n",
       "        text-align: right;\n",
       "    }\n",
       "</style>\n",
       "<table border=\"1\" class=\"dataframe\">\n",
       "  <thead>\n",
       "    <tr style=\"text-align: right;\">\n",
       "      <th></th>\n",
       "      <th>0</th>\n",
       "      <th>1</th>\n",
       "      <th>2</th>\n",
       "      <th>3</th>\n",
       "      <th>4</th>\n",
       "      <th>5</th>\n",
       "      <th>6</th>\n",
       "      <th>label</th>\n",
       "    </tr>\n",
       "  </thead>\n",
       "  <tbody>\n",
       "    <tr>\n",
       "      <th>0</th>\n",
       "      <td>15.26</td>\n",
       "      <td>14.84</td>\n",
       "      <td>0.8710</td>\n",
       "      <td>5.763</td>\n",
       "      <td>3.312</td>\n",
       "      <td>2.221</td>\n",
       "      <td>5.220</td>\n",
       "      <td>0</td>\n",
       "    </tr>\n",
       "    <tr>\n",
       "      <th>1</th>\n",
       "      <td>14.88</td>\n",
       "      <td>14.57</td>\n",
       "      <td>0.8811</td>\n",
       "      <td>5.554</td>\n",
       "      <td>3.333</td>\n",
       "      <td>1.018</td>\n",
       "      <td>4.956</td>\n",
       "      <td>0</td>\n",
       "    </tr>\n",
       "    <tr>\n",
       "      <th>2</th>\n",
       "      <td>14.29</td>\n",
       "      <td>14.09</td>\n",
       "      <td>0.9050</td>\n",
       "      <td>5.291</td>\n",
       "      <td>3.337</td>\n",
       "      <td>2.699</td>\n",
       "      <td>4.825</td>\n",
       "      <td>0</td>\n",
       "    </tr>\n",
       "    <tr>\n",
       "      <th>3</th>\n",
       "      <td>13.84</td>\n",
       "      <td>13.94</td>\n",
       "      <td>0.8955</td>\n",
       "      <td>5.324</td>\n",
       "      <td>3.379</td>\n",
       "      <td>2.259</td>\n",
       "      <td>4.805</td>\n",
       "      <td>0</td>\n",
       "    </tr>\n",
       "    <tr>\n",
       "      <th>4</th>\n",
       "      <td>16.14</td>\n",
       "      <td>14.99</td>\n",
       "      <td>0.9034</td>\n",
       "      <td>5.658</td>\n",
       "      <td>3.562</td>\n",
       "      <td>1.355</td>\n",
       "      <td>5.175</td>\n",
       "      <td>0</td>\n",
       "    </tr>\n",
       "  </tbody>\n",
       "</table>\n",
       "</div>"
      ],
      "text/plain": [
       "       0      1       2      3      4      5      6  label\n",
       "0  15.26  14.84  0.8710  5.763  3.312  2.221  5.220      0\n",
       "1  14.88  14.57  0.8811  5.554  3.333  1.018  4.956      0\n",
       "2  14.29  14.09  0.9050  5.291  3.337  2.699  4.825      0\n",
       "3  13.84  13.94  0.8955  5.324  3.379  2.259  4.805      0\n",
       "4  16.14  14.99  0.9034  5.658  3.562  1.355  5.175      0"
      ]
     },
     "execution_count": 7,
     "metadata": {},
     "output_type": "execute_result"
    }
   ],
   "source": [
    "# 加载数据时候将7列-1且转化为小数\n",
    "seeds_data = pd.read_csv('seeds_dataset.txt', sep='\\s+', header=None, converters={7: lambda x: int(x)-1})\n",
    "seeds_data.rename(columns={7: 'label'}, inplace=True)\n",
    "seeds_data.head(5)"
   ]
  },
  {
   "cell_type": "code",
   "execution_count": 8,
   "metadata": {},
   "outputs": [
    {
     "data": {
      "text/plain": [
       "2    70\n",
       "1    70\n",
       "0    70\n",
       "Name: label, dtype: int64"
      ]
     },
     "execution_count": 8,
     "metadata": {},
     "output_type": "execute_result"
    }
   ],
   "source": [
    "# 以下三种类别，各70条\n",
    "seeds_data['label'].value_counts()"
   ]
  },
  {
   "cell_type": "code",
   "execution_count": 9,
   "metadata": {},
   "outputs": [],
   "source": [
    "# 切分训练与测试数据集\n",
    "X_train, X_test, y_train, y_test = train_test_split(seeds_data.iloc[:,:7], seeds_data['label'], test_size=0.2, random_state=666)\n",
    "xgb_train = xgb.DMatrix(X_train, y_train)\n",
    "xgb_test = xgb.DMatrix(X_test, y_test)\n"
   ]
  },
  {
   "cell_type": "code",
   "execution_count": 10,
   "metadata": {},
   "outputs": [
    {
     "name": "stdout",
     "output_type": "stream",
     "text": [
      "[0]\ttrain-merror:0.01786\ttest-merror:0.09524\n",
      "[1]\ttrain-merror:0.01191\ttest-merror:0.11905\n",
      "[2]\ttrain-merror:0.01191\ttest-merror:0.11905\n",
      "[3]\ttrain-merror:0.01191\ttest-merror:0.11905\n",
      "[4]\ttrain-merror:0.01191\ttest-merror:0.11905\n"
     ]
    }
   ],
   "source": [
    "# 设置参数\n",
    "params = {\n",
    "    'objective': 'multi:softmax',\n",
    "    'eta': '0.2',\n",
    "    'max_depth': 5,\n",
    "    'num_class': 3\n",
    "}\n",
    "# 训练轮数\n",
    "num_round = 5\n",
    "\n",
    "# 训练过程中加入实时输出评估结果\n",
    "watchlist = [(xgb_train, 'train'), (xgb_test, 'test')]\n",
    "model = xgb.train(params, xgb_train, num_round, watchlist)"
   ]
  },
  {
   "cell_type": "code",
   "execution_count": 11,
   "metadata": {},
   "outputs": [
    {
     "name": "stdout",
     "output_type": "stream",
     "text": [
      "错误率:  0.11904761904761904\n"
     ]
    }
   ],
   "source": [
    "test_predict = model.predict(xgb_test)\n",
    "error_rate = np.sum(test_predict != y_test) / test_predict.shape[0]\n",
    "print('错误率: ', error_rate)"
   ]
  },
  {
   "cell_type": "markdown",
   "metadata": {},
   "source": [
    "## 回归问题"
   ]
  },
  {
   "cell_type": "code",
   "execution_count": 12,
   "metadata": {},
   "outputs": [
    {
     "data": {
      "text/html": [
       "<div>\n",
       "<style scoped>\n",
       "    .dataframe tbody tr th:only-of-type {\n",
       "        vertical-align: middle;\n",
       "    }\n",
       "\n",
       "    .dataframe tbody tr th {\n",
       "        vertical-align: top;\n",
       "    }\n",
       "\n",
       "    .dataframe thead th {\n",
       "        text-align: right;\n",
       "    }\n",
       "</style>\n",
       "<table border=\"1\" class=\"dataframe\">\n",
       "  <thead>\n",
       "    <tr style=\"text-align: right;\">\n",
       "      <th></th>\n",
       "      <th>Cement (component 1)(kg in a m^3 mixture)</th>\n",
       "      <th>Blast Furnace Slag (component 2)(kg in a m^3 mixture)</th>\n",
       "      <th>Fly Ash (component 3)(kg in a m^3 mixture)</th>\n",
       "      <th>Water  (component 4)(kg in a m^3 mixture)</th>\n",
       "      <th>Superplasticizer (component 5)(kg in a m^3 mixture)</th>\n",
       "      <th>Coarse Aggregate  (component 6)(kg in a m^3 mixture)</th>\n",
       "      <th>Fine Aggregate (component 7)(kg in a m^3 mixture)</th>\n",
       "      <th>Age (day)</th>\n",
       "      <th>label</th>\n",
       "    </tr>\n",
       "  </thead>\n",
       "  <tbody>\n",
       "    <tr>\n",
       "      <th>0</th>\n",
       "      <td>540.0</td>\n",
       "      <td>0.0</td>\n",
       "      <td>0.0</td>\n",
       "      <td>162.0</td>\n",
       "      <td>2.5</td>\n",
       "      <td>1040.0</td>\n",
       "      <td>676.0</td>\n",
       "      <td>28</td>\n",
       "      <td>79.986111</td>\n",
       "    </tr>\n",
       "    <tr>\n",
       "      <th>1</th>\n",
       "      <td>540.0</td>\n",
       "      <td>0.0</td>\n",
       "      <td>0.0</td>\n",
       "      <td>162.0</td>\n",
       "      <td>2.5</td>\n",
       "      <td>1055.0</td>\n",
       "      <td>676.0</td>\n",
       "      <td>28</td>\n",
       "      <td>61.887366</td>\n",
       "    </tr>\n",
       "    <tr>\n",
       "      <th>2</th>\n",
       "      <td>332.5</td>\n",
       "      <td>142.5</td>\n",
       "      <td>0.0</td>\n",
       "      <td>228.0</td>\n",
       "      <td>0.0</td>\n",
       "      <td>932.0</td>\n",
       "      <td>594.0</td>\n",
       "      <td>270</td>\n",
       "      <td>40.269535</td>\n",
       "    </tr>\n",
       "    <tr>\n",
       "      <th>3</th>\n",
       "      <td>332.5</td>\n",
       "      <td>142.5</td>\n",
       "      <td>0.0</td>\n",
       "      <td>228.0</td>\n",
       "      <td>0.0</td>\n",
       "      <td>932.0</td>\n",
       "      <td>594.0</td>\n",
       "      <td>365</td>\n",
       "      <td>41.052780</td>\n",
       "    </tr>\n",
       "    <tr>\n",
       "      <th>4</th>\n",
       "      <td>198.6</td>\n",
       "      <td>132.4</td>\n",
       "      <td>0.0</td>\n",
       "      <td>192.0</td>\n",
       "      <td>0.0</td>\n",
       "      <td>978.4</td>\n",
       "      <td>825.5</td>\n",
       "      <td>360</td>\n",
       "      <td>44.296075</td>\n",
       "    </tr>\n",
       "  </tbody>\n",
       "</table>\n",
       "</div>"
      ],
      "text/plain": [
       "   Cement (component 1)(kg in a m^3 mixture)  \\\n",
       "0                                      540.0   \n",
       "1                                      540.0   \n",
       "2                                      332.5   \n",
       "3                                      332.5   \n",
       "4                                      198.6   \n",
       "\n",
       "   Blast Furnace Slag (component 2)(kg in a m^3 mixture)  \\\n",
       "0                                                0.0       \n",
       "1                                                0.0       \n",
       "2                                              142.5       \n",
       "3                                              142.5       \n",
       "4                                              132.4       \n",
       "\n",
       "   Fly Ash (component 3)(kg in a m^3 mixture)  \\\n",
       "0                                         0.0   \n",
       "1                                         0.0   \n",
       "2                                         0.0   \n",
       "3                                         0.0   \n",
       "4                                         0.0   \n",
       "\n",
       "   Water  (component 4)(kg in a m^3 mixture)  \\\n",
       "0                                      162.0   \n",
       "1                                      162.0   \n",
       "2                                      228.0   \n",
       "3                                      228.0   \n",
       "4                                      192.0   \n",
       "\n",
       "   Superplasticizer (component 5)(kg in a m^3 mixture)  \\\n",
       "0                                                2.5     \n",
       "1                                                2.5     \n",
       "2                                                0.0     \n",
       "3                                                0.0     \n",
       "4                                                0.0     \n",
       "\n",
       "   Coarse Aggregate  (component 6)(kg in a m^3 mixture)  \\\n",
       "0                                             1040.0      \n",
       "1                                             1055.0      \n",
       "2                                              932.0      \n",
       "3                                              932.0      \n",
       "4                                              978.4      \n",
       "\n",
       "   Fine Aggregate (component 7)(kg in a m^3 mixture)  Age (day)      label  \n",
       "0                                              676.0         28  79.986111  \n",
       "1                                              676.0         28  61.887366  \n",
       "2                                              594.0        270  40.269535  \n",
       "3                                              594.0        365  41.052780  \n",
       "4                                              825.5        360  44.296075  "
      ]
     },
     "execution_count": 12,
     "metadata": {},
     "output_type": "execute_result"
    }
   ],
   "source": [
    "concrete_df = pd.read_excel('Concrete_Data.xls')\n",
    "concrete_df.rename(columns={'Concrete compressive strength(MPa, megapascals)': 'label'}, inplace=True)\n",
    "concrete_df.head(5)"
   ]
  },
  {
   "cell_type": "code",
   "execution_count": 13,
   "metadata": {},
   "outputs": [],
   "source": [
    "# 切分训练与测试数据集\n",
    "X_train, X_test, y_train, y_test = train_test_split(concrete_df.iloc[:,:7], concrete_df['label'], test_size=0.2, random_state=666)\n",
    "xgb_train = xgb.DMatrix(X_train, y_train)\n",
    "xgb_test = xgb.DMatrix(X_test, y_test)"
   ]
  },
  {
   "cell_type": "code",
   "execution_count": 20,
   "metadata": {},
   "outputs": [
    {
     "name": "stdout",
     "output_type": "stream",
     "text": [
      "[00:54:14] WARNING: /private/var/folders/r3/1hhvx75j0bd4qcy9ng4_d1540000gn/T/pip-install-edftga4q/xgboost/xgboost/src/objective/regression_obj.cu:167: reg:linear is now deprecated in favor of reg:squarederror.\n"
     ]
    },
    {
     "ename": "XGBoostError",
     "evalue": "[00:54:14] /private/var/folders/r3/1hhvx75j0bd4qcy9ng4_d1540000gn/T/pip-install-edftga4q/xgboost/xgboost/include/xgboost/gbm.h:166: XGBoost version not compiled with GPU support.\nStack trace:\n  [bt] (0) 1   libxgboost.dylib                    0x00000001204fd9e0 dmlc::LogMessageFatal::~LogMessageFatal() + 112\n  [bt] (1) 2   libxgboost.dylib                    0x00000001205752c2 xgboost::gbm::GBTree::ConfigureUpdaters() + 466\n  [bt] (2) 3   libxgboost.dylib                    0x0000000120574d75 xgboost::gbm::GBTree::Configure(std::__1::vector<std::__1::pair<std::__1::basic_string<char, std::__1::char_traits<char>, std::__1::allocator<char> >, std::__1::basic_string<char, std::__1::char_traits<char>, std::__1::allocator<char> > >, std::__1::allocator<std::__1::pair<std::__1::basic_string<char, std::__1::char_traits<char>, std::__1::allocator<char> >, std::__1::basic_string<char, std::__1::char_traits<char>, std::__1::allocator<char> > > > > const&) + 1237\n  [bt] (3) 4   libxgboost.dylib                    0x000000012058f003 xgboost::LearnerImpl::Configure() + 1427\n  [bt] (4) 5   libxgboost.dylib                    0x000000012058f459 xgboost::LearnerImpl::UpdateOneIter(int, xgboost::DMatrix*) + 121\n  [bt] (5) 6   libxgboost.dylib                    0x00000001204f6e8a XGBoosterUpdateOneIter + 122\n  [bt] (6) 7   _ctypes.cpython-37m-darwin.so       0x000000010de36e0f ffi_call_unix64 + 79\n  [bt] (7) 8   ???                                 0x00007ffee3b148b0 0x0 + 140732718467248\n\n",
     "output_type": "error",
     "traceback": [
      "\u001b[0;31m---------------------------------------------------------------------------\u001b[0m",
      "\u001b[0;31mXGBoostError\u001b[0m                              Traceback (most recent call last)",
      "\u001b[0;32m<ipython-input-20-7ec1b1535a68>\u001b[0m in \u001b[0;36m<module>\u001b[0;34m\u001b[0m\n\u001b[1;32m     13\u001b[0m \u001b[0;31m# 训练过程中加入实时输出评估结果\u001b[0m\u001b[0;34m\u001b[0m\u001b[0;34m\u001b[0m\u001b[0;34m\u001b[0m\u001b[0m\n\u001b[1;32m     14\u001b[0m \u001b[0mwatchlist\u001b[0m \u001b[0;34m=\u001b[0m \u001b[0;34m[\u001b[0m\u001b[0;34m(\u001b[0m\u001b[0mxgb_train\u001b[0m\u001b[0;34m,\u001b[0m \u001b[0;34m'train'\u001b[0m\u001b[0;34m)\u001b[0m\u001b[0;34m,\u001b[0m \u001b[0;34m(\u001b[0m\u001b[0mxgb_test\u001b[0m\u001b[0;34m,\u001b[0m \u001b[0;34m'test'\u001b[0m\u001b[0;34m)\u001b[0m\u001b[0;34m]\u001b[0m\u001b[0;34m\u001b[0m\u001b[0;34m\u001b[0m\u001b[0m\n\u001b[0;32m---> 15\u001b[0;31m \u001b[0mmodel\u001b[0m \u001b[0;34m=\u001b[0m \u001b[0mxgb\u001b[0m\u001b[0;34m.\u001b[0m\u001b[0mtrain\u001b[0m\u001b[0;34m(\u001b[0m\u001b[0mparams\u001b[0m\u001b[0;34m,\u001b[0m \u001b[0mxgb_train\u001b[0m\u001b[0;34m,\u001b[0m \u001b[0mnum_round\u001b[0m\u001b[0;34m,\u001b[0m \u001b[0mwatchlist\u001b[0m\u001b[0;34m)\u001b[0m\u001b[0;34m\u001b[0m\u001b[0;34m\u001b[0m\u001b[0m\n\u001b[0m",
      "\u001b[0;32m~/.pyenv/versions/3.7.1/envs/base/lib/python3.7/site-packages/xgboost/training.py\u001b[0m in \u001b[0;36mtrain\u001b[0;34m(params, dtrain, num_boost_round, evals, obj, feval, maximize, early_stopping_rounds, evals_result, verbose_eval, xgb_model, callbacks)\u001b[0m\n\u001b[1;32m    207\u001b[0m                            \u001b[0mevals\u001b[0m\u001b[0;34m=\u001b[0m\u001b[0mevals\u001b[0m\u001b[0;34m,\u001b[0m\u001b[0;34m\u001b[0m\u001b[0;34m\u001b[0m\u001b[0m\n\u001b[1;32m    208\u001b[0m                            \u001b[0mobj\u001b[0m\u001b[0;34m=\u001b[0m\u001b[0mobj\u001b[0m\u001b[0;34m,\u001b[0m \u001b[0mfeval\u001b[0m\u001b[0;34m=\u001b[0m\u001b[0mfeval\u001b[0m\u001b[0;34m,\u001b[0m\u001b[0;34m\u001b[0m\u001b[0;34m\u001b[0m\u001b[0m\n\u001b[0;32m--> 209\u001b[0;31m                            xgb_model=xgb_model, callbacks=callbacks)\n\u001b[0m\u001b[1;32m    210\u001b[0m \u001b[0;34m\u001b[0m\u001b[0m\n\u001b[1;32m    211\u001b[0m \u001b[0;34m\u001b[0m\u001b[0m\n",
      "\u001b[0;32m~/.pyenv/versions/3.7.1/envs/base/lib/python3.7/site-packages/xgboost/training.py\u001b[0m in \u001b[0;36m_train_internal\u001b[0;34m(params, dtrain, num_boost_round, evals, obj, feval, xgb_model, callbacks)\u001b[0m\n\u001b[1;32m     72\u001b[0m         \u001b[0;31m# Skip the first update if it is a recovery step.\u001b[0m\u001b[0;34m\u001b[0m\u001b[0;34m\u001b[0m\u001b[0;34m\u001b[0m\u001b[0m\n\u001b[1;32m     73\u001b[0m         \u001b[0;32mif\u001b[0m \u001b[0mversion\u001b[0m \u001b[0;34m%\u001b[0m \u001b[0;36m2\u001b[0m \u001b[0;34m==\u001b[0m \u001b[0;36m0\u001b[0m\u001b[0;34m:\u001b[0m\u001b[0;34m\u001b[0m\u001b[0;34m\u001b[0m\u001b[0m\n\u001b[0;32m---> 74\u001b[0;31m             \u001b[0mbst\u001b[0m\u001b[0;34m.\u001b[0m\u001b[0mupdate\u001b[0m\u001b[0;34m(\u001b[0m\u001b[0mdtrain\u001b[0m\u001b[0;34m,\u001b[0m \u001b[0mi\u001b[0m\u001b[0;34m,\u001b[0m \u001b[0mobj\u001b[0m\u001b[0;34m)\u001b[0m\u001b[0;34m\u001b[0m\u001b[0;34m\u001b[0m\u001b[0m\n\u001b[0m\u001b[1;32m     75\u001b[0m             \u001b[0mbst\u001b[0m\u001b[0;34m.\u001b[0m\u001b[0msave_rabit_checkpoint\u001b[0m\u001b[0;34m(\u001b[0m\u001b[0;34m)\u001b[0m\u001b[0;34m\u001b[0m\u001b[0;34m\u001b[0m\u001b[0m\n\u001b[1;32m     76\u001b[0m             \u001b[0mversion\u001b[0m \u001b[0;34m+=\u001b[0m \u001b[0;36m1\u001b[0m\u001b[0;34m\u001b[0m\u001b[0;34m\u001b[0m\u001b[0m\n",
      "\u001b[0;32m~/.pyenv/versions/3.7.1/envs/base/lib/python3.7/site-packages/xgboost/core.py\u001b[0m in \u001b[0;36mupdate\u001b[0;34m(self, dtrain, iteration, fobj)\u001b[0m\n\u001b[1;32m   1247\u001b[0m             _check_call(_LIB.XGBoosterUpdateOneIter(self.handle,\n\u001b[1;32m   1248\u001b[0m                                                     \u001b[0mctypes\u001b[0m\u001b[0;34m.\u001b[0m\u001b[0mc_int\u001b[0m\u001b[0;34m(\u001b[0m\u001b[0miteration\u001b[0m\u001b[0;34m)\u001b[0m\u001b[0;34m,\u001b[0m\u001b[0;34m\u001b[0m\u001b[0;34m\u001b[0m\u001b[0m\n\u001b[0;32m-> 1249\u001b[0;31m                                                     dtrain.handle))\n\u001b[0m\u001b[1;32m   1250\u001b[0m         \u001b[0;32melse\u001b[0m\u001b[0;34m:\u001b[0m\u001b[0;34m\u001b[0m\u001b[0;34m\u001b[0m\u001b[0m\n\u001b[1;32m   1251\u001b[0m             \u001b[0mpred\u001b[0m \u001b[0;34m=\u001b[0m \u001b[0mself\u001b[0m\u001b[0;34m.\u001b[0m\u001b[0mpredict\u001b[0m\u001b[0;34m(\u001b[0m\u001b[0mdtrain\u001b[0m\u001b[0;34m,\u001b[0m \u001b[0mtraining\u001b[0m\u001b[0;34m=\u001b[0m\u001b[0;32mTrue\u001b[0m\u001b[0;34m)\u001b[0m\u001b[0;34m\u001b[0m\u001b[0;34m\u001b[0m\u001b[0m\n",
      "\u001b[0;32m~/.pyenv/versions/3.7.1/envs/base/lib/python3.7/site-packages/xgboost/core.py\u001b[0m in \u001b[0;36m_check_call\u001b[0;34m(ret)\u001b[0m\n\u001b[1;32m    187\u001b[0m     \"\"\"\n\u001b[1;32m    188\u001b[0m     \u001b[0;32mif\u001b[0m \u001b[0mret\u001b[0m \u001b[0;34m!=\u001b[0m \u001b[0;36m0\u001b[0m\u001b[0;34m:\u001b[0m\u001b[0;34m\u001b[0m\u001b[0;34m\u001b[0m\u001b[0m\n\u001b[0;32m--> 189\u001b[0;31m         \u001b[0;32mraise\u001b[0m \u001b[0mXGBoostError\u001b[0m\u001b[0;34m(\u001b[0m\u001b[0mpy_str\u001b[0m\u001b[0;34m(\u001b[0m\u001b[0m_LIB\u001b[0m\u001b[0;34m.\u001b[0m\u001b[0mXGBGetLastError\u001b[0m\u001b[0;34m(\u001b[0m\u001b[0;34m)\u001b[0m\u001b[0;34m)\u001b[0m\u001b[0;34m)\u001b[0m\u001b[0;34m\u001b[0m\u001b[0;34m\u001b[0m\u001b[0m\n\u001b[0m\u001b[1;32m    190\u001b[0m \u001b[0;34m\u001b[0m\u001b[0m\n\u001b[1;32m    191\u001b[0m \u001b[0;34m\u001b[0m\u001b[0m\n",
      "\u001b[0;31mXGBoostError\u001b[0m: [00:54:14] /private/var/folders/r3/1hhvx75j0bd4qcy9ng4_d1540000gn/T/pip-install-edftga4q/xgboost/xgboost/include/xgboost/gbm.h:166: XGBoost version not compiled with GPU support.\nStack trace:\n  [bt] (0) 1   libxgboost.dylib                    0x00000001204fd9e0 dmlc::LogMessageFatal::~LogMessageFatal() + 112\n  [bt] (1) 2   libxgboost.dylib                    0x00000001205752c2 xgboost::gbm::GBTree::ConfigureUpdaters() + 466\n  [bt] (2) 3   libxgboost.dylib                    0x0000000120574d75 xgboost::gbm::GBTree::Configure(std::__1::vector<std::__1::pair<std::__1::basic_string<char, std::__1::char_traits<char>, std::__1::allocator<char> >, std::__1::basic_string<char, std::__1::char_traits<char>, std::__1::allocator<char> > >, std::__1::allocator<std::__1::pair<std::__1::basic_string<char, std::__1::char_traits<char>, std::__1::allocator<char> >, std::__1::basic_string<char, std::__1::char_traits<char>, std::__1::allocator<char> > > > > const&) + 1237\n  [bt] (3) 4   libxgboost.dylib                    0x000000012058f003 xgboost::LearnerImpl::Configure() + 1427\n  [bt] (4) 5   libxgboost.dylib                    0x000000012058f459 xgboost::LearnerImpl::UpdateOneIter(int, xgboost::DMatrix*) + 121\n  [bt] (5) 6   libxgboost.dylib                    0x00000001204f6e8a XGBoosterUpdateOneIter + 122\n  [bt] (6) 7   _ctypes.cpython-37m-darwin.so       0x000000010de36e0f ffi_call_unix64 + 79\n  [bt] (7) 8   ???                                 0x00007ffee3b148b0 0x0 + 140732718467248\n\n"
     ]
    }
   ],
   "source": [
    "# 设置参数\n",
    "params = {\n",
    "    'objective': 'reg:linear',\n",
    "    'booster': 'gbtree',\n",
    "    'eta': '0.1',\n",
    "    'min_child_weight': 1,\n",
    "    'max_depth': 10,\n",
    "    'tree_method': 'gpu_hist'\n",
    "}\n",
    "# 训练轮数\n",
    "num_round = 10\n",
    "\n",
    "# 训练过程中加入实时输出评估结果\n",
    "watchlist = [(xgb_train, 'train'), (xgb_test, 'test')]\n",
    "model = xgb.train(params, xgb_train, num_round, watchlist)"
   ]
  },
  {
   "cell_type": "markdown",
   "metadata": {},
   "source": [
    "## 排序问题"
   ]
  },
  {
   "cell_type": "markdown",
   "metadata": {},
   "source": [
    "## 其他问题"
   ]
  },
  {
   "cell_type": "code",
   "execution_count": null,
   "metadata": {},
   "outputs": [],
   "source": []
  }
 ],
 "metadata": {
  "kernelspec": {
   "display_name": "Python 3",
   "language": "python",
   "name": "python3"
  },
  "language_info": {
   "codemirror_mode": {
    "name": "ipython",
    "version": 3
   },
   "file_extension": ".py",
   "mimetype": "text/x-python",
   "name": "python",
   "nbconvert_exporter": "python",
   "pygments_lexer": "ipython3",
   "version": "3.7.1"
  }
 },
 "nbformat": 4,
 "nbformat_minor": 2
}
