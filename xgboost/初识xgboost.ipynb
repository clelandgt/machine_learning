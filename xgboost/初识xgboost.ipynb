{
 "cells": [
  {
   "cell_type": "code",
   "execution_count": 1,
   "metadata": {},
   "outputs": [],
   "source": [
    "import xgboost as xgb"
   ]
  },
  {
   "cell_type": "markdown",
   "metadata": {},
   "source": [
    "## 蘑菇是否有毒"
   ]
  },
  {
   "cell_type": "code",
   "execution_count": 26,
   "metadata": {},
   "outputs": [
    {
     "name": "stdout",
     "output_type": "stream",
     "text": [
      "[08:24:24] 6513x127 matrix with 143286 entries loaded from agaricus.txt.train\n",
      "[08:24:24] 1611x127 matrix with 35442 entries loaded from agaricus.txt.test\n",
      "[0]\ttrain-error:0.00061\ttest-error:0.00000\n",
      "[1]\ttrain-error:0.00123\ttest-error:0.00000\n",
      "[2]\ttrain-error:0.00061\ttest-error:0.00000\n",
      "[3]\ttrain-error:0.00061\ttest-error:0.00000\n",
      "[4]\ttrain-error:0.00000\ttest-error:0.00000\n"
     ]
    }
   ],
   "source": [
    "# 数据读取\n",
    "dtrain = xgb.DMatrix('agaricus.txt.train')\n",
    "dtest = xgb.DMatrix('agaricus.txt.test')\n",
    "\n",
    "params = {\n",
    "    'objective': 'binary:logistic',\n",
    "    'booster': 'gbtree',\n",
    "    'max_depth': 50\n",
    "}\n",
    "\n",
    "# 训练轮数\n",
    "num_round = 5\n",
    "\n",
    "# 训练过程中加入实时输出评估结果\n",
    "watchlist = [(dtrain, 'train'), (dtest, 'test')]\n",
    "\n",
    "model = xgb.train(params, dtrain, num_round, watchlist)"
   ]
  },
  {
   "cell_type": "code",
   "execution_count": null,
   "metadata": {},
   "outputs": [],
   "source": []
  }
 ],
 "metadata": {
  "kernelspec": {
   "display_name": "Python 3",
   "language": "python",
   "name": "python3"
  },
  "language_info": {
   "codemirror_mode": {
    "name": "ipython",
    "version": 3
   },
   "file_extension": ".py",
   "mimetype": "text/x-python",
   "name": "python",
   "nbconvert_exporter": "python",
   "pygments_lexer": "ipython3",
   "version": "3.7.1"
  }
 },
 "nbformat": 4,
 "nbformat_minor": 2
}
