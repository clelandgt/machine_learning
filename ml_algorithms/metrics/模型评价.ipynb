{
 "cells": [
  {
   "cell_type": "markdown",
   "metadata": {},
   "source": [
    "下例为乳房癌的概率，通过多个角度评估模型。"
   ]
  },
  {
   "cell_type": "code",
   "execution_count": 7,
   "metadata": {},
   "outputs": [],
   "source": [
    "import pandas as pd\n",
    "from sklearn.datasets import load_breast_cancer\n",
    "from sklearn.model_selection import train_test_split\n",
    "from sklearn.preprocessing import StandardScaler\n",
    "from sklearn.neighbors import KNeighborsClassifier\n"
   ]
  },
  {
   "cell_type": "code",
   "execution_count": 14,
   "metadata": {},
   "outputs": [
    {
     "name": "stdout",
     "output_type": "stream",
     "text": [
      "准确率： \n",
      " 0.958041958041958\n"
     ]
    }
   ],
   "source": [
    "# 1)读取数据\n",
    "cancer = load_breast_cancer()\n",
    "\n",
    "# 2)数据集划分\n",
    "x_train, x_test, y_train, y_test = train_test_split(cancer.data, cancer.target)\n",
    "\n",
    "# 3)特征工程\n",
    "transformer = StandardScaler()\n",
    "x_train = transformer.fit_transform(x_train)\n",
    "x_test = transformer.fit_transform(x_test)\n",
    "\n",
    "# 4)KNN算法\n",
    "estimator = KNeighborsClassifier()\n",
    "estimator.fit(x_train, y_train)\n",
    "\n",
    "# 5)模型评估\n",
    "score = estimator.score(x_test, y_test)\n",
    "print(u\"准确率： \\n\", score)"
   ]
  },
  {
   "cell_type": "markdown",
   "metadata": {},
   "source": [
    "## 准确度\n",
    "accuracy = 正确的数据量 / 样本量\n",
    "\n"
   ]
  },
  {
   "cell_type": "code",
   "execution_count": 4,
   "metadata": {},
   "outputs": [],
   "source": [
    "\n"
   ]
  },
  {
   "cell_type": "code",
   "execution_count": null,
   "metadata": {},
   "outputs": [],
   "source": []
  },
  {
   "cell_type": "code",
   "execution_count": null,
   "metadata": {},
   "outputs": [],
   "source": []
  }
 ],
 "metadata": {
  "kernelspec": {
   "display_name": "Python 3",
   "language": "python",
   "name": "python3"
  },
  "language_info": {
   "codemirror_mode": {
    "name": "ipython",
    "version": 3
   },
   "file_extension": ".py",
   "mimetype": "text/x-python",
   "name": "python",
   "nbconvert_exporter": "python",
   "pygments_lexer": "ipython3",
   "version": "3.7.1"
  }
 },
 "nbformat": 4,
 "nbformat_minor": 2
}
