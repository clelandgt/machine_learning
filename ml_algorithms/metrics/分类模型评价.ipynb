{
 "cells": [
  {
   "cell_type": "markdown",
   "metadata": {},
   "source": [
    "下例为乳房癌的概率，通过多个角度评估模型。"
   ]
  },
  {
   "cell_type": "code",
   "execution_count": 1,
   "metadata": {},
   "outputs": [],
   "source": [
    "import pandas as pd\n",
    "from sklearn.datasets import load_breast_cancer\n",
    "from sklearn.model_selection import train_test_split\n",
    "from sklearn.preprocessing import StandardScaler\n",
    "from sklearn.linear_model import LogisticRegression\n"
   ]
  },
  {
   "cell_type": "code",
   "execution_count": 2,
   "metadata": {},
   "outputs": [
    {
     "name": "stdout",
     "output_type": "stream",
     "text": [
      "准确率： \n",
      " 0.958041958041958\n"
     ]
    },
    {
     "name": "stderr",
     "output_type": "stream",
     "text": [
      "/Users/cleland/.pyenv/versions/3.7.1/envs/base/lib/python3.7/site-packages/sklearn/linear_model/logistic.py:432: FutureWarning: Default solver will be changed to 'lbfgs' in 0.22. Specify a solver to silence this warning.\n",
      "  FutureWarning)\n"
     ]
    }
   ],
   "source": [
    "# 1)读取数据\n",
    "cancer = load_breast_cancer()\n",
    "\n",
    "# 2)数据集划分\n",
    "x_train, x_test, y_train, y_test = train_test_split(cancer.data, cancer.target)\n",
    "\n",
    "# 3)特征工程\n",
    "transformer = StandardScaler()\n",
    "x_train = transformer.fit_transform(x_train)\n",
    "x_test = transformer.fit_transform(x_test)\n",
    "\n",
    "# 4)KNN算法\n",
    "estimator = LogisticRegression()\n",
    "estimator.fit(x_train, y_train)\n",
    "\n",
    "# 5)模型评估\n",
    "score = estimator.score(x_test, y_test)\n",
    "print(u\"准确率： \\n\", score)\n",
    "y_predict = estimator.predict(x_test)"
   ]
  },
  {
   "cell_type": "markdown",
   "metadata": {},
   "source": [
    "## 准确度\n",
    "accuracy = 正确的数据量 / 样本量\n",
    "\n"
   ]
  },
  {
   "cell_type": "code",
   "execution_count": 3,
   "metadata": {},
   "outputs": [
    {
     "name": "stdout",
     "output_type": "stream",
     "text": [
      "准确率:  0.958041958041958\n",
      "sklearn 准确率:  0.958041958041958\n"
     ]
    }
   ],
   "source": [
    "def score(y_predict, y_ture):\n",
    "    return sum(y_predict == y_test) / y_ture.size\n",
    "\n",
    "print(u\"准确率: \", score(y_predict, y_test))\n",
    "print(u\"sklearn 准确率: \", estimator.score(x_test, y_test))"
   ]
  },
  {
   "cell_type": "markdown",
   "metadata": {},
   "source": [
    "## 混淆矩阵\n",
    "\n",
    "- 0 - Negative(阴性，消极)\n",
    "- 1 - Postive(阳性，积极)\n",
    "\n",
    "||预测值_0|预测值_1|\n",
    "|:--|:--|:--|\n",
    "|**真实值_0**|TN|FP|\n",
    "|**真实值_1**|FN|TP|\n"
   ]
  },
  {
   "cell_type": "code",
   "execution_count": 4,
   "metadata": {
    "scrolled": true
   },
   "outputs": [
    {
     "name": "stdout",
     "output_type": "stream",
     "text": [
      "TN:  53\n",
      "FN:  4\n",
      "FP:  2\n",
      "TP:  84\n",
      "sklearn 混淆矩阵: \n",
      " [[53  2]\n",
      " [ 4 84]]\n"
     ]
    }
   ],
   "source": [
    "def TN(y_predict, y_true):\n",
    "    return sum((y_predict == 0) & (y_true == 0))\n",
    "\n",
    "def FN(y_predict, y_true):\n",
    "    return sum((y_predict == 0) & (y_true == 1))\n",
    "\n",
    "def FP(y_predict, y_true):\n",
    "    return sum((y_predict == 1) & (y_true == 0))\n",
    "\n",
    "def TP(y_predict, y_true):\n",
    "    return sum((y_predict == 1) & (y_true == 1))\n",
    "\n",
    "print(\"TN: \", TN(y_predict, y_test))\n",
    "print(\"FN: \", FN(y_predict, y_test))\n",
    "print(\"FP: \", FP(y_predict, y_test))\n",
    "print(\"TP: \", TP(y_predict, y_test))\n",
    "\n",
    "\n",
    "from sklearn.metrics import confusion_matrix\n",
    "print(u'sklearn 混淆矩阵: \\n', confusion_matrix(y_test, y_predict))"
   ]
  },
  {
   "cell_type": "markdown",
   "metadata": {},
   "source": [
    "## 精确度\n",
    "$$\n",
    "\\text { precision }=\\frac{T P}{T P+F P}\n",
    "$$\n"
   ]
  },
  {
   "cell_type": "code",
   "execution_count": 5,
   "metadata": {},
   "outputs": [
    {
     "name": "stdout",
     "output_type": "stream",
     "text": [
      "精确率: \n",
      " 0.9767441860465116\n",
      "sklearn 精确度: \n",
      " 0.9767441860465116\n"
     ]
    }
   ],
   "source": [
    "def precision(y_predict, y_true):\n",
    "    result = 0.0\n",
    "    try:\n",
    "        result = TP(y_predict, y_true) / (TP(y_predict, y_true) +  FP(y_predict, y_true))\n",
    "    except ZeroDivisionError:\n",
    "        result = 0.0\n",
    "    return result\n",
    "\n",
    "print(u\"精确率: \\n\", precision(y_predict, y_test))\n",
    "\n",
    "from sklearn.metrics import precision_score\n",
    "print(u'sklearn 精确度: \\n', precision_score(y_test, y_predict))"
   ]
  },
  {
   "cell_type": "markdown",
   "metadata": {},
   "source": [
    "## 召回率\n",
    "\n",
    "$$\n",
    "\\text { recall }=\\frac{T P}{T P+F N}\n",
    "$$"
   ]
  },
  {
   "cell_type": "code",
   "execution_count": 6,
   "metadata": {},
   "outputs": [
    {
     "name": "stdout",
     "output_type": "stream",
     "text": [
      "召回率: \n",
      " 0.9545454545454546\n",
      "sklearn 召回率: \n",
      " 0.9545454545454546\n"
     ]
    }
   ],
   "source": [
    "def recall(y_predict, y_true):\n",
    "    result = 0.0\n",
    "    try:\n",
    "        result = TP(y_predict, y_true) / (TP(y_predict, y_true) +  FN(y_predict, y_true))\n",
    "    except ZeroDivisionError:\n",
    "        result = 0.0\n",
    "    return result\n",
    "\n",
    "print(u\"召回率: \\n\", recall(y_predict, y_test))\n",
    "\n",
    "from sklearn.metrics import recall_score\n",
    "print(u'sklearn 召回率: \\n', recall_score(y_test, y_predict))"
   ]
  },
  {
   "cell_type": "markdown",
   "metadata": {},
   "source": [
    "## F1 Score\n",
    "\n",
    "$$\n",
    "F 1=\\frac{2 \\cdot \\text { precision } \\cdot \\text { recall }}{\\text { precision }+\\text { recall }}\n",
    "$$"
   ]
  },
  {
   "cell_type": "code",
   "execution_count": 7,
   "metadata": {},
   "outputs": [
    {
     "name": "stdout",
     "output_type": "stream",
     "text": [
      "F1 Score: \n",
      " 0.9655172413793104\n",
      "sklearn F1 Score: \n",
      " 0.9655172413793104\n"
     ]
    }
   ],
   "source": [
    "def f1(y_predict, y_true):\n",
    "    precision_score = precision(y_predict, y_true)\n",
    "    recall_score = recall(y_predict, y_true)\n",
    "    result = 0.0\n",
    "    try:\n",
    "        result = (2 * precision_score * recall_score) / (precision_score + recall_score)\n",
    "    except ZeroDivisionError:\n",
    "        result = 0.0\n",
    "    return result\n",
    "\n",
    "print(u\"F1 Score: \\n\", f1(y_predict, y_test))\n",
    "\n",
    "from sklearn.metrics import f1_score\n",
    "print(u'sklearn F1 Score: \\n', f1_score(y_test, y_predict))\n"
   ]
  },
  {
   "cell_type": "markdown",
   "metadata": {},
   "source": [
    "## 平衡精确率与召回率"
   ]
  },
  {
   "cell_type": "code",
   "execution_count": 8,
   "metadata": {},
   "outputs": [],
   "source": [
    "decision_scores = estimator.decision_function(x_test)"
   ]
  },
  {
   "cell_type": "markdown",
   "metadata": {},
   "source": [
    "### 自己绘制准确率与召回率的关系"
   ]
  },
  {
   "cell_type": "code",
   "execution_count": 9,
   "metadata": {},
   "outputs": [],
   "source": [
    "import numpy as np\n",
    "import pandas as pd\n",
    "import matplotlib.pyplot as plt\n",
    "from sklearn.metrics import precision_score\n",
    "from sklearn.metrics import recall_score\n",
    "\n",
    "precisions = []\n",
    "recalls = []\n",
    "steps = np.arange(np.min(decision_scores), np.max(decision_scores), 0.1)\n",
    "for step in steps:\n",
    "    y_predict = np.array(decision_scores >= step, dtype='int')\n",
    "    precisions.append(precision_score(y_test, y_predict))\n",
    "    recalls.append(recall_score(y_test, y_predict))\n"
   ]
  },
  {
   "cell_type": "code",
   "execution_count": 10,
   "metadata": {},
   "outputs": [
    {
     "data": {
      "image/png": "[encoded data removed]",
      "text/plain": [
       "<Figure size 432x288 with 1 Axes>"
      ]
     },
     "metadata": {
      "needs_background": "light"
     },
     "output_type": "display_data"
    }
   ],
   "source": [
    "plt.plot(steps, precisions, label='precisions')\n",
    "plt.plot(steps, recalls, label='precisions')\n",
    "plt.legend(loc='lower left')\n",
    "plt.show()"
   ]
  },
  {
   "cell_type": "code",
   "execution_count": 11,
   "metadata": {},
   "outputs": [
    {
     "data": {
      "image/png": "[encoded data removed]",
      "text/plain": [
       "<Figure size 432x288 with 1 Axes>"
      ]
     },
     "metadata": {
      "needs_background": "light"
     },
     "output_type": "display_data"
    }
   ],
   "source": [
    "plt.plot(precisions, recalls)\n",
    "plt.show()"
   ]
  },
  {
   "cell_type": "markdown",
   "metadata": {},
   "source": [
    "## sklearn"
   ]
  },
  {
   "cell_type": "code",
   "execution_count": 12,
   "metadata": {},
   "outputs": [
    {
     "name": "stdout",
     "output_type": "stream",
     "text": [
      "precisions (93,)\n",
      "recalls (93,)\n",
      "steps (92,)\n"
     ]
    }
   ],
   "source": [
    "from sklearn.metrics import precision_recall_curve\n",
    "precisions, recalls, steps = precision_recall_curve(y_test, decision_scores)\n",
    "\n",
    "print('precisions', precisions.shape)\n",
    "print('recalls', recalls.shape)\n",
    "print('steps', steps.shape)"
   ]
  },
  {
   "cell_type": "code",
   "execution_count": 13,
   "metadata": {},
   "outputs": [
    {
     "data": {
      "image/png": "[encoded data removed]",
      "text/plain": [
       "<Figure size 432x288 with 1 Axes>"
      ]
     },
     "metadata": {
      "needs_background": "light"
     },
     "output_type": "display_data"
    }
   ],
   "source": [
    "plt.plot(steps, precisions[:-1], label='precisions')\n",
    "plt.plot(steps, recalls[:-1], label='recalls')\n",
    "plt.legend(loc='lower left')\n",
    "plt.show()"
   ]
  },
  {
   "cell_type": "markdown",
   "metadata": {},
   "source": [
    "## ROC\n",
    "\n",
    "$$\n",
    "T P R=\\frac{T P}{T P+F N}\n",
    "$$\n",
    "\n",
    "$$\n",
    "F P R=\\frac{F P}{T N+F P}\n",
    "$$"
   ]
  },
  {
   "cell_type": "code",
   "execution_count": 18,
   "metadata": {},
   "outputs": [
    {
     "data": {
      "image/png": "[encoded data removed]",
      "text/plain": [
       "<Figure size 432x288 with 1 Axes>"
      ]
     },
     "metadata": {
      "needs_background": "light"
     },
     "output_type": "display_data"
    }
   ],
   "source": [
    "from sklearn.metrics import roc_curve\n",
    "\n",
    "fprs, tprs, steps = roc_curve(y_test, decision_scores)\n",
    "plt.plot(fprs, tprs)\n",
    "plt.show()"
   ]
  },
  {
   "cell_type": "code",
   "execution_count": null,
   "metadata": {},
   "outputs": [],
   "source": []
  }
 ],
 "metadata": {
  "kernelspec": {
   "display_name": "Python 3",
   "language": "python",
   "name": "python3"
  },
  "language_info": {
   "codemirror_mode": {
    "name": "ipython",
    "version": 3
   },
   "file_extension": ".py",
   "mimetype": "text/x-python",
   "name": "python",
   "nbconvert_exporter": "python",
   "pygments_lexer": "ipython3",
   "version": "3.7.1"
  }
 },
 "nbformat": 4,
 "nbformat_minor": 2
}
