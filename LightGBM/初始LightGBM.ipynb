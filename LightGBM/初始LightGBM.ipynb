{
 "cells": [
  {
   "cell_type": "code",
   "execution_count": 2,
   "metadata": {
    "ExecuteTime": {
     "end_time": "2020-05-13T00:11:42.113500Z",
     "start_time": "2020-05-13T00:11:41.733325Z"
    }
   },
   "outputs": [],
   "source": [
    "import datetime\n",
    "import numpy as np\n",
    "import pandas as pd\n",
    "import lightgbm as lgb\n",
    "from sklearn import datasets\n",
    "from sklearn.model_selection import train_test_split\n",
    "from sklearn.metrics import accuracy_score"
   ]
  },
  {
   "cell_type": "markdown",
   "metadata": {},
   "source": [
    "## 线性回归"
   ]
  },
  {
   "cell_type": "code",
   "execution_count": 47,
   "metadata": {
    "ExecuteTime": {
     "end_time": "2020-05-13T00:29:04.831516Z",
     "start_time": "2020-05-13T00:29:04.819099Z"
    }
   },
   "outputs": [],
   "source": [
    "# 加载数据\n",
    "breast = datasets.load_breast_cancer()\n",
    "data = pd.DataFrame(breast.data,columns = [x.replace(' ','_') for x in breast.feature_names])\n",
    "data['label']  = breast.target"
   ]
  },
  {
   "cell_type": "code",
   "execution_count": 50,
   "metadata": {
    "ExecuteTime": {
     "end_time": "2020-05-13T00:32:00.292782Z",
     "start_time": "2020-05-13T00:32:00.287822Z"
    }
   },
   "outputs": [],
   "source": [
    "# 特征工程\n",
    "dftrain,dftest = train_test_split(data)\n",
    "categorical_features = ['mean_radius','mean_texture']\n",
    "lgb_train = lgb.Dataset(dftrain.drop(['label'],axis = 1),label=dftrain['label'],\n",
    "                        categorical_feature = categorical_features)\n",
    "\n",
    "lgb_valid = lgb.Dataset(dftest.drop(['label'],axis = 1),label=dftest['label'],\n",
    "                        categorical_feature = categorical_features,\n",
    "                        reference=lgb_train)\n"
   ]
  },
  {
   "cell_type": "code",
   "execution_count": 51,
   "metadata": {
    "ExecuteTime": {
     "end_time": "2020-05-13T00:32:01.560410Z",
     "start_time": "2020-05-13T00:32:01.557964Z"
    }
   },
   "outputs": [],
   "source": [
    "# 设置参数\n",
    "boost_round = 20                 \n",
    "early_stop_rounds = 10\n",
    "params = {\n",
    "    'boosting_type': 'gbdt',\n",
    "    'objective':'binary',\n",
    "    'metric': ['auc'],\n",
    "    'num_leaves': 31,   \n",
    "    'learning_rate': 0.05,\n",
    "    'feature_fraction': 0.9,\n",
    "    'bagging_fraction': 0.8,\n",
    "    'bagging_freq': 5,\n",
    "    'verbose': 0\n",
    "}"
   ]
  },
  {
   "cell_type": "code",
   "execution_count": 52,
   "metadata": {
    "ExecuteTime": {
     "end_time": "2020-05-13T00:32:02.737013Z",
     "start_time": "2020-05-13T00:32:02.608635Z"
    }
   },
   "outputs": [
    {
     "name": "stdout",
     "output_type": "stream",
     "text": [
      "[1]\ttrain's auc: 0.987252\tvalidate's auc: 0.969713\n",
      "Training until validation scores don't improve for 10 rounds\n",
      "[2]\ttrain's auc: 0.989725\tvalidate's auc: 0.97525\n",
      "[3]\ttrain's auc: 0.992034\tvalidate's auc: 0.981763\n",
      "[4]\ttrain's auc: 0.992734\tvalidate's auc: 0.980243\n",
      "[5]\ttrain's auc: 0.992279\tvalidate's auc: 0.979375\n",
      "[6]\ttrain's auc: 0.993154\tvalidate's auc: 0.979049\n",
      "[7]\ttrain's auc: 0.993503\tvalidate's auc: 0.978941\n",
      "[8]\ttrain's auc: 0.99439\tvalidate's auc: 0.978289\n",
      "[9]\ttrain's auc: 0.994693\tvalidate's auc: 0.979266\n",
      "[10]\ttrain's auc: 0.995358\tvalidate's auc: 0.9797\n",
      "[11]\ttrain's auc: 0.995428\tvalidate's auc: 0.980352\n",
      "[12]\ttrain's auc: 0.995451\tvalidate's auc: 0.98122\n",
      "[13]\ttrain's auc: 0.995591\tvalidate's auc: 0.98122\n",
      "Early stopping, best iteration is:\n",
      "[3]\ttrain's auc: 0.992034\tvalidate's auc: 0.981763\n"
     ]
    },
    {
     "name": "stderr",
     "output_type": "stream",
     "text": [
      "/home/cleland/miniconda3/lib/python3.7/site-packages/lightgbm/basic.py:1243: UserWarning: Using categorical_feature in Dataset.\n",
      "  warnings.warn('Using categorical_feature in Dataset.')\n"
     ]
    }
   ],
   "source": [
    "# 训练模型 \n",
    "results = {}\n",
    "gbm = lgb.train(\n",
    "    params,\n",
    "    lgb_train,\n",
    "    num_boost_round= boost_round,\n",
    "    valid_sets=(lgb_valid, lgb_train),\n",
    "    valid_names=('validate','train'),\n",
    "    early_stopping_rounds=early_stop_rounds,\n",
    "    evals_result= results\n",
    ")\n"
   ]
  },
  {
   "cell_type": "code",
   "execution_count": null,
   "metadata": {},
   "outputs": [],
   "source": []
  }
 ],
 "metadata": {
  "kernelspec": {
   "display_name": "Python 3",
   "language": "python",
   "name": "python3"
  },
  "language_info": {
   "codemirror_mode": {
    "name": "ipython",
    "version": 3
   },
   "file_extension": ".py",
   "mimetype": "text/x-python",
   "name": "python",
   "nbconvert_exporter": "python",
   "pygments_lexer": "ipython3",
   "version": "3.7.6"
  },
  "toc": {
   "base_numbering": 1,
   "nav_menu": {},
   "number_sections": true,
   "sideBar": true,
   "skip_h1_title": false,
   "title_cell": "Table of Contents",
   "title_sidebar": "Contents",
   "toc_cell": false,
   "toc_position": {},
   "toc_section_display": true,
   "toc_window_display": false
  }
 },
 "nbformat": 4,
 "nbformat_minor": 4
}
